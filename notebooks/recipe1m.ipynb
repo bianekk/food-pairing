{
 "cells": [
  {
   "cell_type": "code",
   "execution_count": 4,
   "metadata": {},
   "outputs": [],
   "source": [
    "import os\n",
    "if os.path.basename(os.getcwd()) != 'food-pairing':\n",
    "    os.chdir(os.path.dirname(os.getcwd()))\n",
    "\n",
    "import re\n",
    "import string\n",
    "import json\n",
    "import pandas as pd\n",
    "from tqdm import tqdm \n",
    "\n",
    "from utils.data_loading import read_recipes"
   ]
  },
  {
   "attachments": {},
   "cell_type": "markdown",
   "metadata": {},
   "source": [
    "## Loading and cleaning up data\n",
    "___"
   ]
  },
  {
   "cell_type": "code",
   "execution_count": null,
   "metadata": {},
   "outputs": [],
   "source": [
    "# reading Recipe1M data \n",
    "# d return a list of recipes, where each object is a dictionary containg recipe text, ingredients etc.\n",
    "with open('data/recipe1M/layer1.json') as f:\n",
    "    d = json.load(f)"
   ]
  },
  {
   "cell_type": "code",
   "execution_count": 3,
   "metadata": {},
   "outputs": [],
   "source": [
    "with open('data/recipe1M/response.json') as f:\n",
    "    d = json.load(f)"
   ]
  },
  {
   "cell_type": "code",
   "execution_count": 19,
   "metadata": {},
   "outputs": [],
   "source": [
    "ingredients = d[0]['ingredients']"
   ]
  },
  {
   "cell_type": "code",
   "execution_count": 20,
   "metadata": {},
   "outputs": [
    {
     "data": {
      "text/plain": [
       "[{'text': 'penne'},\n",
       " {'text': 'cheese sauce'},\n",
       " {'text': 'cheddar cheese'},\n",
       " {'text': 'gruyere cheese'},\n",
       " {'text': 'dried chipotle powder'},\n",
       " {'text': 'unsalted butter'},\n",
       " {'text': 'all - purpose flour'},\n",
       " {'text': 'milk'},\n",
       " {'text': '14 ounces semihard cheese (page 23), grated (about 3 1/2 cups)'},\n",
       " {'text': '2 ounces semisoft cheese (page 23), grated (1/2 cup)'},\n",
       " {'text': 'kosher salt'},\n",
       " {'text': 'dried chipotle powder'},\n",
       " {'text': 'garlic powder'},\n",
       " {'text': '(makes about 4 cups)'}]"
      ]
     },
     "execution_count": 20,
     "metadata": {},
     "output_type": "execute_result"
    }
   ],
   "source": [
    "ingredients"
   ]
  },
  {
   "cell_type": "code",
   "execution_count": 21,
   "metadata": {},
   "outputs": [],
   "source": [
    "ingredients = [list(x.values())[0] for x in ingredients]"
   ]
  },
  {
   "cell_type": "code",
   "execution_count": 22,
   "metadata": {},
   "outputs": [
    {
     "data": {
      "text/plain": [
       "['penne',\n",
       " 'cheese sauce',\n",
       " 'cheddar cheese',\n",
       " 'gruyere cheese',\n",
       " 'dried chipotle powder',\n",
       " 'unsalted butter',\n",
       " 'all - purpose flour',\n",
       " 'milk',\n",
       " '14 ounces semihard cheese (page 23), grated (about 3 1/2 cups)',\n",
       " '2 ounces semisoft cheese (page 23), grated (1/2 cup)',\n",
       " 'kosher salt',\n",
       " 'dried chipotle powder',\n",
       " 'garlic powder',\n",
       " '(makes about 4 cups)']"
      ]
     },
     "execution_count": 22,
     "metadata": {},
     "output_type": "execute_result"
    }
   ],
   "source": [
    "(ingredients)"
   ]
  },
  {
   "cell_type": "code",
   "execution_count": 23,
   "metadata": {},
   "outputs": [
    {
     "name": "stderr",
     "output_type": "stream",
     "text": [
      "100%|██████████| 1029720/1029720 [00:06<00:00, 170097.59it/s]\n"
     ]
    }
   ],
   "source": [
    "id = []\n",
    "ingredients = []\n",
    "\n",
    "# Looping through and appending the values to a newly created list \n",
    "for attr in tqdm(d):\n",
    "  id.append(attr['id'])\n",
    "  raw_ingredients = attr['ingredients']\n",
    "  ingredients.append([list(x.values())[0] for x in raw_ingredients])"
   ]
  },
  {
   "cell_type": "code",
   "execution_count": 24,
   "metadata": {},
   "outputs": [
    {
     "data": {
      "text/html": [
       "<div>\n",
       "<style scoped>\n",
       "    .dataframe tbody tr th:only-of-type {\n",
       "        vertical-align: middle;\n",
       "    }\n",
       "\n",
       "    .dataframe tbody tr th {\n",
       "        vertical-align: top;\n",
       "    }\n",
       "\n",
       "    .dataframe thead th {\n",
       "        text-align: right;\n",
       "    }\n",
       "</style>\n",
       "<table border=\"1\" class=\"dataframe\">\n",
       "  <thead>\n",
       "    <tr style=\"text-align: right;\">\n",
       "      <th></th>\n",
       "      <th>ID</th>\n",
       "      <th>Ingredients</th>\n",
       "    </tr>\n",
       "  </thead>\n",
       "  <tbody>\n",
       "    <tr>\n",
       "      <th>0</th>\n",
       "      <td>000018c8a5</td>\n",
       "      <td>[penne, cheese sauce, cheddar cheese, gruyere ...</td>\n",
       "    </tr>\n",
       "    <tr>\n",
       "      <th>1</th>\n",
       "      <td>000033e39b</td>\n",
       "      <td>[elbow macaroni, American cheese, celery, gree...</td>\n",
       "    </tr>\n",
       "    <tr>\n",
       "      <th>2</th>\n",
       "      <td>000035f7ed</td>\n",
       "      <td>[tomatoes, kosher salt, red onion, green bell ...</td>\n",
       "    </tr>\n",
       "  </tbody>\n",
       "</table>\n",
       "</div>"
      ],
      "text/plain": [
       "           ID                                        Ingredients\n",
       "0  000018c8a5  [penne, cheese sauce, cheddar cheese, gruyere ...\n",
       "1  000033e39b  [elbow macaroni, American cheese, celery, gree...\n",
       "2  000035f7ed  [tomatoes, kosher salt, red onion, green bell ..."
      ]
     },
     "execution_count": 24,
     "metadata": {},
     "output_type": "execute_result"
    }
   ],
   "source": [
    "recipe_data = {'ID': id , 'Ingredients': ingredients}\n",
    "recipe_df = pd.DataFrame(recipe_data)\n",
    "recipe_df.head(3)"
   ]
  },
  {
   "cell_type": "code",
   "execution_count": 25,
   "metadata": {},
   "outputs": [],
   "source": [
    "recipe_df.to_csv('recipe_ingredients.csv', sep=';', index=None)"
   ]
  },
  {
   "cell_type": "code",
   "execution_count": 26,
   "metadata": {},
   "outputs": [
    {
     "name": "stdout",
     "output_type": "stream",
     "text": [
      "                                              Ingredient  \\\n",
      "0                                                  penne   \n",
      "1                                           cheese sauce   \n",
      "2                                         cheddar cheese   \n",
      "3                                         gruyere cheese   \n",
      "4                                  dried chipotle powder   \n",
      "...                                                  ...   \n",
      "170527                    1 packages cranberries (12 oz)   \n",
      "170528      12 ounces, weight Monterey Jack Cheese Cubed   \n",
      "170529                               1 ENCHILADA FILLING   \n",
      "170530                                        1 TOPPINGS   \n",
      "170531  15 prawns, or more to taste, peeled and deveined   \n",
      "\n",
      "                                                      IDs  \n",
      "0       [000018c8a5, 006a7c00c4, 00ab15a16a, 00b7ee800...  \n",
      "1       [000018c8a5, 008ae190f6, 0151eb1521, 017dd0a21...  \n",
      "2       [000018c8a5, 00003a70b1, 00010c7867, 000c3fbb3...  \n",
      "3       [000018c8a5, 0048d5de55, 006337a42a, 0090963a0...  \n",
      "4       [000018c8a5, 000018c8a5, 006b0a8758, 009aa605e...  \n",
      "...                                                   ...  \n",
      "170527                                       [fffbc427c5]  \n",
      "170528                                       [fffd2dd180]  \n",
      "170529                                       [fffd50137d]  \n",
      "170530                                       [fffd50137d]  \n",
      "170531                                       [fffe89ea7e]  \n",
      "\n",
      "[170532 rows x 2 columns]\n"
     ]
    }
   ],
   "source": [
    "ingredient_dict = {}\n",
    "\n",
    "# Iterate over each row in the original DataFrame\n",
    "for index, row in recipe_df.iterrows():\n",
    "    recipe = row['ID']\n",
    "    ingredients = row['Ingredients']\n",
    "    \n",
    "    # Iterate over each ingredient in the ingredients list\n",
    "    for ingredient in ingredients:\n",
    "        # If the ingredient is already in the dictionary, append the recipe to its list of occurrences\n",
    "        if ingredient in ingredient_dict:\n",
    "            ingredient_dict[ingredient].append(recipe)\n",
    "        # If the ingredient is not in the dictionary, create a new entry with the recipe\n",
    "        else:\n",
    "            ingredient_dict[ingredient] = [recipe]\n",
    "\n",
    "# Convert the ingredient dictionary to a DataFrame\n",
    "switched_df = pd.DataFrame(ingredient_dict.items(), columns=['Ingredient', 'IDs'])\n",
    "\n",
    "# Print the switched DataFrame\n",
    "print(switched_df)"
   ]
  },
  {
   "cell_type": "code",
   "execution_count": 49,
   "metadata": {},
   "outputs": [],
   "source": [
    "switched_df.to_csv('data/ingredients.csv', sep=';', index=None)"
   ]
  },
  {
   "cell_type": "code",
   "execution_count": 38,
   "metadata": {},
   "outputs": [],
   "source": [
    "import numpy as np\n",
    "\n",
    "def remove_singles(lst):\n",
    "    if len(lst) > 1:\n",
    "        return lst\n",
    "    else:\n",
    "        return np.NaN"
   ]
  },
  {
   "cell_type": "code",
   "execution_count": 44,
   "metadata": {},
   "outputs": [],
   "source": [
    "switched_df['IDs'] = switched_df['IDs'].apply(remove_singles)"
   ]
  },
  {
   "cell_type": "code",
   "execution_count": 45,
   "metadata": {},
   "outputs": [],
   "source": [
    "switched_df.dropna(subset=['IDs'], how='all', inplace=True)"
   ]
  },
  {
   "cell_type": "code",
   "execution_count": 48,
   "metadata": {},
   "outputs": [
    {
     "data": {
      "text/html": [
       "<div>\n",
       "<style scoped>\n",
       "    .dataframe tbody tr th:only-of-type {\n",
       "        vertical-align: middle;\n",
       "    }\n",
       "\n",
       "    .dataframe tbody tr th {\n",
       "        vertical-align: top;\n",
       "    }\n",
       "\n",
       "    .dataframe thead th {\n",
       "        text-align: right;\n",
       "    }\n",
       "</style>\n",
       "<table border=\"1\" class=\"dataframe\">\n",
       "  <thead>\n",
       "    <tr style=\"text-align: right;\">\n",
       "      <th></th>\n",
       "      <th>Ingredient</th>\n",
       "      <th>IDs</th>\n",
       "    </tr>\n",
       "  </thead>\n",
       "  <tbody>\n",
       "    <tr>\n",
       "      <th>0</th>\n",
       "      <td>penne</td>\n",
       "      <td>[000018c8a5, 006a7c00c4, 00ab15a16a, 00b7ee800...</td>\n",
       "    </tr>\n",
       "    <tr>\n",
       "      <th>1</th>\n",
       "      <td>cheese sauce</td>\n",
       "      <td>[000018c8a5, 008ae190f6, 0151eb1521, 017dd0a21...</td>\n",
       "    </tr>\n",
       "    <tr>\n",
       "      <th>2</th>\n",
       "      <td>cheddar cheese</td>\n",
       "      <td>[000018c8a5, 00003a70b1, 00010c7867, 000c3fbb3...</td>\n",
       "    </tr>\n",
       "    <tr>\n",
       "      <th>3</th>\n",
       "      <td>gruyere cheese</td>\n",
       "      <td>[000018c8a5, 0048d5de55, 006337a42a, 0090963a0...</td>\n",
       "    </tr>\n",
       "    <tr>\n",
       "      <th>4</th>\n",
       "      <td>dried chipotle powder</td>\n",
       "      <td>[000018c8a5, 000018c8a5, 006b0a8758, 009aa605e...</td>\n",
       "    </tr>\n",
       "    <tr>\n",
       "      <th>...</th>\n",
       "      <td>...</td>\n",
       "      <td>...</td>\n",
       "    </tr>\n",
       "    <tr>\n",
       "      <th>167251</th>\n",
       "      <td>16 each carrot curls Target 2 lb For $3.00 thr...</td>\n",
       "      <td>[f9efef9e53, ffa49a7012]</td>\n",
       "    </tr>\n",
       "    <tr>\n",
       "      <th>167421</th>\n",
       "      <td>strawberry vinaigrette</td>\n",
       "      <td>[fa36a5829a, ff87a39bca]</td>\n",
       "    </tr>\n",
       "    <tr>\n",
       "      <th>167482</th>\n",
       "      <td>1 can undrained mushrooms</td>\n",
       "      <td>[fa59e3c880, fef60cd84d]</td>\n",
       "    </tr>\n",
       "    <tr>\n",
       "      <th>167905</th>\n",
       "      <td>1 cup cajeta</td>\n",
       "      <td>[fb1e094375, fe791ba1cc]</td>\n",
       "    </tr>\n",
       "    <tr>\n",
       "      <th>167916</th>\n",
       "      <td>10 baby carrot fingers</td>\n",
       "      <td>[fb237e7b8f, feba8b2750]</td>\n",
       "    </tr>\n",
       "  </tbody>\n",
       "</table>\n",
       "<p>33343 rows × 2 columns</p>\n",
       "</div>"
      ],
      "text/plain": [
       "                                               Ingredient  \\\n",
       "0                                                   penne   \n",
       "1                                            cheese sauce   \n",
       "2                                          cheddar cheese   \n",
       "3                                          gruyere cheese   \n",
       "4                                   dried chipotle powder   \n",
       "...                                                   ...   \n",
       "167251  16 each carrot curls Target 2 lb For $3.00 thr...   \n",
       "167421                             strawberry vinaigrette   \n",
       "167482                          1 can undrained mushrooms   \n",
       "167905                                       1 cup cajeta   \n",
       "167916                             10 baby carrot fingers   \n",
       "\n",
       "                                                      IDs  \n",
       "0       [000018c8a5, 006a7c00c4, 00ab15a16a, 00b7ee800...  \n",
       "1       [000018c8a5, 008ae190f6, 0151eb1521, 017dd0a21...  \n",
       "2       [000018c8a5, 00003a70b1, 00010c7867, 000c3fbb3...  \n",
       "3       [000018c8a5, 0048d5de55, 006337a42a, 0090963a0...  \n",
       "4       [000018c8a5, 000018c8a5, 006b0a8758, 009aa605e...  \n",
       "...                                                   ...  \n",
       "167251                           [f9efef9e53, ffa49a7012]  \n",
       "167421                           [fa36a5829a, ff87a39bca]  \n",
       "167482                           [fa59e3c880, fef60cd84d]  \n",
       "167905                           [fb1e094375, fe791ba1cc]  \n",
       "167916                           [fb237e7b8f, feba8b2750]  \n",
       "\n",
       "[33343 rows x 2 columns]"
      ]
     },
     "execution_count": 48,
     "metadata": {},
     "output_type": "execute_result"
    }
   ],
   "source": [
    "switched_df.head(-5)"
   ]
  },
  {
   "attachments": {},
   "cell_type": "markdown",
   "metadata": {},
   "source": [
    "## Cleaning foods\n",
    "___"
   ]
  },
  {
   "cell_type": "code",
   "execution_count": 2,
   "metadata": {},
   "outputs": [],
   "source": [
    "recipe_df = read_recipes()"
   ]
  },
  {
   "cell_type": "code",
   "execution_count": 5,
   "metadata": {},
   "outputs": [],
   "source": [
    "TRASH_WORDS = ['can', 'cup', 'lb.', 'frozen', 'cooked', 'package', 'ounce', 'ounces',\n",
    "               'pounds', 'pound', 'sm', 'teaspoon', 'teaspoons', 'spoon', 'spoons', 'fl',\n",
    "               'oz', 'medium', 'bottle']"
   ]
  },
  {
   "cell_type": "code",
   "execution_count": 14,
   "metadata": {},
   "outputs": [],
   "source": [
    "def remove_numbers_and_specific_words(sentence):\n",
    "    # Remove numbers\n",
    "    if type(sentence) == str:\n",
    "        sentence = re.sub(r'\\d+', '', sentence)\n",
    "        sentence = sentence.translate(str.maketrans('', '', string.punctuation))\n",
    "        # Remove specific words\n",
    "        for word in TRASH_WORDS:\n",
    "            sentence = sentence.replace(word, '')\n",
    "        \n",
    "    return sentence"
   ]
  },
  {
   "cell_type": "code",
   "execution_count": 15,
   "metadata": {},
   "outputs": [
    {
     "data": {
      "text/plain": [
       "0                                 penne\n",
       "1                          cheese sauce\n",
       "2                        cheddar cheese\n",
       "3                        gruyere cheese\n",
       "4                 dried chipotle powder\n",
       "                      ...              \n",
       "33343                         tbsp reto\n",
       "33344                  prepared pudding\n",
       "33345         M  Ms peanut chocolate dy\n",
       "33346     s Cleaned Dried Pumpkin Seeds\n",
       "33347                     Makes about  \n",
       "Name: Ingredient, Length: 33348, dtype: object"
      ]
     },
     "execution_count": 15,
     "metadata": {},
     "output_type": "execute_result"
    }
   ],
   "source": [
    "recipe_df['Ingredient'].apply(remove_numbers_and_specific_words)"
   ]
  }
 ],
 "metadata": {
  "kernelspec": {
   "display_name": "Python 3",
   "language": "python",
   "name": "python3"
  },
  "language_info": {
   "codemirror_mode": {
    "name": "ipython",
    "version": 3
   },
   "file_extension": ".py",
   "mimetype": "text/x-python",
   "name": "python",
   "nbconvert_exporter": "python",
   "pygments_lexer": "ipython3",
   "version": "3.11.6"
  },
  "orig_nbformat": 4
 },
 "nbformat": 4,
 "nbformat_minor": 2
}
