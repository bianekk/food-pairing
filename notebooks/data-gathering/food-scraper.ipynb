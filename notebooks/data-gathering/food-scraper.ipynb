{
 "cells": [
  {
   "cell_type": "code",
   "execution_count": null,
   "metadata": {},
   "outputs": [],
   "source": [
    "# for basic data science\n",
    "import pandas as pd\n",
    "import numpy as np\n",
    "import matplotlib.pyplot as plt\n",
    "import xmltodict\n",
    "import json\n",
    "\n",
    "# for downloading files off the internet\n",
    "import urllib.request\n",
    "import json\n",
    "import time\n",
    "import os\n",
    "if os.path.basename(os.getcwd()) != 'food-pairing':\n",
    "    os.chdir(os.path.dirname(os.getcwd()))\n",
    "\n",
    "# for network graphs\n",
    "from colour import Color\n",
    "from matplotlib.collections import LineCollection\n",
    "import networkx as nx\n",
    "import mpld3\n",
    "\n",
    "import requests\n",
    "import json\n",
    "from bs4 import BeautifulSoup\n",
    "import html_to_json\n",
    "from tqdm import tqdm"
   ]
  },
  {
   "cell_type": "code",
   "execution_count": null,
   "metadata": {},
   "outputs": [],
   "source": [
    "def flavordb_entity_url(x):\n",
    "    return \"https://foodb.ca/foods/\"+str(x)"
   ]
  },
  {
   "cell_type": "code",
   "execution_count": null,
   "metadata": {},
   "outputs": [],
   "source": [
    "entities = pd.read_csv('foodb/Food.csv')\n",
    "\n",
    "names = entities['public_id'].values.tolist()"
   ]
  },
  {
   "cell_type": "code",
   "execution_count": 3,
   "metadata": {},
   "outputs": [],
   "source": [
    "r = requests.get(\"http://wednesday.csail.mit.edu/temporal/release/det_ingrs.json\")"
   ]
  },
  {
   "cell_type": "code",
   "execution_count": 5,
   "metadata": {},
   "outputs": [],
   "source": [
    "r.text"
   ]
  },
  {
   "cell_type": "code",
   "execution_count": null,
   "metadata": {},
   "outputs": [],
   "source": [
    "html_string = r.text\n",
    "o = xmltodict.parse(html_string)\n",
    "output = json.dumps(o)\n",
    "data = json.loads(output)"
   ]
  },
  {
   "cell_type": "code",
   "execution_count": null,
   "metadata": {},
   "outputs": [],
   "source": [
    "html_string"
   ]
  },
  {
   "cell_type": "code",
   "execution_count": null,
   "metadata": {},
   "outputs": [],
   "source": [
    "r = requests.get(flavordb_entity_url(names[0]))\n",
    "html_string = r.text\n",
    "o = xmltodict.parse(html_string)\n",
    "output = json.dumps(o)\n",
    "data = json.loads(output)"
   ]
  },
  {
   "cell_type": "code",
   "execution_count": null,
   "metadata": {},
   "outputs": [],
   "source": [
    "(data['food'])['name']"
   ]
  },
  {
   "cell_type": "code",
   "execution_count": null,
   "metadata": {},
   "outputs": [],
   "source": [
    "failed = []\n",
    "\n",
    "def read_food_from_url(x):\n",
    "    r = requests.get(flavordb_entity_url(x))\n",
    "    if r.status_code == 200:\n",
    "        html_string = r.text\n",
    "        o = xmltodict.parse(html_string)\n",
    "        output = json.dumps(o)\n",
    "        data = json.loads(output)\n",
    "        name = (data['food'])['name']\n",
    "        group = (data['food'])['food-group']\n",
    "        subgroup = (data['food'])['food-subgroup']\n",
    "        if name is None or group is None or subgroup is None:\n",
    "            print(name, group, subgroup)\n",
    "            return \"\", \"\", \"\"\n",
    "        return name, group, subgroup\n",
    "        # ingredients = []\n",
    "        # quantities = []\n",
    "        # if (data['compound'])['foods'] is None:\n",
    "        #     return [0], [0]\n",
    "        # foods = ((data['compound'])['foods']['food'])\n",
    "        # if type(foods) == list:\n",
    "        #     for food in foods:\n",
    "        #         ingredients.append(food['name'])\n",
    "        #         try:\n",
    "        #             quantities.append(food['average_value'])\n",
    "        #         except KeyError:\n",
    "        #             quantities.append(0)\n",
    "        # else:\n",
    "        #     ingredients.append(foods['name'])\n",
    "        #     try:\n",
    "        #         quantities.append(foods['average_value'])\n",
    "        #     except KeyError:\n",
    "        #         quantities.append(0)\n",
    "        # return ingredients, quantities\n",
    "\n",
    "    else:\n",
    "        print(f\"Failed to read {x}\")\n",
    "        failed.append(x)\n",
    "        return \"\", \"\", \"\""
   ]
  },
  {
   "cell_type": "code",
   "execution_count": null,
   "metadata": {},
   "outputs": [],
   "source": [
    "df = pd.DataFrame(columns=['public_id', 'name', 'group', 'subgroup'])"
   ]
  },
  {
   "cell_type": "code",
   "execution_count": null,
   "metadata": {},
   "outputs": [],
   "source": [
    "for name in tqdm(names):\n",
    "    food, group, subgroup = read_food_from_url(name)\n",
    "    df.loc[len(df)] = [name, food, group, subgroup]"
   ]
  },
  {
   "cell_type": "code",
   "execution_count": null,
   "metadata": {},
   "outputs": [],
   "source": [
    "df.to_csv(\"data/foodb_categories.csv\", sep=';', index=False)"
   ]
  },
  {
   "cell_type": "code",
   "execution_count": null,
   "metadata": {},
   "outputs": [],
   "source": [
    "def read_json(x):\n",
    "    r = requests.get(flavordb_entity_url(x))\n",
    "    print(r.status_code)\n",
    "    html_string = r.text\n",
    "    o = xmltodict.parse(html_string)\n",
    "    output = json.dumps(o)\n",
    "    return json.loads(output)"
   ]
  },
  {
   "cell_type": "code",
   "execution_count": null,
   "metadata": {},
   "outputs": [],
   "source": [
    "data_long = read_json(names[10])\n",
    "data_short = read_json(names[1])"
   ]
  },
  {
   "cell_type": "code",
   "execution_count": null,
   "metadata": {},
   "outputs": [],
   "source": [
    "data_long"
   ]
  },
  {
   "cell_type": "code",
   "execution_count": null,
   "metadata": {},
   "outputs": [],
   "source": [
    "print(type((data_long['compound'])['foods']['food']))\n",
    "print(type((data_short['compound'])['foods']['food']))"
   ]
  },
  {
   "cell_type": "code",
   "execution_count": null,
   "metadata": {},
   "outputs": [],
   "source": [
    "foods = ((data['compound'])['foods'])"
   ]
  },
  {
   "cell_type": "code",
   "execution_count": null,
   "metadata": {},
   "outputs": [],
   "source": [
    "len(foods)\n",
    "\n",
    "for food in foods:\n",
    "    print(food['name'])"
   ]
  }
 ],
 "metadata": {
  "kernelspec": {
   "display_name": "Python 3",
   "language": "python",
   "name": "python3"
  },
  "language_info": {
   "codemirror_mode": {
    "name": "ipython",
    "version": 3
   },
   "file_extension": ".py",
   "mimetype": "text/x-python",
   "name": "python",
   "nbconvert_exporter": "python",
   "pygments_lexer": "ipython3",
   "version": "3.11.6"
  },
  "orig_nbformat": 4
 },
 "nbformat": 4,
 "nbformat_minor": 2
}
