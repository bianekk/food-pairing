{
 "cells": [
  {
   "cell_type": "code",
   "execution_count": 1,
   "metadata": {},
   "outputs": [],
   "source": [
    "import pubchempy as pcp\n",
    "import pandas as pd\n",
    "import numpy as np\n",
    "from tqdm import tqdm\n",
    "\n",
    "import os\n",
    "if os.path.basename(os.getcwd()) != 'food-pairing':\n",
    "    os.chdir(os.path.dirname(os.getcwd()))"
   ]
  },
  {
   "cell_type": "code",
   "execution_count": 2,
   "metadata": {},
   "outputs": [],
   "source": [
    "compounds_df = pd.read_csv('foodb/Compounds_v2.csv', sep=';', index_col=None)"
   ]
  },
  {
   "cell_type": "code",
   "execution_count": 3,
   "metadata": {},
   "outputs": [
    {
     "name": "stdout",
     "output_type": "stream",
     "text": [
      "15229\n",
      "15229\n"
     ]
    }
   ],
   "source": [
    "print(len(compounds_df))\n",
    "compounds_df.dropna(subset=['description'], inplace=True)\n",
    "compounds_df.reset_index(drop=True, inplace=True)\n",
    "print(len(compounds_df))"
   ]
  },
  {
   "cell_type": "code",
   "execution_count": 4,
   "metadata": {},
   "outputs": [],
   "source": [
    "sample_lst = ['FDB012535', 'FDB012567', 'FDB000474', 'FDB002257']"
   ]
  },
  {
   "cell_type": "code",
   "execution_count": 5,
   "metadata": {},
   "outputs": [],
   "source": [
    "cids = [(compounds_df.loc[compounds_df['public_id'] == x, 'description']).values[0] for x in sample_lst]"
   ]
  },
  {
   "cell_type": "code",
   "execution_count": 6,
   "metadata": {},
   "outputs": [
    {
     "data": {
      "text/plain": [
       "['56-86-0', '56-84-8', '56-87-1', '74-79-3']"
      ]
     },
     "execution_count": 6,
     "metadata": {},
     "output_type": "execute_result"
    }
   ],
   "source": [
    "cids"
   ]
  },
  {
   "cell_type": "code",
   "execution_count": 7,
   "metadata": {},
   "outputs": [
    {
     "data": {
      "text/plain": [
       "[33032, 5960, 5962, 6322]"
      ]
     },
     "execution_count": 7,
     "metadata": {},
     "output_type": "execute_result"
    }
   ],
   "source": [
    "[(pcp.get_cids(x)[0]) for x in cids]"
   ]
  },
  {
   "cell_type": "code",
   "execution_count": 8,
   "metadata": {},
   "outputs": [],
   "source": [
    "def flatten(xss):\n",
    "    return [x for xs in xss for x in xs]\n",
    "\n",
    "def translate_to_cid(x):\n",
    "    if type(x) != str:\n",
    "        return \" \"\n",
    "    try:\n",
    "        pubchem_id = (pcp.get_cids(x))[0]\n",
    "    except:\n",
    "        return \" \"\n",
    "    if type(pubchem_id) != int:\n",
    "        return \" \"\n",
    "    else:\n",
    "        return pubchem_id"
   ]
  },
  {
   "cell_type": "code",
   "execution_count": 9,
   "metadata": {},
   "outputs": [
    {
     "name": "stderr",
     "output_type": "stream",
     "text": [
      "100%|██████████| 15229/15229 [2:09:48<00:00,  1.96it/s]  \n"
     ]
    }
   ],
   "source": [
    "i = 0\n",
    "for row in tqdm(range(len(compounds_df))):\n",
    "    desc = compounds_df.at[row, 'description']\n",
    "    compounds_df.at[row, 'cid_molecules'] = translate_to_cid(desc)\n",
    "    i = i + 1\n",
    "    if i % 100 == 0:\n",
    "        compounds_df.to_csv(\"foodb/Compounds_v3.csv\", sep=';', index=None)"
   ]
  },
  {
   "cell_type": "code",
   "execution_count": 10,
   "metadata": {},
   "outputs": [],
   "source": [
    "compounds_df.to_csv(\"foodb/Compounds_v2.csv\", sep=';', index=None)"
   ]
  },
  {
   "cell_type": "code",
   "execution_count": 11,
   "metadata": {},
   "outputs": [
    {
     "data": {
      "text/html": [
       "<div>\n",
       "<style scoped>\n",
       "    .dataframe tbody tr th:only-of-type {\n",
       "        vertical-align: middle;\n",
       "    }\n",
       "\n",
       "    .dataframe tbody tr th {\n",
       "        vertical-align: top;\n",
       "    }\n",
       "\n",
       "    .dataframe thead th {\n",
       "        text-align: right;\n",
       "    }\n",
       "</style>\n",
       "<table border=\"1\" class=\"dataframe\">\n",
       "  <thead>\n",
       "    <tr style=\"text-align: right;\">\n",
       "      <th></th>\n",
       "      <th>id</th>\n",
       "      <th>public_id</th>\n",
       "      <th>name</th>\n",
       "      <th>description</th>\n",
       "      <th>cid_molecules</th>\n",
       "    </tr>\n",
       "  </thead>\n",
       "  <tbody>\n",
       "    <tr>\n",
       "      <th>0</th>\n",
       "      <td>4</td>\n",
       "      <td>FDB000004</td>\n",
       "      <td>Cyanidin 3-(6''-acetyl-galactoside)</td>\n",
       "      <td>350602-26-5</td>\n",
       "      <td>122396785.0</td>\n",
       "    </tr>\n",
       "    <tr>\n",
       "      <th>1</th>\n",
       "      <td>13</td>\n",
       "      <td>FDB000013</td>\n",
       "      <td>Cyanidin 3-(6''-succinyl-glucoside)</td>\n",
       "      <td>216692-08-9</td>\n",
       "      <td></td>\n",
       "    </tr>\n",
       "    <tr>\n",
       "      <th>2</th>\n",
       "      <td>25</td>\n",
       "      <td>FDB000025</td>\n",
       "      <td>Peonidin 3-(6''-acetyl-galactoside)</td>\n",
       "      <td>75-07-0</td>\n",
       "      <td>177</td>\n",
       "    </tr>\n",
       "    <tr>\n",
       "      <th>3</th>\n",
       "      <td>27</td>\n",
       "      <td>FDB000027</td>\n",
       "      <td>Malvidin 3-(6''-acetyl-galactoside)</td>\n",
       "      <td>75-07-0</td>\n",
       "      <td>177</td>\n",
       "    </tr>\n",
       "    <tr>\n",
       "      <th>4</th>\n",
       "      <td>35</td>\n",
       "      <td>FDB000035</td>\n",
       "      <td>Peonidin 3-(6''-p-coumaroyl-glucoside)</td>\n",
       "      <td>147-85-3</td>\n",
       "      <td>145742</td>\n",
       "    </tr>\n",
       "  </tbody>\n",
       "</table>\n",
       "</div>"
      ],
      "text/plain": [
       "   id  public_id                                    name  description  \\\n",
       "0   4  FDB000004     Cyanidin 3-(6''-acetyl-galactoside)  350602-26-5   \n",
       "1  13  FDB000013     Cyanidin 3-(6''-succinyl-glucoside)  216692-08-9   \n",
       "2  25  FDB000025     Peonidin 3-(6''-acetyl-galactoside)      75-07-0   \n",
       "3  27  FDB000027     Malvidin 3-(6''-acetyl-galactoside)      75-07-0   \n",
       "4  35  FDB000035  Peonidin 3-(6''-p-coumaroyl-glucoside)     147-85-3   \n",
       "\n",
       "  cid_molecules  \n",
       "0   122396785.0  \n",
       "1                \n",
       "2           177  \n",
       "3           177  \n",
       "4        145742  "
      ]
     },
     "execution_count": 11,
     "metadata": {},
     "output_type": "execute_result"
    }
   ],
   "source": [
    "compounds_df.head()"
   ]
  },
  {
   "cell_type": "code",
   "execution_count": 4,
   "metadata": {},
   "outputs": [],
   "source": [
    "from utils.data_loading import read_food_molecules\n",
    "\n",
    "foods_db = read_food_molecules('foodb')"
   ]
  },
  {
   "cell_type": "code",
   "execution_count": 13,
   "metadata": {},
   "outputs": [],
   "source": [
    "sample_lst = ['FDB012535', 'FDB012567', 'FDB000474', 'FDB002257']"
   ]
  },
  {
   "cell_type": "code",
   "execution_count": 22,
   "metadata": {},
   "outputs": [],
   "source": [
    "ids = [(compounds_df.loc[compounds_df['public_id'] == x, 'cid_molecules']) for x in sample_lst]"
   ]
  },
  {
   "cell_type": "code",
   "execution_count": 36,
   "metadata": {},
   "outputs": [],
   "source": [
    "def translate_list_to_cid(lst):\n",
    "    ids = [(compounds_df.loc[compounds_df['public_id'] == x, 'cid_molecules']) for x in lst]\n",
    "    ids = [x.values[0] if len(x) == 1 else 0 for x in ids]\n",
    "    return ids"
   ]
  },
  {
   "cell_type": "code",
   "execution_count": 37,
   "metadata": {},
   "outputs": [],
   "source": [
    "foods_db['cid_molecules'] = foods_db['public_ids'].apply(translate_list_to_cid)"
   ]
  },
  {
   "cell_type": "code",
   "execution_count": 38,
   "metadata": {},
   "outputs": [
    {
     "data": {
      "text/html": [
       "<div>\n",
       "<style scoped>\n",
       "    .dataframe tbody tr th:only-of-type {\n",
       "        vertical-align: middle;\n",
       "    }\n",
       "\n",
       "    .dataframe tbody tr th {\n",
       "        vertical-align: top;\n",
       "    }\n",
       "\n",
       "    .dataframe thead th {\n",
       "        text-align: right;\n",
       "    }\n",
       "</style>\n",
       "<table border=\"1\" class=\"dataframe\">\n",
       "  <thead>\n",
       "    <tr style=\"text-align: right;\">\n",
       "      <th></th>\n",
       "      <th>food_id</th>\n",
       "      <th>food</th>\n",
       "      <th>public_ids</th>\n",
       "      <th>molecules</th>\n",
       "      <th>quantities</th>\n",
       "      <th>cid_molecules</th>\n",
       "    </tr>\n",
       "  </thead>\n",
       "  <tbody>\n",
       "    <tr>\n",
       "      <th>0</th>\n",
       "      <td>280</td>\n",
       "      <td>abalone</td>\n",
       "      <td>[FDB012535, FDB012567, FDB000474, FDB002257, F...</td>\n",
       "      <td>[12538, 12570, 474, 2257, 1946, 484, 556, 1274...</td>\n",
       "      <td>[2572.5, 1756.0, 1355.5, 1329.5, 1295.0, 1141....</td>\n",
       "      <td>[33032, 5960, 5962, 6322, 6106, 750, 5950, 595...</td>\n",
       "    </tr>\n",
       "    <tr>\n",
       "      <th>1</th>\n",
       "      <td>281</td>\n",
       "      <td>abiyuch</td>\n",
       "      <td>[FDB003715, FDB012530, FDB012528, FDB003521, F...</td>\n",
       "      <td>[3716, 12533, 12531, 3522, 1193, 1224, 3521, 1...</td>\n",
       "      <td>[8550.0, 2252.25, 1901.9, 304.0, 100.1, 54.1, ...</td>\n",
       "      <td>[5988, 107526, 439709, 5462222, 6255, 54670067...</td>\n",
       "    </tr>\n",
       "    <tr>\n",
       "      <th>2</th>\n",
       "      <td>282</td>\n",
       "      <td>acerola</td>\n",
       "      <td>[FDB003715, FDB001224, FDB003521, FDB031004, F...</td>\n",
       "      <td>[3716, 1224, 3522, 31167, 2602, 3514, 3521, 12...</td>\n",
       "      <td>[4500.0, 1651.733333, 129.666667, 18.0, 15.71,...</td>\n",
       "      <td>[5988, 54670067, 5462222, 888, 68247, 5460341,...</td>\n",
       "    </tr>\n",
       "    <tr>\n",
       "      <th>3</th>\n",
       "      <td>283</td>\n",
       "      <td>acorn</td>\n",
       "      <td>[FDB012535, FDB012567, FDB003521, FDB001946, F...</td>\n",
       "      <td>[12538, 12570, 3522, 1946, 2257, 474, 556, 570...</td>\n",
       "      <td>[1162.333333, 748.666667, 624.75, 576.333333, ...</td>\n",
       "      <td>[33032, 5960, 5462222, 6106, 6322, 5962, 5950,...</td>\n",
       "    </tr>\n",
       "    <tr>\n",
       "      <th>4</th>\n",
       "      <td>1004</td>\n",
       "      <td>acorn squash</td>\n",
       "      <td>[FDB003521, FDB014613, FDB019865, FDB003520, F...</td>\n",
       "      <td>[3522, 14616, 19872, 3521, 3514, 31167, 1224, ...</td>\n",
       "      <td>[347.0, 220.0, 38.0, 36.0, 33.0, 32.0, 11.0, 3...</td>\n",
       "      <td>[5462222, 5280489, 5280899, 5462309, 5460341, ...</td>\n",
       "    </tr>\n",
       "  </tbody>\n",
       "</table>\n",
       "</div>"
      ],
      "text/plain": [
       "   food_id          food                                         public_ids  \\\n",
       "0      280       abalone  [FDB012535, FDB012567, FDB000474, FDB002257, F...   \n",
       "1      281       abiyuch  [FDB003715, FDB012530, FDB012528, FDB003521, F...   \n",
       "2      282       acerola  [FDB003715, FDB001224, FDB003521, FDB031004, F...   \n",
       "3      283         acorn  [FDB012535, FDB012567, FDB003521, FDB001946, F...   \n",
       "4     1004  acorn squash  [FDB003521, FDB014613, FDB019865, FDB003520, F...   \n",
       "\n",
       "                                           molecules  \\\n",
       "0  [12538, 12570, 474, 2257, 1946, 484, 556, 1274...   \n",
       "1  [3716, 12533, 12531, 3522, 1193, 1224, 3521, 1...   \n",
       "2  [3716, 1224, 3522, 31167, 2602, 3514, 3521, 12...   \n",
       "3  [12538, 12570, 3522, 1946, 2257, 474, 556, 570...   \n",
       "4  [3522, 14616, 19872, 3521, 3514, 31167, 1224, ...   \n",
       "\n",
       "                                          quantities  \\\n",
       "0  [2572.5, 1756.0, 1355.5, 1329.5, 1295.0, 1141....   \n",
       "1  [8550.0, 2252.25, 1901.9, 304.0, 100.1, 54.1, ...   \n",
       "2  [4500.0, 1651.733333, 129.666667, 18.0, 15.71,...   \n",
       "3  [1162.333333, 748.666667, 624.75, 576.333333, ...   \n",
       "4  [347.0, 220.0, 38.0, 36.0, 33.0, 32.0, 11.0, 3...   \n",
       "\n",
       "                                       cid_molecules  \n",
       "0  [33032, 5960, 5962, 6322, 6106, 750, 5950, 595...  \n",
       "1  [5988, 107526, 439709, 5462222, 6255, 54670067...  \n",
       "2  [5988, 54670067, 5462222, 888, 68247, 5460341,...  \n",
       "3  [33032, 5960, 5462222, 6106, 6322, 5962, 5950,...  \n",
       "4  [5462222, 5280489, 5280899, 5462309, 5460341, ...  "
      ]
     },
     "execution_count": 38,
     "metadata": {},
     "output_type": "execute_result"
    }
   ],
   "source": [
    "foods_db.head()"
   ]
  },
  {
   "cell_type": "code",
   "execution_count": 39,
   "metadata": {},
   "outputs": [],
   "source": [
    "foods_db.to_csv(\"data/foodb_v2.csv\", sep=';', index=None)"
   ]
  }
 ],
 "metadata": {
  "kernelspec": {
   "display_name": "Python 3",
   "language": "python",
   "name": "python3"
  },
  "language_info": {
   "codemirror_mode": {
    "name": "ipython",
    "version": 3
   },
   "file_extension": ".py",
   "mimetype": "text/x-python",
   "name": "python",
   "nbconvert_exporter": "python",
   "pygments_lexer": "ipython3",
   "version": "3.11.6"
  },
  "orig_nbformat": 4
 },
 "nbformat": 4,
 "nbformat_minor": 2
}
