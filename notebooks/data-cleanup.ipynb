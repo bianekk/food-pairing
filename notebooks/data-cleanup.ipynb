{
 "cells": [
  {
   "attachments": {},
   "cell_type": "markdown",
   "metadata": {},
   "source": [
    "## Data exploration\n",
    "___"
   ]
  },
  {
   "cell_type": "code",
   "execution_count": 107,
   "metadata": {},
   "outputs": [],
   "source": [
    "import pandas as pd\n",
    "import os\n",
    "import numpy as np\n",
    "\n",
    "if os.path.basename(os.getcwd()) != 'food-pairing':\n",
    "    os.chdir(os.path.dirname(os.getcwd()))\n",
    "\n",
    "import re\n",
    "import ast\n",
    "from utils.data_loading import read_compounds, read_food_molecules\n"
   ]
  },
  {
   "cell_type": "code",
   "execution_count": 10,
   "metadata": {},
   "outputs": [],
   "source": [
    "def string_to_list(string):\n",
    "    return ast.literal_eval(string)\n",
    "\n",
    "compounds_df = pd.read_csv('compounds.csv', sep=';')\n",
    "\n",
    "compounds_df['foods'] = compounds_df['foods'].apply(string_to_list)\n",
    "compounds_df['quantities'] = compounds_df['quantities'].apply(string_to_list)"
   ]
  },
  {
   "cell_type": "code",
   "execution_count": 11,
   "metadata": {},
   "outputs": [
    {
     "data": {
      "text/html": [
       "<div>\n",
       "<style scoped>\n",
       "    .dataframe tbody tr th:only-of-type {\n",
       "        vertical-align: middle;\n",
       "    }\n",
       "\n",
       "    .dataframe tbody tr th {\n",
       "        vertical-align: top;\n",
       "    }\n",
       "\n",
       "    .dataframe thead th {\n",
       "        text-align: right;\n",
       "    }\n",
       "</style>\n",
       "<table border=\"1\" class=\"dataframe\">\n",
       "  <thead>\n",
       "    <tr style=\"text-align: right;\">\n",
       "      <th></th>\n",
       "      <th>compound_id</th>\n",
       "      <th>foods</th>\n",
       "      <th>quantities</th>\n",
       "    </tr>\n",
       "  </thead>\n",
       "  <tbody>\n",
       "    <tr>\n",
       "      <th>0</th>\n",
       "      <td>FDB000004</td>\n",
       "      <td>[Highbush blueberry, Lowbush blueberry]</td>\n",
       "      <td>[0.103886, 0.664873]</td>\n",
       "    </tr>\n",
       "    <tr>\n",
       "      <th>1</th>\n",
       "      <td>FDB000013</td>\n",
       "      <td>[Strawberry]</td>\n",
       "      <td>[1.223154]</td>\n",
       "    </tr>\n",
       "    <tr>\n",
       "      <th>2</th>\n",
       "      <td>FDB000014</td>\n",
       "      <td>[Cloudberry, Red raspberry, Strawberry, Wheat]</td>\n",
       "      <td>[0.0, 0.0, 10.444922, 1067.213885]</td>\n",
       "    </tr>\n",
       "    <tr>\n",
       "      <th>3</th>\n",
       "      <td>FDB000024</td>\n",
       "      <td>[Highbush blueberry, Lowbush blueberry]</td>\n",
       "      <td>[0.069621, 0.157808]</td>\n",
       "    </tr>\n",
       "    <tr>\n",
       "      <th>4</th>\n",
       "      <td>FDB000025</td>\n",
       "      <td>[Highbush blueberry, Lowbush blueberry]</td>\n",
       "      <td>[0.039365, 1.765813]</td>\n",
       "    </tr>\n",
       "  </tbody>\n",
       "</table>\n",
       "</div>"
      ],
      "text/plain": [
       "  compound_id                                           foods  \\\n",
       "0   FDB000004         [Highbush blueberry, Lowbush blueberry]   \n",
       "1   FDB000013                                    [Strawberry]   \n",
       "2   FDB000014  [Cloudberry, Red raspberry, Strawberry, Wheat]   \n",
       "3   FDB000024         [Highbush blueberry, Lowbush blueberry]   \n",
       "4   FDB000025         [Highbush blueberry, Lowbush blueberry]   \n",
       "\n",
       "                           quantities  \n",
       "0                [0.103886, 0.664873]  \n",
       "1                          [1.223154]  \n",
       "2  [0.0, 0.0, 10.444922, 1067.213885]  \n",
       "3                [0.069621, 0.157808]  \n",
       "4                [0.039365, 1.765813]  "
      ]
     },
     "execution_count": 11,
     "metadata": {},
     "output_type": "execute_result"
    }
   ],
   "source": [
    "compounds_df.head()"
   ]
  },
  {
   "cell_type": "code",
   "execution_count": 26,
   "metadata": {},
   "outputs": [
    {
     "data": {
      "text/html": [
       "<div>\n",
       "<style scoped>\n",
       "    .dataframe tbody tr th:only-of-type {\n",
       "        vertical-align: middle;\n",
       "    }\n",
       "\n",
       "    .dataframe tbody tr th {\n",
       "        vertical-align: top;\n",
       "    }\n",
       "\n",
       "    .dataframe thead th {\n",
       "        text-align: right;\n",
       "    }\n",
       "</style>\n",
       "<table border=\"1\" class=\"dataframe\">\n",
       "  <thead>\n",
       "    <tr style=\"text-align: right;\">\n",
       "      <th></th>\n",
       "      <th>foods</th>\n",
       "      <th>compound_id</th>\n",
       "      <th>quantities</th>\n",
       "    </tr>\n",
       "  </thead>\n",
       "  <tbody>\n",
       "    <tr>\n",
       "      <th>0</th>\n",
       "      <td>0</td>\n",
       "      <td>[FDB000048, FDB000115, FDB000232, FDB000299, F...</td>\n",
       "      <td>[0, 0, 0, 0, 0, 0, 0, 0, 0, 0, 0, 0, 0, 0, 0, ...</td>\n",
       "    </tr>\n",
       "    <tr>\n",
       "      <th>1</th>\n",
       "      <td>Abalone</td>\n",
       "      <td>[FDB000236, FDB000316, FDB000432, FDB000442, F...</td>\n",
       "      <td>[0, 0, 0, 0, 587.0, 0.0, 0, 1355.5, 0, 1141.5,...</td>\n",
       "    </tr>\n",
       "    <tr>\n",
       "      <th>2</th>\n",
       "      <td>Abiyuch</td>\n",
       "      <td>[FDB000236, FDB000240, FDB000316, FDB000374, F...</td>\n",
       "      <td>[0, 0, 0, 0, 0, 0, 0, 0, 0, 0, 0, 0, 0, 0, 0, ...</td>\n",
       "    </tr>\n",
       "    <tr>\n",
       "      <th>3</th>\n",
       "      <td>Acerola</td>\n",
       "      <td>[FDB000236, FDB000240, FDB000316, FDB000374, F...</td>\n",
       "      <td>[0, 0, 0, 0, 0, 0, 0, 0.0, 0, 0, 0, 0, 0, 0, 0...</td>\n",
       "    </tr>\n",
       "    <tr>\n",
       "      <th>4</th>\n",
       "      <td>Acorn</td>\n",
       "      <td>[FDB000236, FDB000240, FDB000316, FDB000374, F...</td>\n",
       "      <td>[0, 0, 0, 0, 0, 0, 165.04675, 0, 0, 339.346, 0...</td>\n",
       "    </tr>\n",
       "  </tbody>\n",
       "</table>\n",
       "</div>"
      ],
      "text/plain": [
       "     foods                                        compound_id  \\\n",
       "0        0  [FDB000048, FDB000115, FDB000232, FDB000299, F...   \n",
       "1  Abalone  [FDB000236, FDB000316, FDB000432, FDB000442, F...   \n",
       "2  Abiyuch  [FDB000236, FDB000240, FDB000316, FDB000374, F...   \n",
       "3  Acerola  [FDB000236, FDB000240, FDB000316, FDB000374, F...   \n",
       "4    Acorn  [FDB000236, FDB000240, FDB000316, FDB000374, F...   \n",
       "\n",
       "                                          quantities  \n",
       "0  [0, 0, 0, 0, 0, 0, 0, 0, 0, 0, 0, 0, 0, 0, 0, ...  \n",
       "1  [0, 0, 0, 0, 587.0, 0.0, 0, 1355.5, 0, 1141.5,...  \n",
       "2  [0, 0, 0, 0, 0, 0, 0, 0, 0, 0, 0, 0, 0, 0, 0, ...  \n",
       "3  [0, 0, 0, 0, 0, 0, 0, 0.0, 0, 0, 0, 0, 0, 0, 0...  \n",
       "4  [0, 0, 0, 0, 0, 0, 165.04675, 0, 0, 339.346, 0...  "
      ]
     },
     "execution_count": 26,
     "metadata": {},
     "output_type": "execute_result"
    }
   ],
   "source": [
    "df_exploded = compounds_df.explode(['foods', 'quantities'])\n",
    "\n",
    "result_df = df_exploded.groupby('foods')[['compound_id', 'quantities']].agg(list).reset_index()\n",
    "\n",
    "result_df.head()"
   ]
  },
  {
   "cell_type": "code",
   "execution_count": 85,
   "metadata": {},
   "outputs": [],
   "source": [
    "result_df.to_csv(\"data/foodb_compounds.csv\", sep=';', index=None)"
   ]
  },
  {
   "cell_type": "code",
   "execution_count": 54,
   "metadata": {},
   "outputs": [],
   "source": [
    "def string_to_int(lst):\n",
    "    lst = [(float(x)) for x in lst] \n",
    "    return lst"
   ]
  },
  {
   "cell_type": "code",
   "execution_count": 94,
   "metadata": {},
   "outputs": [
    {
     "data": {
      "text/html": [
       "<div>\n",
       "<style scoped>\n",
       "    .dataframe tbody tr th:only-of-type {\n",
       "        vertical-align: middle;\n",
       "    }\n",
       "\n",
       "    .dataframe tbody tr th {\n",
       "        vertical-align: top;\n",
       "    }\n",
       "\n",
       "    .dataframe thead th {\n",
       "        text-align: right;\n",
       "    }\n",
       "</style>\n",
       "<table border=\"1\" class=\"dataframe\">\n",
       "  <thead>\n",
       "    <tr style=\"text-align: right;\">\n",
       "      <th></th>\n",
       "      <th>foods</th>\n",
       "      <th>quantities</th>\n",
       "      <th>public_ids</th>\n",
       "      <th>molecules</th>\n",
       "    </tr>\n",
       "  </thead>\n",
       "  <tbody>\n",
       "    <tr>\n",
       "      <th>0</th>\n",
       "      <td>Abalone</td>\n",
       "      <td>[2572.5, 1756.0, 1355.5, 1329.5, 1295.0, 1141....</td>\n",
       "      <td>[FDB012535, FDB012567, FDB000474, FDB002257, F...</td>\n",
       "      <td>[12538, 12570, 474, 2257, 1946, 484, 556, 1274...</td>\n",
       "    </tr>\n",
       "    <tr>\n",
       "      <th>1</th>\n",
       "      <td>Abiyuch</td>\n",
       "      <td>[8550.0, 2252.25, 1901.9, 304.0, 100.1, 54.1, ...</td>\n",
       "      <td>[FDB003715, FDB012530, FDB012528, FDB003521, F...</td>\n",
       "      <td>[3716, 12533, 12531, 3522, 1193, 1224, 3521, 1...</td>\n",
       "    </tr>\n",
       "    <tr>\n",
       "      <th>2</th>\n",
       "      <td>Acerola</td>\n",
       "      <td>[4500.0, 1651.733333, 129.666667, 18.0, 15.71,...</td>\n",
       "      <td>[FDB003715, FDB001224, FDB003521, FDB031004, F...</td>\n",
       "      <td>[3716, 1224, 3522, 31167, 2602, 3514, 3521, 12...</td>\n",
       "    </tr>\n",
       "    <tr>\n",
       "      <th>3</th>\n",
       "      <td>Acorn</td>\n",
       "      <td>[1162.333333, 748.666667, 624.75, 576.333333, ...</td>\n",
       "      <td>[FDB012535, FDB012567, FDB003521, FDB001946, F...</td>\n",
       "      <td>[12538, 12570, 3522, 1946, 2257, 474, 556, 570...</td>\n",
       "    </tr>\n",
       "    <tr>\n",
       "      <th>4</th>\n",
       "      <td>Acorn squash</td>\n",
       "      <td>[347.0, 220.0, 38.0, 36.0, 33.0, 32.0, 11.0, 3...</td>\n",
       "      <td>[FDB003521, FDB014613, FDB019865, FDB003520, F...</td>\n",
       "      <td>[3522, 14616, 19872, 3521, 3514, 31167, 1224, ...</td>\n",
       "    </tr>\n",
       "  </tbody>\n",
       "</table>\n",
       "</div>"
      ],
      "text/plain": [
       "          foods                                         quantities  \\\n",
       "0       Abalone  [2572.5, 1756.0, 1355.5, 1329.5, 1295.0, 1141....   \n",
       "1       Abiyuch  [8550.0, 2252.25, 1901.9, 304.0, 100.1, 54.1, ...   \n",
       "2       Acerola  [4500.0, 1651.733333, 129.666667, 18.0, 15.71,...   \n",
       "3         Acorn  [1162.333333, 748.666667, 624.75, 576.333333, ...   \n",
       "4  Acorn squash  [347.0, 220.0, 38.0, 36.0, 33.0, 32.0, 11.0, 3...   \n",
       "\n",
       "                                          public_ids  \\\n",
       "0  [FDB012535, FDB012567, FDB000474, FDB002257, F...   \n",
       "1  [FDB003715, FDB012530, FDB012528, FDB003521, F...   \n",
       "2  [FDB003715, FDB001224, FDB003521, FDB031004, F...   \n",
       "3  [FDB012535, FDB012567, FDB003521, FDB001946, F...   \n",
       "4  [FDB003521, FDB014613, FDB019865, FDB003520, F...   \n",
       "\n",
       "                                           molecules  \n",
       "0  [12538, 12570, 474, 2257, 1946, 484, 556, 1274...  \n",
       "1  [3716, 12533, 12531, 3522, 1193, 1224, 3521, 1...  \n",
       "2  [3716, 1224, 3522, 31167, 2602, 3514, 3521, 12...  \n",
       "3  [12538, 12570, 3522, 1946, 2257, 474, 556, 570...  \n",
       "4  [3522, 14616, 19872, 3521, 3514, 31167, 1224, ...  "
      ]
     },
     "execution_count": 94,
     "metadata": {},
     "output_type": "execute_result"
    }
   ],
   "source": [
    "result_df = pd.read_csv(\"data/foodb_compounds.csv\", sep=';', index_col=False)\n",
    "result_df['public_ids'] = result_df['public_ids'].apply(string_to_list)\n",
    "result_df['molecules'] = result_df['molecules'].apply(string_to_list)\n",
    "result_df['quantities'] = result_df['quantities'].apply(string_to_list)\n",
    "result_df['quantities'] = result_df['quantities'].apply(string_to_int)\n",
    "\n",
    "result_df.head()"
   ]
  },
  {
   "cell_type": "code",
   "execution_count": 98,
   "metadata": {},
   "outputs": [],
   "source": [
    "foods_ids = pd.read_csv('foodb/Food.csv')"
   ]
  },
  {
   "cell_type": "code",
   "execution_count": 99,
   "metadata": {},
   "outputs": [],
   "source": [
    "food_id_dict = pd.Series(foods_ids['id'].values,index=foods_ids['name']).to_dict()"
   ]
  },
  {
   "cell_type": "code",
   "execution_count": 101,
   "metadata": {},
   "outputs": [],
   "source": [
    "def public_to_id(food):\n",
    "    id = food_id_dict[food]\n",
    "    return id\n",
    "\n",
    "result_df['food_id'] = result_df['foods'].apply(public_to_id)"
   ]
  },
  {
   "cell_type": "code",
   "execution_count": 103,
   "metadata": {},
   "outputs": [],
   "source": [
    "result_df = result_df.rename(columns={'foods': 'food'})"
   ]
  },
  {
   "cell_type": "code",
   "execution_count": 104,
   "metadata": {},
   "outputs": [],
   "source": [
    "result_final = result_df[['food_id', 'food', 'public_ids', 'molecules', 'quantities']]"
   ]
  },
  {
   "cell_type": "code",
   "execution_count": 105,
   "metadata": {},
   "outputs": [
    {
     "data": {
      "text/html": [
       "<div>\n",
       "<style scoped>\n",
       "    .dataframe tbody tr th:only-of-type {\n",
       "        vertical-align: middle;\n",
       "    }\n",
       "\n",
       "    .dataframe tbody tr th {\n",
       "        vertical-align: top;\n",
       "    }\n",
       "\n",
       "    .dataframe thead th {\n",
       "        text-align: right;\n",
       "    }\n",
       "</style>\n",
       "<table border=\"1\" class=\"dataframe\">\n",
       "  <thead>\n",
       "    <tr style=\"text-align: right;\">\n",
       "      <th></th>\n",
       "      <th>food_id</th>\n",
       "      <th>food</th>\n",
       "      <th>public_ids</th>\n",
       "      <th>molecules</th>\n",
       "      <th>quantities</th>\n",
       "    </tr>\n",
       "  </thead>\n",
       "  <tbody>\n",
       "    <tr>\n",
       "      <th>0</th>\n",
       "      <td>280</td>\n",
       "      <td>Abalone</td>\n",
       "      <td>[FDB012535, FDB012567, FDB000474, FDB002257, F...</td>\n",
       "      <td>[12538, 12570, 474, 2257, 1946, 484, 556, 1274...</td>\n",
       "      <td>[2572.5, 1756.0, 1355.5, 1329.5, 1295.0, 1141....</td>\n",
       "    </tr>\n",
       "    <tr>\n",
       "      <th>1</th>\n",
       "      <td>281</td>\n",
       "      <td>Abiyuch</td>\n",
       "      <td>[FDB003715, FDB012530, FDB012528, FDB003521, F...</td>\n",
       "      <td>[3716, 12533, 12531, 3522, 1193, 1224, 3521, 1...</td>\n",
       "      <td>[8550.0, 2252.25, 1901.9, 304.0, 100.1, 54.1, ...</td>\n",
       "    </tr>\n",
       "    <tr>\n",
       "      <th>2</th>\n",
       "      <td>282</td>\n",
       "      <td>Acerola</td>\n",
       "      <td>[FDB003715, FDB001224, FDB003521, FDB031004, F...</td>\n",
       "      <td>[3716, 1224, 3522, 31167, 2602, 3514, 3521, 12...</td>\n",
       "      <td>[4500.0, 1651.733333, 129.666667, 18.0, 15.71,...</td>\n",
       "    </tr>\n",
       "    <tr>\n",
       "      <th>3</th>\n",
       "      <td>283</td>\n",
       "      <td>Acorn</td>\n",
       "      <td>[FDB012535, FDB012567, FDB003521, FDB001946, F...</td>\n",
       "      <td>[12538, 12570, 3522, 1946, 2257, 474, 556, 570...</td>\n",
       "      <td>[1162.333333, 748.666667, 624.75, 576.333333, ...</td>\n",
       "    </tr>\n",
       "    <tr>\n",
       "      <th>4</th>\n",
       "      <td>1004</td>\n",
       "      <td>Acorn squash</td>\n",
       "      <td>[FDB003521, FDB014613, FDB019865, FDB003520, F...</td>\n",
       "      <td>[3522, 14616, 19872, 3521, 3514, 31167, 1224, ...</td>\n",
       "      <td>[347.0, 220.0, 38.0, 36.0, 33.0, 32.0, 11.0, 3...</td>\n",
       "    </tr>\n",
       "  </tbody>\n",
       "</table>\n",
       "</div>"
      ],
      "text/plain": [
       "   food_id          food                                         public_ids  \\\n",
       "0      280       Abalone  [FDB012535, FDB012567, FDB000474, FDB002257, F...   \n",
       "1      281       Abiyuch  [FDB003715, FDB012530, FDB012528, FDB003521, F...   \n",
       "2      282       Acerola  [FDB003715, FDB001224, FDB003521, FDB031004, F...   \n",
       "3      283         Acorn  [FDB012535, FDB012567, FDB003521, FDB001946, F...   \n",
       "4     1004  Acorn squash  [FDB003521, FDB014613, FDB019865, FDB003520, F...   \n",
       "\n",
       "                                           molecules  \\\n",
       "0  [12538, 12570, 474, 2257, 1946, 484, 556, 1274...   \n",
       "1  [3716, 12533, 12531, 3522, 1193, 1224, 3521, 1...   \n",
       "2  [3716, 1224, 3522, 31167, 2602, 3514, 3521, 12...   \n",
       "3  [12538, 12570, 3522, 1946, 2257, 474, 556, 570...   \n",
       "4  [3522, 14616, 19872, 3521, 3514, 31167, 1224, ...   \n",
       "\n",
       "                                          quantities  \n",
       "0  [2572.5, 1756.0, 1355.5, 1329.5, 1295.0, 1141....  \n",
       "1  [8550.0, 2252.25, 1901.9, 304.0, 100.1, 54.1, ...  \n",
       "2  [4500.0, 1651.733333, 129.666667, 18.0, 15.71,...  \n",
       "3  [1162.333333, 748.666667, 624.75, 576.333333, ...  \n",
       "4  [347.0, 220.0, 38.0, 36.0, 33.0, 32.0, 11.0, 3...  "
      ]
     },
     "execution_count": 105,
     "metadata": {},
     "output_type": "execute_result"
    }
   ],
   "source": [
    "result_final.head()"
   ]
  },
  {
   "cell_type": "code",
   "execution_count": 106,
   "metadata": {},
   "outputs": [],
   "source": [
    "result_final.to_csv(\"data/foodb.csv\", sep=';', index=None)"
   ]
  },
  {
   "attachments": {},
   "cell_type": "markdown",
   "metadata": {},
   "source": [
    "## Preprocessing\n",
    "___"
   ]
  },
  {
   "cell_type": "code",
   "execution_count": 16,
   "metadata": {},
   "outputs": [],
   "source": [
    "def remove_dupes(lst):\n",
    "    return list(set(lst))\n",
    "\n",
    "def calculate_list_length(lst):\n",
    "    return len(lst)\n",
    "\n",
    "def sort_list(lst):\n",
    "    return sorted(lst)\n",
    "\n",
    "def to_integer(lst):\n",
    "    return [int(x) for x in lst]\n",
    "\n",
    "def string_to_list(string):\n",
    "    return ast.literal_eval(string)"
   ]
  },
  {
   "cell_type": "code",
   "execution_count": 14,
   "metadata": {},
   "outputs": [],
   "source": [
    "def check_lengths(df):\n",
    "    df['list_length'] = df['molecules'].apply(calculate_list_length)\n",
    "    min_length = df['list_length'].min()\n",
    "    max_length = df['list_length'].max()\n",
    "    average_length = df['list_length'].mean()\n",
    "\n",
    "    print(\"Minimum length:\", min_length)\n",
    "    print(\"Maximum length:\", max_length)\n",
    "    print(\"Average length:\", average_length)"
   ]
  },
  {
   "cell_type": "code",
   "execution_count": 40,
   "metadata": {},
   "outputs": [
    {
     "name": "stdout",
     "output_type": "stream",
     "text": [
      "before: 5145532\n",
      "after: 792944\n"
     ]
    }
   ],
   "source": [
    "print(\"before: \" + str(len(compounds_df)))\n",
    "foodb_copy = compounds_df.drop_duplicates(subset=['orig_food_common_name', 'source_id', 'standard_content'])\n",
    "print(\"after: \" + str(len(foodb_copy)))"
   ]
  },
  {
   "cell_type": "code",
   "execution_count": 46,
   "metadata": {},
   "outputs": [],
   "source": [
    "def sort_molecules_by_quantity(group):\n",
    "    sorted_molecules = group.sort_values(by='standard_content', ascending=False)['source_id'].tolist()\n",
    "    return sorted_molecules\n",
    "\n",
    "food_molecules_df_v2 = foodb_copy.groupby(['orig_food_id', 'orig_food_common_name']).apply(sort_molecules_by_quantity).reset_index()\n",
    "\n",
    "# Rename columns\n",
    "food_molecules_df_v2.columns = ['id','ingredient', 'molecules']"
   ]
  },
  {
   "cell_type": "code",
   "execution_count": 47,
   "metadata": {},
   "outputs": [],
   "source": [
    "food_molecules_df_v2.to_csv(\"data/foodb_molecules.csv\", sep=';', index=False)"
   ]
  },
  {
   "cell_type": "code",
   "execution_count": 25,
   "metadata": {},
   "outputs": [],
   "source": [
    "flavordb_molecules = pd.read_csv('data/molecules.csv', index_col=False)"
   ]
  },
  {
   "cell_type": "code",
   "execution_count": 26,
   "metadata": {},
   "outputs": [
    {
     "data": {
      "text/html": [
       "<div>\n",
       "<style scoped>\n",
       "    .dataframe tbody tr th:only-of-type {\n",
       "        vertical-align: middle;\n",
       "    }\n",
       "\n",
       "    .dataframe tbody tr th {\n",
       "        vertical-align: top;\n",
       "    }\n",
       "\n",
       "    .dataframe thead th {\n",
       "        text-align: right;\n",
       "    }\n",
       "</style>\n",
       "<table border=\"1\" class=\"dataframe\">\n",
       "  <thead>\n",
       "    <tr style=\"text-align: right;\">\n",
       "      <th></th>\n",
       "      <th>id</th>\n",
       "      <th>pubchem id</th>\n",
       "      <th>common name</th>\n",
       "      <th>flavors</th>\n",
       "    </tr>\n",
       "  </thead>\n",
       "  <tbody>\n",
       "    <tr>\n",
       "      <th>0</th>\n",
       "      <td>0</td>\n",
       "      <td>4</td>\n",
       "      <td>1-Aminopropan-2-ol</td>\n",
       "      <td>['fishy']</td>\n",
       "    </tr>\n",
       "    <tr>\n",
       "      <th>1</th>\n",
       "      <td>1</td>\n",
       "      <td>49</td>\n",
       "      <td>3-Methyl-2-oxobutanoic acid</td>\n",
       "      <td>['fruity']</td>\n",
       "    </tr>\n",
       "    <tr>\n",
       "      <th>2</th>\n",
       "      <td>2</td>\n",
       "      <td>58</td>\n",
       "      <td>2-oxobutanoic acid</td>\n",
       "      <td>['caramel', 'sweet', 'creamy', 'brown', 'lacto...</td>\n",
       "    </tr>\n",
       "    <tr>\n",
       "      <th>3</th>\n",
       "      <td>3</td>\n",
       "      <td>70</td>\n",
       "      <td>4-Methyl-2-oxovaleric acid</td>\n",
       "      <td>['fruity']</td>\n",
       "    </tr>\n",
       "    <tr>\n",
       "      <th>4</th>\n",
       "      <td>4</td>\n",
       "      <td>72</td>\n",
       "      <td>3,4-Dihydroxybenzoic Acid</td>\n",
       "      <td>['mild', 'phenolic', 'balsamic']</td>\n",
       "    </tr>\n",
       "    <tr>\n",
       "      <th>...</th>\n",
       "      <td>...</td>\n",
       "      <td>...</td>\n",
       "      <td>...</td>\n",
       "      <td>...</td>\n",
       "    </tr>\n",
       "    <tr>\n",
       "      <th>2537</th>\n",
       "      <td>2537</td>\n",
       "      <td>5315892</td>\n",
       "      <td>cinnamyl alcohol</td>\n",
       "      <td>['bitter', 'sweet', 'powdery', 'cinnamic', 'sp...</td>\n",
       "    </tr>\n",
       "    <tr>\n",
       "      <th>2538</th>\n",
       "      <td>2538</td>\n",
       "      <td>5318042</td>\n",
       "      <td>trans-2-Hexen-1-Ol</td>\n",
       "      <td>['wine', 'unripe banana', 'leaf', 'alcohol', '...</td>\n",
       "    </tr>\n",
       "    <tr>\n",
       "      <th>2539</th>\n",
       "      <td>2539</td>\n",
       "      <td>5363388</td>\n",
       "      <td>cis-3-Hexenyl acetate</td>\n",
       "      <td>['sweet', 'banana', 'fruity', 'fresh', 'grassy...</td>\n",
       "    </tr>\n",
       "    <tr>\n",
       "      <th>2540</th>\n",
       "      <td>2540</td>\n",
       "      <td>5365811</td>\n",
       "      <td>4-Hexen-3-One</td>\n",
       "      <td>['pungent', 'spicy', 'metallic', 'ethereal', '...</td>\n",
       "    </tr>\n",
       "    <tr>\n",
       "      <th>2541</th>\n",
       "      <td>2541</td>\n",
       "      <td>5367719</td>\n",
       "      <td>Methyl jasmonate</td>\n",
       "      <td>['magnolia', 'waxy', 'petal', 'jasmine', 'melo...</td>\n",
       "    </tr>\n",
       "  </tbody>\n",
       "</table>\n",
       "<p>2542 rows × 4 columns</p>\n",
       "</div>"
      ],
      "text/plain": [
       "        id  pubchem id                  common name  \\\n",
       "0        0           4           1-Aminopropan-2-ol   \n",
       "1        1          49  3-Methyl-2-oxobutanoic acid   \n",
       "2        2          58           2-oxobutanoic acid   \n",
       "3        3          70   4-Methyl-2-oxovaleric acid   \n",
       "4        4          72    3,4-Dihydroxybenzoic Acid   \n",
       "...    ...         ...                          ...   \n",
       "2537  2537     5315892             cinnamyl alcohol   \n",
       "2538  2538     5318042           trans-2-Hexen-1-Ol   \n",
       "2539  2539     5363388        cis-3-Hexenyl acetate   \n",
       "2540  2540     5365811                4-Hexen-3-One   \n",
       "2541  2541     5367719             Methyl jasmonate   \n",
       "\n",
       "                                                flavors  \n",
       "0                                             ['fishy']  \n",
       "1                                            ['fruity']  \n",
       "2     ['caramel', 'sweet', 'creamy', 'brown', 'lacto...  \n",
       "3                                            ['fruity']  \n",
       "4                      ['mild', 'phenolic', 'balsamic']  \n",
       "...                                                 ...  \n",
       "2537  ['bitter', 'sweet', 'powdery', 'cinnamic', 'sp...  \n",
       "2538  ['wine', 'unripe banana', 'leaf', 'alcohol', '...  \n",
       "2539  ['sweet', 'banana', 'fruity', 'fresh', 'grassy...  \n",
       "2540  ['pungent', 'spicy', 'metallic', 'ethereal', '...  \n",
       "2541  ['magnolia', 'waxy', 'petal', 'jasmine', 'melo...  \n",
       "\n",
       "[2542 rows x 4 columns]"
      ]
     },
     "execution_count": 26,
     "metadata": {},
     "output_type": "execute_result"
    }
   ],
   "source": [
    "flavordb_molecules"
   ]
  },
  {
   "cell_type": "code",
   "execution_count": 29,
   "metadata": {},
   "outputs": [
    {
     "name": "stdout",
     "output_type": "stream",
     "text": [
      "before: 2542\n",
      "after: 1788\n"
     ]
    }
   ],
   "source": [
    "print(\"before: \" + str(len(flavordb_molecules)))\n",
    "molecules_copy = flavordb_molecules.drop_duplicates(subset=['pubchem id'])\n",
    "print(\"after: \" + str(len(molecules_copy)))"
   ]
  },
  {
   "cell_type": "code",
   "execution_count": 30,
   "metadata": {},
   "outputs": [],
   "source": [
    "molecules_copy.to_csv('data/molecules_v2.csv', index=False)"
   ]
  },
  {
   "cell_type": "code",
   "execution_count": null,
   "metadata": {},
   "outputs": [],
   "source": [
    "# histogram występowania molekuł\n",
    "# wyrzucić te co występują raz albo bardzo rzadk\n",
    "# zrobic jeden duży wektor ze wszystkimi molekułami [0-1]\n",
    "\n",
    "# ogarnac dane\n",
    "# i wypisac liste metod (must-have i dobrze by było)"
   ]
  },
  {
   "attachments": {},
   "cell_type": "markdown",
   "metadata": {},
   "source": [
    "## Plots\n",
    "___"
   ]
  },
  {
   "cell_type": "code",
   "execution_count": null,
   "metadata": {},
   "outputs": [],
   "source": [
    "from collections import Counter\n",
    "from more_itertools import collapse\n",
    "import plotly.express as px\n",
    "\n",
    "def plot_histogram(df):\n",
    "    molecules = collapse(df['molecules'].values.tolist())\n",
    "    c = Counter(molecules)\n",
    "    fig = px.histogram(\n",
    "    x=list(c.values()), \n",
    "    nbins=610,\n",
    "    )\n",
    "    fig.update_layout(\n",
    "        height=400,\n",
    "        width = 800,\n",
    "        title_text='FlavorDB molecules histogram'\n",
    "    )\n",
    "    fig.show()"
   ]
  },
  {
   "cell_type": "code",
   "execution_count": 108,
   "metadata": {},
   "outputs": [
    {
     "ename": "FileNotFoundError",
     "evalue": "[Errno 2] No such file or directory: 'data/foodb_molecules.csv'",
     "output_type": "error",
     "traceback": [
      "\u001b[0;31m---------------------------------------------------------------------------\u001b[0m",
      "\u001b[0;31mFileNotFoundError\u001b[0m                         Traceback (most recent call last)",
      "Cell \u001b[0;32mIn[108], line 1\u001b[0m\n\u001b[0;32m----> 1\u001b[0m food_df \u001b[39m=\u001b[39m read_food_molecules(\u001b[39m'\u001b[39;49m\u001b[39mfoodb\u001b[39;49m\u001b[39m'\u001b[39;49m)\n",
      "File \u001b[0;32m~/Desktop/szkoła/mgr/food-pairing/utils/data_loading.py:26\u001b[0m, in \u001b[0;36mread_food_molecules\u001b[0;34m(source)\u001b[0m\n\u001b[1;32m     24\u001b[0m     flavor_df[\u001b[39m'\u001b[39m\u001b[39msynonyms\u001b[39m\u001b[39m'\u001b[39m] \u001b[39m=\u001b[39m flavor_df[\u001b[39m'\u001b[39m\u001b[39msynonyms\u001b[39m\u001b[39m'\u001b[39m]\u001b[39m.\u001b[39mapply(string_to_list)\n\u001b[1;32m     25\u001b[0m \u001b[39melse\u001b[39;00m:\n\u001b[0;32m---> 26\u001b[0m     flavor_df \u001b[39m=\u001b[39m pd\u001b[39m.\u001b[39;49mread_csv(\n\u001b[1;32m     27\u001b[0m         \u001b[39m\"\u001b[39;49m\u001b[39mdata/foodb.csv\u001b[39;49m\u001b[39m\"\u001b[39;49m, \n\u001b[1;32m     28\u001b[0m         sep\u001b[39m=\u001b[39;49m\u001b[39m'\u001b[39;49m\u001b[39m;\u001b[39;49m\u001b[39m'\u001b[39;49m, \n\u001b[1;32m     29\u001b[0m         index_col\u001b[39m=\u001b[39;49m\u001b[39mFalse\u001b[39;49;00m\n\u001b[1;32m     30\u001b[0m         )\n\u001b[1;32m     32\u001b[0m     flavor_df[\u001b[39m'\u001b[39m\u001b[39mfood_id\u001b[39m\u001b[39m'\u001b[39m] \u001b[39m=\u001b[39m flavor_df[\u001b[39m'\u001b[39m\u001b[39mfood_id\u001b[39m\u001b[39m'\u001b[39m]\u001b[39m.\u001b[39mastype(\u001b[39mfloat\u001b[39m)\n\u001b[1;32m     33\u001b[0m     flavor_df[\u001b[39m'\u001b[39m\u001b[39mfood_id\u001b[39m\u001b[39m'\u001b[39m] \u001b[39m=\u001b[39m flavor_df[\u001b[39m'\u001b[39m\u001b[39mfood_id\u001b[39m\u001b[39m'\u001b[39m]\u001b[39m.\u001b[39mastype(\u001b[39mint\u001b[39m)\n",
      "File \u001b[0;32m/opt/homebrew/lib/python3.11/site-packages/pandas/io/parsers/readers.py:912\u001b[0m, in \u001b[0;36mread_csv\u001b[0;34m(filepath_or_buffer, sep, delimiter, header, names, index_col, usecols, dtype, engine, converters, true_values, false_values, skipinitialspace, skiprows, skipfooter, nrows, na_values, keep_default_na, na_filter, verbose, skip_blank_lines, parse_dates, infer_datetime_format, keep_date_col, date_parser, date_format, dayfirst, cache_dates, iterator, chunksize, compression, thousands, decimal, lineterminator, quotechar, quoting, doublequote, escapechar, comment, encoding, encoding_errors, dialect, on_bad_lines, delim_whitespace, low_memory, memory_map, float_precision, storage_options, dtype_backend)\u001b[0m\n\u001b[1;32m    899\u001b[0m kwds_defaults \u001b[39m=\u001b[39m _refine_defaults_read(\n\u001b[1;32m    900\u001b[0m     dialect,\n\u001b[1;32m    901\u001b[0m     delimiter,\n\u001b[0;32m   (...)\u001b[0m\n\u001b[1;32m    908\u001b[0m     dtype_backend\u001b[39m=\u001b[39mdtype_backend,\n\u001b[1;32m    909\u001b[0m )\n\u001b[1;32m    910\u001b[0m kwds\u001b[39m.\u001b[39mupdate(kwds_defaults)\n\u001b[0;32m--> 912\u001b[0m \u001b[39mreturn\u001b[39;00m _read(filepath_or_buffer, kwds)\n",
      "File \u001b[0;32m/opt/homebrew/lib/python3.11/site-packages/pandas/io/parsers/readers.py:577\u001b[0m, in \u001b[0;36m_read\u001b[0;34m(filepath_or_buffer, kwds)\u001b[0m\n\u001b[1;32m    574\u001b[0m _validate_names(kwds\u001b[39m.\u001b[39mget(\u001b[39m\"\u001b[39m\u001b[39mnames\u001b[39m\u001b[39m\"\u001b[39m, \u001b[39mNone\u001b[39;00m))\n\u001b[1;32m    576\u001b[0m \u001b[39m# Create the parser.\u001b[39;00m\n\u001b[0;32m--> 577\u001b[0m parser \u001b[39m=\u001b[39m TextFileReader(filepath_or_buffer, \u001b[39m*\u001b[39;49m\u001b[39m*\u001b[39;49mkwds)\n\u001b[1;32m    579\u001b[0m \u001b[39mif\u001b[39;00m chunksize \u001b[39mor\u001b[39;00m iterator:\n\u001b[1;32m    580\u001b[0m     \u001b[39mreturn\u001b[39;00m parser\n",
      "File \u001b[0;32m/opt/homebrew/lib/python3.11/site-packages/pandas/io/parsers/readers.py:1407\u001b[0m, in \u001b[0;36mTextFileReader.__init__\u001b[0;34m(self, f, engine, **kwds)\u001b[0m\n\u001b[1;32m   1404\u001b[0m     \u001b[39mself\u001b[39m\u001b[39m.\u001b[39moptions[\u001b[39m\"\u001b[39m\u001b[39mhas_index_names\u001b[39m\u001b[39m\"\u001b[39m] \u001b[39m=\u001b[39m kwds[\u001b[39m\"\u001b[39m\u001b[39mhas_index_names\u001b[39m\u001b[39m\"\u001b[39m]\n\u001b[1;32m   1406\u001b[0m \u001b[39mself\u001b[39m\u001b[39m.\u001b[39mhandles: IOHandles \u001b[39m|\u001b[39m \u001b[39mNone\u001b[39;00m \u001b[39m=\u001b[39m \u001b[39mNone\u001b[39;00m\n\u001b[0;32m-> 1407\u001b[0m \u001b[39mself\u001b[39m\u001b[39m.\u001b[39m_engine \u001b[39m=\u001b[39m \u001b[39mself\u001b[39;49m\u001b[39m.\u001b[39;49m_make_engine(f, \u001b[39mself\u001b[39;49m\u001b[39m.\u001b[39;49mengine)\n",
      "File \u001b[0;32m/opt/homebrew/lib/python3.11/site-packages/pandas/io/parsers/readers.py:1661\u001b[0m, in \u001b[0;36mTextFileReader._make_engine\u001b[0;34m(self, f, engine)\u001b[0m\n\u001b[1;32m   1659\u001b[0m     \u001b[39mif\u001b[39;00m \u001b[39m\"\u001b[39m\u001b[39mb\u001b[39m\u001b[39m\"\u001b[39m \u001b[39mnot\u001b[39;00m \u001b[39min\u001b[39;00m mode:\n\u001b[1;32m   1660\u001b[0m         mode \u001b[39m+\u001b[39m\u001b[39m=\u001b[39m \u001b[39m\"\u001b[39m\u001b[39mb\u001b[39m\u001b[39m\"\u001b[39m\n\u001b[0;32m-> 1661\u001b[0m \u001b[39mself\u001b[39m\u001b[39m.\u001b[39mhandles \u001b[39m=\u001b[39m get_handle(\n\u001b[1;32m   1662\u001b[0m     f,\n\u001b[1;32m   1663\u001b[0m     mode,\n\u001b[1;32m   1664\u001b[0m     encoding\u001b[39m=\u001b[39;49m\u001b[39mself\u001b[39;49m\u001b[39m.\u001b[39;49moptions\u001b[39m.\u001b[39;49mget(\u001b[39m\"\u001b[39;49m\u001b[39mencoding\u001b[39;49m\u001b[39m\"\u001b[39;49m, \u001b[39mNone\u001b[39;49;00m),\n\u001b[1;32m   1665\u001b[0m     compression\u001b[39m=\u001b[39;49m\u001b[39mself\u001b[39;49m\u001b[39m.\u001b[39;49moptions\u001b[39m.\u001b[39;49mget(\u001b[39m\"\u001b[39;49m\u001b[39mcompression\u001b[39;49m\u001b[39m\"\u001b[39;49m, \u001b[39mNone\u001b[39;49;00m),\n\u001b[1;32m   1666\u001b[0m     memory_map\u001b[39m=\u001b[39;49m\u001b[39mself\u001b[39;49m\u001b[39m.\u001b[39;49moptions\u001b[39m.\u001b[39;49mget(\u001b[39m\"\u001b[39;49m\u001b[39mmemory_map\u001b[39;49m\u001b[39m\"\u001b[39;49m, \u001b[39mFalse\u001b[39;49;00m),\n\u001b[1;32m   1667\u001b[0m     is_text\u001b[39m=\u001b[39;49mis_text,\n\u001b[1;32m   1668\u001b[0m     errors\u001b[39m=\u001b[39;49m\u001b[39mself\u001b[39;49m\u001b[39m.\u001b[39;49moptions\u001b[39m.\u001b[39;49mget(\u001b[39m\"\u001b[39;49m\u001b[39mencoding_errors\u001b[39;49m\u001b[39m\"\u001b[39;49m, \u001b[39m\"\u001b[39;49m\u001b[39mstrict\u001b[39;49m\u001b[39m\"\u001b[39;49m),\n\u001b[1;32m   1669\u001b[0m     storage_options\u001b[39m=\u001b[39;49m\u001b[39mself\u001b[39;49m\u001b[39m.\u001b[39;49moptions\u001b[39m.\u001b[39;49mget(\u001b[39m\"\u001b[39;49m\u001b[39mstorage_options\u001b[39;49m\u001b[39m\"\u001b[39;49m, \u001b[39mNone\u001b[39;49;00m),\n\u001b[1;32m   1670\u001b[0m )\n\u001b[1;32m   1671\u001b[0m \u001b[39massert\u001b[39;00m \u001b[39mself\u001b[39m\u001b[39m.\u001b[39mhandles \u001b[39mis\u001b[39;00m \u001b[39mnot\u001b[39;00m \u001b[39mNone\u001b[39;00m\n\u001b[1;32m   1672\u001b[0m f \u001b[39m=\u001b[39m \u001b[39mself\u001b[39m\u001b[39m.\u001b[39mhandles\u001b[39m.\u001b[39mhandle\n",
      "File \u001b[0;32m/opt/homebrew/lib/python3.11/site-packages/pandas/io/common.py:859\u001b[0m, in \u001b[0;36mget_handle\u001b[0;34m(path_or_buf, mode, encoding, compression, memory_map, is_text, errors, storage_options)\u001b[0m\n\u001b[1;32m    854\u001b[0m \u001b[39melif\u001b[39;00m \u001b[39misinstance\u001b[39m(handle, \u001b[39mstr\u001b[39m):\n\u001b[1;32m    855\u001b[0m     \u001b[39m# Check whether the filename is to be opened in binary mode.\u001b[39;00m\n\u001b[1;32m    856\u001b[0m     \u001b[39m# Binary mode does not support 'encoding' and 'newline'.\u001b[39;00m\n\u001b[1;32m    857\u001b[0m     \u001b[39mif\u001b[39;00m ioargs\u001b[39m.\u001b[39mencoding \u001b[39mand\u001b[39;00m \u001b[39m\"\u001b[39m\u001b[39mb\u001b[39m\u001b[39m\"\u001b[39m \u001b[39mnot\u001b[39;00m \u001b[39min\u001b[39;00m ioargs\u001b[39m.\u001b[39mmode:\n\u001b[1;32m    858\u001b[0m         \u001b[39m# Encoding\u001b[39;00m\n\u001b[0;32m--> 859\u001b[0m         handle \u001b[39m=\u001b[39m \u001b[39mopen\u001b[39m(\n\u001b[1;32m    860\u001b[0m             handle,\n\u001b[1;32m    861\u001b[0m             ioargs\u001b[39m.\u001b[39mmode,\n\u001b[1;32m    862\u001b[0m             encoding\u001b[39m=\u001b[39mioargs\u001b[39m.\u001b[39mencoding,\n\u001b[1;32m    863\u001b[0m             errors\u001b[39m=\u001b[39merrors,\n\u001b[1;32m    864\u001b[0m             newline\u001b[39m=\u001b[39m\u001b[39m\"\u001b[39m\u001b[39m\"\u001b[39m,\n\u001b[1;32m    865\u001b[0m         )\n\u001b[1;32m    866\u001b[0m     \u001b[39melse\u001b[39;00m:\n\u001b[1;32m    867\u001b[0m         \u001b[39m# Binary mode\u001b[39;00m\n\u001b[1;32m    868\u001b[0m         handle \u001b[39m=\u001b[39m \u001b[39mopen\u001b[39m(handle, ioargs\u001b[39m.\u001b[39mmode)\n",
      "\u001b[0;31mFileNotFoundError\u001b[0m: [Errno 2] No such file or directory: 'data/foodb_molecules.csv'"
     ]
    }
   ],
   "source": [
    "food_df = read_food_molecules('foodb')"
   ]
  },
  {
   "cell_type": "code",
   "execution_count": 5,
   "metadata": {},
   "outputs": [
    {
     "data": {
      "text/html": [
       "<div>\n",
       "<style scoped>\n",
       "    .dataframe tbody tr th:only-of-type {\n",
       "        vertical-align: middle;\n",
       "    }\n",
       "\n",
       "    .dataframe tbody tr th {\n",
       "        vertical-align: top;\n",
       "    }\n",
       "\n",
       "    .dataframe thead th {\n",
       "        text-align: right;\n",
       "    }\n",
       "</style>\n",
       "<table border=\"1\" class=\"dataframe\">\n",
       "  <thead>\n",
       "    <tr style=\"text-align: right;\">\n",
       "      <th></th>\n",
       "      <th>id</th>\n",
       "      <th>ingredient</th>\n",
       "      <th>synonyms</th>\n",
       "      <th>scientific name</th>\n",
       "      <th>category</th>\n",
       "      <th>molecules</th>\n",
       "    </tr>\n",
       "  </thead>\n",
       "  <tbody>\n",
       "    <tr>\n",
       "      <th>86</th>\n",
       "      <td>87</td>\n",
       "      <td>ghee</td>\n",
       "      <td>[ghee]</td>\n",
       "      <td>cattle</td>\n",
       "      <td>dairy</td>\n",
       "      <td>[7714]</td>\n",
       "    </tr>\n",
       "    <tr>\n",
       "      <th>94</th>\n",
       "      <td>95</td>\n",
       "      <td>achilleas</td>\n",
       "      <td>[allheal, achillea, yarrow, bloodwort]</td>\n",
       "      <td>achillea</td>\n",
       "      <td>essential oil</td>\n",
       "      <td>[2758]</td>\n",
       "    </tr>\n",
       "    <tr>\n",
       "      <th>100</th>\n",
       "      <td>101</td>\n",
       "      <td>cedar</td>\n",
       "      <td>[cedar]</td>\n",
       "      <td>cedrus</td>\n",
       "      <td>essential oil</td>\n",
       "      <td>[1201521]</td>\n",
       "    </tr>\n",
       "    <tr>\n",
       "      <th>131</th>\n",
       "      <td>132</td>\n",
       "      <td>yarrow</td>\n",
       "      <td>[thousand-leaf, devils nettle, sanguinary, old...</td>\n",
       "      <td>achillea</td>\n",
       "      <td>essential oil</td>\n",
       "      <td>[6654]</td>\n",
       "    </tr>\n",
       "    <tr>\n",
       "      <th>141</th>\n",
       "      <td>142</td>\n",
       "      <td>prawn</td>\n",
       "      <td>[prawn]</td>\n",
       "      <td>crustacean</td>\n",
       "      <td>seafood</td>\n",
       "      <td>[15380]</td>\n",
       "    </tr>\n",
       "  </tbody>\n",
       "</table>\n",
       "</div>"
      ],
      "text/plain": [
       "      id ingredient                                           synonyms  \\\n",
       "86    87       ghee                                             [ghee]   \n",
       "94    95  achilleas             [allheal, achillea, yarrow, bloodwort]   \n",
       "100  101      cedar                                            [cedar]   \n",
       "131  132     yarrow  [thousand-leaf, devils nettle, sanguinary, old...   \n",
       "141  142      prawn                                            [prawn]   \n",
       "\n",
       "    scientific name       category  molecules  \n",
       "86           cattle          dairy     [7714]  \n",
       "94         achillea  essential oil     [2758]  \n",
       "100          cedrus  essential oil  [1201521]  \n",
       "131        achillea  essential oil     [6654]  \n",
       "141      crustacean        seafood    [15380]  "
      ]
     },
     "execution_count": 5,
     "metadata": {},
     "output_type": "execute_result"
    }
   ],
   "source": [
    "filtered_df = flavor_df[flavor_df['molecules'].apply(len) == 1]\n",
    "\n",
    "filtered_df.head()"
   ]
  },
  {
   "cell_type": "code",
   "execution_count": 6,
   "metadata": {},
   "outputs": [
    {
     "data": {
      "text/plain": [
       "20"
      ]
     },
     "execution_count": 6,
     "metadata": {},
     "output_type": "execute_result"
    }
   ],
   "source": [
    "len(filtered_df)"
   ]
  },
  {
   "cell_type": "code",
   "execution_count": 8,
   "metadata": {},
   "outputs": [],
   "source": [
    "single_elements = filtered_df['molecules'].explode().unique().tolist()"
   ]
  },
  {
   "cell_type": "code",
   "execution_count": 9,
   "metadata": {},
   "outputs": [
    {
     "data": {
      "text/plain": [
       "[7714,\n",
       " 2758,\n",
       " 1201521,\n",
       " 6654,\n",
       " 15380,\n",
       " 5311110,\n",
       " 5364578,\n",
       " 3591866,\n",
       " 7127,\n",
       " 1550890,\n",
       " 32594,\n",
       " 1130,\n",
       " 644104]"
      ]
     },
     "execution_count": 9,
     "metadata": {},
     "output_type": "execute_result"
    }
   ],
   "source": [
    "single_elements"
   ]
  },
  {
   "cell_type": "code",
   "execution_count": 12,
   "metadata": {},
   "outputs": [],
   "source": [
    "singles_counts = [c.get(x) for x in single_elements]"
   ]
  },
  {
   "cell_type": "code",
   "execution_count": 13,
   "metadata": {},
   "outputs": [
    {
     "data": {
      "text/plain": [
       "[17, 64, 9, 123, 10, 8, 4, 1, 33, 1, 17, 506, 609]"
      ]
     },
     "execution_count": 13,
     "metadata": {},
     "output_type": "execute_result"
    }
   ],
   "source": [
    "singles_counts"
   ]
  },
  {
   "cell_type": "code",
   "execution_count": 17,
   "metadata": {},
   "outputs": [
    {
     "name": "stdout",
     "output_type": "stream",
     "text": [
      "Minimum length: 1\n",
      "Maximum length: 391\n",
      "Average length: 71.6243842364532\n"
     ]
    }
   ],
   "source": [
    "check_lengths(flavor_df)"
   ]
  }
 ],
 "metadata": {
  "kernelspec": {
   "display_name": "Python 3",
   "language": "python",
   "name": "python3"
  },
  "language_info": {
   "codemirror_mode": {
    "name": "ipython",
    "version": 3
   },
   "file_extension": ".py",
   "mimetype": "text/x-python",
   "name": "python",
   "nbconvert_exporter": "python",
   "pygments_lexer": "ipython3",
   "version": "3.11.6"
  },
  "orig_nbformat": 4
 },
 "nbformat": 4,
 "nbformat_minor": 2
}
