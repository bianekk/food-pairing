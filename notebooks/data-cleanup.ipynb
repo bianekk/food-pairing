{
 "cells": [
  {
   "cell_type": "code",
   "execution_count": 2,
   "metadata": {},
   "outputs": [],
   "source": [
    "import pandas as pd\n",
    "import os\n",
    "import numpy as np\n",
    "\n",
    "if os.path.basename(os.getcwd()) != 'food-pairing':\n",
    "    os.chdir(os.path.dirname(os.getcwd()))\n",
    "\n",
    "import re\n",
    "import ast\n",
    "from utils.data_loading import read_foods, read_molecules\n",
    "from utils.ml_utils import molecules2vec\n"
   ]
  },
  {
   "attachments": {},
   "cell_type": "markdown",
   "metadata": {},
   "source": [
    "## Data exploration\n",
    "___"
   ]
  },
  {
   "cell_type": "code",
   "execution_count": 8,
   "metadata": {},
   "outputs": [],
   "source": [
    "def string_to_list(string):\n",
    "    return ast.literal_eval(string)\n",
    "\n",
    "def string_to_int(lst):\n",
    "    lst = [(float(x)) for x in lst] \n",
    "    return lst"
   ]
  },
  {
   "cell_type": "code",
   "execution_count": null,
   "metadata": {},
   "outputs": [],
   "source": [
    "molecules_df = pd.read_csv(\n",
    "    \"data/flavordb_molecules.csv\", \n",
    "    sep=';',\n",
    "    index_col=False\n",
    "    )\n",
    "molecules_df['flavors'] = molecules_df['flavors'].apply(string_to_list)"
   ]
  },
  {
   "cell_type": "code",
   "execution_count": null,
   "metadata": {},
   "outputs": [],
   "source": [
    "flavordb_foods = read_food_molecules()"
   ]
  },
  {
   "cell_type": "code",
   "execution_count": null,
   "metadata": {},
   "outputs": [],
   "source": [
    "def translate_to_foodb(lst):\n",
    "    foodb_ids = lst.copy()\n",
    "    for i in range(len(foodb_ids)):\n",
    "        try:\n",
    "            foodb_ids[i] = molecules_df.loc[molecules_df['pubchem id']== foodb_ids[i], 'foodbid'].values[0]\n",
    "        except IndexError:\n",
    "            print(f\"No matching ID found for {foodb_ids[i]}\")\n",
    "            foodb_ids[i] = 0\n",
    "   # lst = [molecules_df.loc[molecules_df['pubchem id']== x, 'foodbid'].values[0] for x in lst]\n",
    "    return foodb_ids"
   ]
  },
  {
   "cell_type": "code",
   "execution_count": null,
   "metadata": {},
   "outputs": [],
   "source": [
    "flavordb_foods['foodb_ids'] = flavordb_foods['molecules'].apply(translate_to_foodb)"
   ]
  },
  {
   "cell_type": "code",
   "execution_count": null,
   "metadata": {},
   "outputs": [],
   "source": [
    "flavordb_foods.to_csv(\"data/flavordb_foods.csv\", sep=';', index=None)"
   ]
  },
  {
   "attachments": {},
   "cell_type": "markdown",
   "metadata": {},
   "source": [
    "## Preprocessing\n",
    "___"
   ]
  },
  {
   "cell_type": "code",
   "execution_count": 9,
   "metadata": {},
   "outputs": [],
   "source": [
    "def remove_dupes(lst):\n",
    "    return list(set(lst))\n",
    "\n",
    "def calculate_list_length(lst):\n",
    "    return len(lst)\n",
    "\n",
    "def sort_list(lst):\n",
    "    return sorted(lst)\n",
    "\n",
    "def to_integer(lst):\n",
    "    return [int(x) for x in lst]\n",
    "\n",
    "def string_to_list(string):\n",
    "    try:\n",
    "        return ast.literal_eval(string)\n",
    "    except:\n",
    "        return [s.strip(\"'\") for s in string[1:-1].split(', ')]"
   ]
  },
  {
   "cell_type": "code",
   "execution_count": 10,
   "metadata": {},
   "outputs": [],
   "source": [
    "def check_lengths(df):\n",
    "    df['list_length'] = df['foodb_ids'].apply(calculate_list_length)\n",
    "    min_length = df['list_length'].min()\n",
    "    max_length = df['list_length'].max()\n",
    "    average_length = df['list_length'].mean()\n",
    "\n",
    "    print(\"Minimum length:\", min_length)\n",
    "    print(\"Maximum length:\", max_length)\n",
    "    print(\"Average length:\", average_length)"
   ]
  },
  {
   "cell_type": "code",
   "execution_count": null,
   "metadata": {},
   "outputs": [],
   "source": [
    "def sort_molecules_by_quantity(group):\n",
    "    sorted_molecules = group.sort_values(by='standard_content', ascending=False)['source_id'].tolist()\n",
    "    return sorted_molecules\n",
    "\n",
    "food_molecules_df_v2 = foodb_copy.groupby(['orig_food_id', 'orig_food_common_name']).apply(sort_molecules_by_quantity).reset_index()\n",
    "\n",
    "# Rename columns\n",
    "food_molecules_df_v2.columns = ['id','ingredient', 'molecules']"
   ]
  },
  {
   "cell_type": "code",
   "execution_count": null,
   "metadata": {},
   "outputs": [],
   "source": [
    "food_molecules_df_v2.to_csv(\"data/foodb_molecules.csv\", sep=';', index=False)"
   ]
  },
  {
   "cell_type": "code",
   "execution_count": null,
   "metadata": {},
   "outputs": [],
   "source": [
    "flavordb_molecules = pd.read_csv('data/molecules.csv', index_col=False)"
   ]
  },
  {
   "cell_type": "code",
   "execution_count": null,
   "metadata": {},
   "outputs": [],
   "source": [
    "flavordb_molecules"
   ]
  },
  {
   "cell_type": "code",
   "execution_count": null,
   "metadata": {},
   "outputs": [],
   "source": [
    "print(\"before: \" + str(len(flavordb_molecules)))\n",
    "molecules_copy = flavordb_molecules.drop_duplicates(subset=['pubchem id'])\n",
    "print(\"after: \" + str(len(molecules_copy)))"
   ]
  },
  {
   "cell_type": "code",
   "execution_count": null,
   "metadata": {},
   "outputs": [],
   "source": [
    "molecules_copy.to_csv('data/molecules_v2.csv', index=False)"
   ]
  },
  {
   "cell_type": "code",
   "execution_count": null,
   "metadata": {},
   "outputs": [],
   "source": [
    "def read_food_molecules(source: str = \"flavordb\") -> pd.DataFrame:\n",
    "    if source == \"flavordb\":\n",
    "        flavor_df = pd.read_csv(\n",
    "            \"data/flavordb_foods.csv\", \n",
    "            sep=';', \n",
    "            index_col=False\n",
    "            )\n",
    "        flavor_df['synonyms'] = flavor_df['synonyms'].apply(string_to_list)\n",
    "        flavor_df['foodb_ids'] = flavor_df['foodb_ids'].apply(string_to_list)\n",
    "    else:\n",
    "        flavor_df = pd.read_csv(\n",
    "            \"data/foodb_v2.csv\", \n",
    "            sep=';', \n",
    "            index_col=False\n",
    "            )\n",
    "\n",
    "        flavor_df['public_ids'] = flavor_df['public_ids'].apply(string_to_list)\n",
    "        flavor_df['food_id'] = flavor_df['food_id'].astype(float)\n",
    "        flavor_df['food_id'] = flavor_df['food_id'].astype(int)\n",
    "    \n",
    "    flavor_df['molecules'] = flavor_df['molecules'].apply(string_to_list)\n",
    "\n",
    "    return flavor_df"
   ]
  },
  {
   "attachments": {},
   "cell_type": "markdown",
   "metadata": {},
   "source": [
    "## Molecules shared across databases\n",
    "___"
   ]
  },
  {
   "cell_type": "code",
   "execution_count": null,
   "metadata": {},
   "outputs": [],
   "source": [
    "flavordb_df = read_food_molecules()\n",
    "foodb_df = read_food_molecules(\"foodb\")"
   ]
  },
  {
   "cell_type": "code",
   "execution_count": null,
   "metadata": {},
   "outputs": [],
   "source": [
    "def flatten(xss):\n",
    "    return [x for xs in xss for x in xs]"
   ]
  },
  {
   "cell_type": "code",
   "execution_count": null,
   "metadata": {},
   "outputs": [],
   "source": [
    "shared = []\n",
    "foodb = list(set(flatten(foodb_df['public_ids'].values.tolist())))\n",
    "flavordb = list(set(flatten(flavordb_df['foodb_ids'].values.tolist())))"
   ]
  },
  {
   "cell_type": "code",
   "execution_count": null,
   "metadata": {},
   "outputs": [],
   "source": [
    "len(flavordb)"
   ]
  },
  {
   "cell_type": "code",
   "execution_count": null,
   "metadata": {},
   "outputs": [],
   "source": [
    "def maybeMakeNumber(s):\n",
    "    \"\"\"Returns a string 's' into a integer if possible, a float if needed or\n",
    "    returns it as is.\"\"\"\n",
    "\n",
    "    # handle None, \"\", 0\n",
    "    if not s:\n",
    "        return s\n",
    "    try:\n",
    "        f = float(s)\n",
    "        i = int(f)\n",
    "        return i if f == i else f\n",
    "    except ValueError:\n",
    "        return s"
   ]
  },
  {
   "cell_type": "code",
   "execution_count": null,
   "metadata": {},
   "outputs": [],
   "source": [
    "for x in foodb:\n",
    "    x = maybeMakeNumber(x)"
   ]
  },
  {
   "cell_type": "code",
   "execution_count": null,
   "metadata": {},
   "outputs": [],
   "source": [
    "len(flavordb)"
   ]
  },
  {
   "cell_type": "code",
   "execution_count": null,
   "metadata": {},
   "outputs": [],
   "source": [
    "1130 in foodb"
   ]
  },
  {
   "cell_type": "code",
   "execution_count": null,
   "metadata": {},
   "outputs": [],
   "source": [
    "for molecule in foodb:\n",
    "    if molecule in flavordb:\n",
    "        shared.append(molecule)\n",
    "    else:\n",
    "        print(f\"{molecule} not found in FooDB\")"
   ]
  },
  {
   "cell_type": "code",
   "execution_count": null,
   "metadata": {},
   "outputs": [],
   "source": [
    "len(shared)"
   ]
  },
  {
   "cell_type": "code",
   "execution_count": null,
   "metadata": {},
   "outputs": [],
   "source": [
    "apple_foodb = (foodb_df[foodb_df['food']=='apple'])['public_ids'].values.tolist()[0]"
   ]
  },
  {
   "cell_type": "code",
   "execution_count": null,
   "metadata": {},
   "outputs": [],
   "source": [
    "apple_flavordb = (flavordb_df[flavordb_df['food']=='apple'])['foodb_ids'].values.tolist()[0]"
   ]
  },
  {
   "cell_type": "code",
   "execution_count": null,
   "metadata": {},
   "outputs": [],
   "source": [
    "shared = []\n",
    "for molecule in apple_flavordb:\n",
    "    if molecule in apple_foodb:\n",
    "        shared.append(molecule)\n",
    "    else:\n",
    "        print(f\"{molecule} not found in FooDB\")"
   ]
  },
  {
   "cell_type": "code",
   "execution_count": null,
   "metadata": {},
   "outputs": [],
   "source": [
    "len(shared)"
   ]
  },
  {
   "attachments": {},
   "cell_type": "markdown",
   "metadata": {},
   "source": [
    "## Removing molecules from FooDB that are absent in FlavorDB\n",
    "___"
   ]
  },
  {
   "cell_type": "code",
   "execution_count": null,
   "metadata": {},
   "outputs": [],
   "source": [
    "foodb_molecules_full = pd.read_csv(\n",
    "    \"foodb/Compounds_v3.csv\",\n",
    "    sep=';',\n",
    "    index_col=False,\n",
    ")\n",
    "\n",
    "foodb_molecules_filtered = foodb_molecules_full[foodb_molecules_full['public_id'].isin(flavordb)]"
   ]
  },
  {
   "cell_type": "code",
   "execution_count": null,
   "metadata": {},
   "outputs": [],
   "source": [
    "print(len(foodb_molecules_filtered))\n",
    "foodb_molecules_filtered = foodb_molecules_filtered.drop_duplicates(subset=['public_id'])\n",
    "print(len(foodb_molecules_filtered))"
   ]
  },
  {
   "cell_type": "code",
   "execution_count": null,
   "metadata": {},
   "outputs": [],
   "source": [
    "foodb_molecules_filtered.to_csv(\"data/foodb_molecules_filtered.csv\", sep=';', index=None)"
   ]
  },
  {
   "cell_type": "code",
   "execution_count": null,
   "metadata": {},
   "outputs": [],
   "source": [
    "foodb_foods_full = pd.read_csv(\n",
    "    \"data/foodb.csv\",\n",
    "    sep=';',\n",
    "    index_col=False,\n",
    ")"
   ]
  },
  {
   "cell_type": "code",
   "execution_count": null,
   "metadata": {},
   "outputs": [],
   "source": [
    "foodb_foods_full.head(3)"
   ]
  },
  {
   "cell_type": "code",
   "execution_count": null,
   "metadata": {},
   "outputs": [],
   "source": [
    "foodb_foods_full['public_ids'] = foodb_foods_full['public_ids'].apply(string_to_list)\n",
    "foodb_foods_full['molecules'] = foodb_foods_full['molecules'].apply(string_to_list)\n",
    "foodb_foods_full['quantities'] = foodb_foods_full['quantities'].apply(string_to_list)"
   ]
  },
  {
   "cell_type": "code",
   "execution_count": null,
   "metadata": {},
   "outputs": [],
   "source": [
    "class resetable_range:\n",
    "    def __init__(self, val):\n",
    "        self.max = val\n",
    "        self.val = 0\n",
    "    def __iter__(self):\n",
    "        return self\n",
    "    def __next__(self):\n",
    "        val = self.val\n",
    "        if self.val == self.max:\n",
    "            raise StopIteration\n",
    "        self.val += 1\n",
    "        return val\n",
    "    def reset(self, val):\n",
    "        self.val = val"
   ]
  },
  {
   "cell_type": "code",
   "execution_count": null,
   "metadata": {},
   "outputs": [],
   "source": [
    "for row in range(len(foodb_foods_full)):\n",
    "  public_to_check = foodb_foods_full.at[row, 'public_ids']\n",
    "  id_to_check = foodb_foods_full.at[row, 'molecules']\n",
    "  quantites_to_check = foodb_foods_full.at[row, 'quantities']\n",
    "  l = resetable_range(len(public_to_check))\n",
    "  for i in l:\n",
    "    if i >= len(public_to_check):\n",
    "      break\n",
    "    if public_to_check[i] in flavordb: # if the molecule exists in both datasets\n",
    "      pass\n",
    "    else:\n",
    "      del public_to_check[i]\n",
    "      del id_to_check[i]\n",
    "      del quantites_to_check[i]\n",
    "      l.reset(i)\n",
    "  foodb_foods_full.at[row, 'public_ids'] = public_to_check\n",
    "  foodb_foods_full.at[row, 'molecules'] = id_to_check\n",
    "  foodb_foods_full.at[row, 'quantities'] = quantites_to_check\n",
    "\n",
    "  "
   ]
  },
  {
   "cell_type": "code",
   "execution_count": null,
   "metadata": {},
   "outputs": [],
   "source": [
    "foodb_foods_full.to_csv(\"data/foodb_foods_filtered.csv\", sep=';', index=None)"
   ]
  },
  {
   "attachments": {},
   "cell_type": "markdown",
   "metadata": {},
   "source": [
    "## Removing molecules from FlavorDB that are absent in FooDB\n",
    "___"
   ]
  },
  {
   "cell_type": "code",
   "execution_count": null,
   "metadata": {},
   "outputs": [],
   "source": [
    "flavordb_molecules_full = read_molecules()"
   ]
  },
  {
   "cell_type": "code",
   "execution_count": null,
   "metadata": {},
   "outputs": [],
   "source": [
    "print(len(flavordb_molecules_full))\n",
    "flavordb_molecules_full = flavordb_molecules_full.drop_duplicates(subset=['foodbid'])\n",
    "print(len(flavordb_molecules_full))"
   ]
  },
  {
   "cell_type": "code",
   "execution_count": null,
   "metadata": {},
   "outputs": [],
   "source": [
    "flavordb_molecules_filtered = flavordb_molecules_full[flavordb_molecules_full['foodbid'].isin(foodb)]\n",
    "len(flavordb_molecules_filtered)"
   ]
  },
  {
   "cell_type": "code",
   "execution_count": null,
   "metadata": {},
   "outputs": [],
   "source": [
    "flavordb_molecules_filtered.to_csv(\"data/flavordb_molecules_filtered.csv\", sep=';', index=None)"
   ]
  },
  {
   "cell_type": "code",
   "execution_count": null,
   "metadata": {},
   "outputs": [],
   "source": [
    "flavordb_foods_full = read_food_molecules()"
   ]
  },
  {
   "cell_type": "code",
   "execution_count": null,
   "metadata": {},
   "outputs": [],
   "source": [
    "flavordb_foods_full.head(3)"
   ]
  },
  {
   "cell_type": "code",
   "execution_count": null,
   "metadata": {},
   "outputs": [],
   "source": [
    "for row in range(len(flavordb_foods_full)):\n",
    "  public_to_check = flavordb_foods_full.at[row, 'foodb_ids']\n",
    "  id_to_check = flavordb_foods_full.at[row, 'molecules']\n",
    "  l = resetable_range(len(public_to_check))\n",
    "  for i in l:\n",
    "    if i >= len(public_to_check):\n",
    "      break\n",
    "    if public_to_check[i] in foodb: # if the molecule exists in both datasets\n",
    "      pass\n",
    "    else:\n",
    "      del public_to_check[i]\n",
    "      del id_to_check[i]\n",
    "      l.reset(i)\n",
    "  flavordb_foods_full.at[row, 'foodb_ids'] = public_to_check\n",
    "  flavordb_foods_full.at[row, 'molecules'] = id_to_check"
   ]
  },
  {
   "cell_type": "code",
   "execution_count": null,
   "metadata": {},
   "outputs": [],
   "source": [
    "flavordb_foods_full.to_csv(\"data/flavordb_foods_filtered.csv\", sep=';', index=None)"
   ]
  },
  {
   "attachments": {},
   "cell_type": "markdown",
   "metadata": {},
   "source": [
    "## Joinig FlavorDB and FooDB data into single dataset\n",
    "___"
   ]
  },
  {
   "cell_type": "code",
   "execution_count": null,
   "metadata": {},
   "outputs": [],
   "source": [
    "foods_df = flavordb_foods_full.copy()\n",
    "\n",
    "foodb_foods_filtered = pd.read_csv(\n",
    "            \"data/foodb_foods_filtered.csv\", \n",
    "            sep=';', \n",
    "            index_col=False\n",
    "            )\n",
    "\n",
    "foodb_foods_filtered['public_ids'] = foodb_foods_filtered['public_ids'].apply(string_to_list)\n",
    "foodb_foods_filtered['molecules'] = foodb_foods_filtered['molecules'].apply(string_to_list)\n",
    "foodb_foods_filtered['quantities'] = foodb_foods_filtered['quantities'].apply(string_to_list)"
   ]
  },
  {
   "cell_type": "code",
   "execution_count": null,
   "metadata": {},
   "outputs": [],
   "source": [
    "flavordb_foods_full.head()"
   ]
  },
  {
   "cell_type": "code",
   "execution_count": null,
   "metadata": {},
   "outputs": [],
   "source": [
    "foodb_foods_filtered.head()"
   ]
  },
  {
   "cell_type": "code",
   "execution_count": null,
   "metadata": {},
   "outputs": [],
   "source": [
    "foodb_foods = foodb_foods_filtered['food'].values.tolist() # 982 entites\n",
    "flavordb_foods = flavordb_foods_full['food'].values.tolist() # 800 entities\n",
    "\n",
    "# 517 shared foods between datasets"
   ]
  },
  {
   "cell_type": "code",
   "execution_count": null,
   "metadata": {},
   "outputs": [],
   "source": [
    "shared = []\n",
    "for entity in flavordb_foods:\n",
    "    if entity in foodb_foods:\n",
    "        shared.append(entity)"
   ]
  },
  {
   "cell_type": "code",
   "execution_count": null,
   "metadata": {},
   "outputs": [],
   "source": [
    "foods_df['quantities'] = pd.Series()"
   ]
  },
  {
   "cell_type": "code",
   "execution_count": null,
   "metadata": {},
   "outputs": [],
   "source": [
    "foods_df.head()"
   ]
  },
  {
   "cell_type": "code",
   "execution_count": null,
   "metadata": {},
   "outputs": [],
   "source": [
    "# adding foodb data (qunatities) to foods in flavordb\n",
    "\n",
    "for row in range(len(foods_df)): # copy of flavordb_foods_full\n",
    "  food_to_check = foods_df.at[row, 'food']\n",
    "  if food_to_check in shared:\n",
    "    \n",
    "    foodb_molecules_ids = foodb_foods_full.loc[foodb_foods_full['food'] == food_to_check, 'public_ids']\n",
    "    foodb_molecules_quants = foodb_foods_full.loc[foodb_foods_full['food'] == food_to_check, 'quantities']\n",
    "\n",
    "    ids_quants_dict = dict(zip(foodb_molecules_ids.values[0], foodb_molecules_quants.values[0]))\n",
    "\n",
    "    entity_molecules_ids = list(set(foodb_molecules_ids.values[0] + foods_df.at[row, 'foodb_ids']))\n",
    "    entity_molecules_quantities = [ids_quants_dict[x] if x in ids_quants_dict.keys() else 0 for x in entity_molecules_ids ]\n",
    "    \n",
    "    foods_df.at[row, 'foodb_ids'] = entity_molecules_ids\n",
    "    foods_df.at[row, 'quantities'] = entity_molecules_quantities\n",
    "  \n",
    "  else:\n",
    "    foods_df.at[row, 'quantities'] = []\n",
    "  "
   ]
  },
  {
   "cell_type": "code",
   "execution_count": null,
   "metadata": {},
   "outputs": [],
   "source": [
    "foods_df.head()"
   ]
  },
  {
   "cell_type": "code",
   "execution_count": null,
   "metadata": {},
   "outputs": [],
   "source": [
    "foodb_foods_full.head(1)"
   ]
  },
  {
   "cell_type": "code",
   "execution_count": null,
   "metadata": {},
   "outputs": [],
   "source": [
    "for row in range(len(foodb_foods_full)): # adding foodb rows\n",
    "    food_to_check = foodb_foods_full.at[row, 'food']\n",
    "    if food_to_check not in shared:\n",
    "        foodb_slice = foodb_foods_full.loc[foodb_foods_full['food'] == food_to_check]\n",
    "        #print(foodb_slice['food_id'].values[0])\n",
    "        #break\n",
    "        foods_df.loc[len(foods_df)] = [\n",
    "            foodb_slice['food_id'].values[0],\n",
    "            foodb_slice['food'].values[0],\n",
    "            [],\n",
    "            \"\", # scientific name\n",
    "            \"\", # category\n",
    "            foodb_slice['molecules'].values[0],\n",
    "            \"\", # group\n",
    "            foodb_slice['public_ids'].values[0],\n",
    "            foodb_slice['quantities'].values[0],\n",
    "        ]\n"
   ]
  },
  {
   "cell_type": "code",
   "execution_count": null,
   "metadata": {},
   "outputs": [],
   "source": [
    "foods_df.head(-2)"
   ]
  },
  {
   "cell_type": "code",
   "execution_count": null,
   "metadata": {},
   "outputs": [],
   "source": [
    "foods_df.to_csv(\"food.csv\", sep=';', index=None)"
   ]
  },
  {
   "cell_type": "code",
   "execution_count": null,
   "metadata": {},
   "outputs": [],
   "source": [
    "(foods_df.sort_values(by=['food'],ascending = True)).to_csv(\"data/food.csv\", sep=';', index=None)"
   ]
  },
  {
   "attachments": {},
   "cell_type": "markdown",
   "metadata": {},
   "source": [
    "## Removing sparse molecules and foods\n",
    "___"
   ]
  },
  {
   "cell_type": "code",
   "execution_count": 4,
   "metadata": {},
   "outputs": [],
   "source": [
    "from collections import Counter\n",
    "from more_itertools import collapse"
   ]
  },
  {
   "cell_type": "code",
   "execution_count": 5,
   "metadata": {},
   "outputs": [
    {
     "name": "stdout",
     "output_type": "stream",
     "text": [
      "Minimum length: 11\n",
      "Maximum length: 382\n",
      "Average length: 108.77574171029669\n"
     ]
    }
   ],
   "source": [
    "food_df = molecules2vec(read_foods(), read_molecules())\n",
    "\n",
    "check_lengths(food_df)"
   ]
  },
  {
   "cell_type": "code",
   "execution_count": 11,
   "metadata": {},
   "outputs": [],
   "source": [
    "molecules = collapse(food_df['foodb_ids'].values.tolist())\n",
    "c = Counter(molecules)"
   ]
  },
  {
   "cell_type": "code",
   "execution_count": 8,
   "metadata": {},
   "outputs": [],
   "source": [
    "molecules_to_count = [k for k, v in c.items() if v > 5]"
   ]
  },
  {
   "cell_type": "code",
   "execution_count": 13,
   "metadata": {},
   "outputs": [],
   "source": [
    "# remove molecules \n",
    "molecules_df = read_molecules()\n",
    "\n",
    "filtered_df = molecules_df[molecules_df['foodbid'].isin(molecules_to_count)]\n",
    "    "
   ]
  },
  {
   "cell_type": "code",
   "execution_count": 15,
   "metadata": {},
   "outputs": [
    {
     "data": {
      "text/plain": [
       "780"
      ]
     },
     "execution_count": 15,
     "metadata": {},
     "output_type": "execute_result"
    }
   ],
   "source": [
    "len(filtered_df)"
   ]
  },
  {
   "cell_type": "code",
   "execution_count": 16,
   "metadata": {},
   "outputs": [],
   "source": [
    "filtered_df.to_csv(\"data/flavordb_molecules_cut.csv\", sep=';', index=False)"
   ]
  },
  {
   "cell_type": "code",
   "execution_count": 26,
   "metadata": {},
   "outputs": [],
   "source": [
    "def remove_sparse(lst):\n",
    "    new_lst = []\n",
    "    for molecule in lst:\n",
    "        if molecule in molecules_to_count:\n",
    "            new_lst.append(molecule)\n",
    "    if len(new_lst) > 10:\n",
    "        return new_lst\n",
    "    else:\n",
    "        return pd.NA"
   ]
  },
  {
   "cell_type": "code",
   "execution_count": 29,
   "metadata": {},
   "outputs": [],
   "source": [
    "food_df['foodb_ids'] = food_df['foodb_ids'].apply(remove_sparse)"
   ]
  },
  {
   "cell_type": "code",
   "execution_count": 30,
   "metadata": {},
   "outputs": [
    {
     "data": {
      "text/plain": [
       "1227"
      ]
     },
     "execution_count": 30,
     "metadata": {},
     "output_type": "execute_result"
    }
   ],
   "source": [
    "len(food_df)"
   ]
  },
  {
   "cell_type": "code",
   "execution_count": 31,
   "metadata": {},
   "outputs": [
    {
     "data": {
      "text/plain": [
       "1146"
      ]
     },
     "execution_count": 31,
     "metadata": {},
     "output_type": "execute_result"
    }
   ],
   "source": [
    "df = food_df.copy()\n",
    "df = df.dropna(subset='foodb_ids')\n",
    "len(df)"
   ]
  },
  {
   "cell_type": "code",
   "execution_count": null,
   "metadata": {},
   "outputs": [],
   "source": []
  },
  {
   "cell_type": "code",
   "execution_count": 35,
   "metadata": {},
   "outputs": [],
   "source": [
    "# removing molecules that are sparse in the data and foods with less than 5 molecules\n",
    "def clean_df(df):\n",
    "    for row in range(len(df)): \n",
    "        try:\n",
    "            # print(df.loc[row, 'foodb_ids'])\n",
    "            molecules = df.loc[row, 'foodb_ids']\n",
    "            molecules_quants = df.loc[row, 'quantities']\n",
    "            if molecules_quants is pd.NA:\n",
    "                molecules_to_keep = [m for m in molecules if m in molecules_to_count]\n",
    "                if len(molecules_to_keep) > 5:\n",
    "                    df.at[row, 'foodb_ids'] = molecules_to_keep\n",
    "                else:\n",
    "                    df.at[row, 'foodb_ids'] = pd.NA\n",
    "            else:\n",
    "                ids_quants_dict = dict(zip(molecules, molecules_quants))\n",
    "\n",
    "                ids_to_keep = {k:v for k, v in ids_quants_dict.items() if k in molecules_to_count}\n",
    "\n",
    "                if len(ids_to_keep.keys()) > 5:\n",
    "                    entity_molecules_ids = list(ids_to_keep.keys())\n",
    "                    entity_molecules_quantities = list(ids_to_keep.values())\n",
    "\n",
    "                    df.loc[row, 'foodb_ids'] = entity_molecules_ids\n",
    "                    df.loc[row, 'quantities'] = entity_molecules_quantities\n",
    "                \n",
    "                else:\n",
    "                    df.loc[row, 'foodb_ids'] = pd.NA\n",
    "                    df.loc[row, 'quantities'] = pd.NA\n",
    "        except:\n",
    "            pass\n",
    "    return df"
   ]
  },
  {
   "cell_type": "code",
   "execution_count": 36,
   "metadata": {},
   "outputs": [],
   "source": [
    "df = clean_df(food_df.copy())"
   ]
  },
  {
   "cell_type": "code",
   "execution_count": 38,
   "metadata": {},
   "outputs": [],
   "source": [
    "df = df.dropna(subset='foodb_ids')"
   ]
  },
  {
   "cell_type": "code",
   "execution_count": 40,
   "metadata": {},
   "outputs": [
    {
     "data": {
      "text/plain": [
       "919"
      ]
     },
     "execution_count": 40,
     "metadata": {},
     "output_type": "execute_result"
    }
   ],
   "source": [
    "len(df)"
   ]
  },
  {
   "cell_type": "code",
   "execution_count": 16,
   "metadata": {},
   "outputs": [
    {
     "name": "stdout",
     "output_type": "stream",
     "text": [
      "Minimum length: 6\n",
      "Maximum length: 382\n",
      "Average length: 105.23989898989899\n"
     ]
    }
   ],
   "source": [
    "check_lengths(df)"
   ]
  },
  {
   "cell_type": "code",
   "execution_count": 33,
   "metadata": {},
   "outputs": [],
   "source": [
    "df = df.drop(columns=['quantities'])"
   ]
  },
  {
   "cell_type": "code",
   "execution_count": 34,
   "metadata": {},
   "outputs": [],
   "source": [
    "df.to_csv(\"data/food_cut.csv\", sep=';', index=None)"
   ]
  },
  {
   "attachments": {},
   "cell_type": "markdown",
   "metadata": {},
   "source": [
    "## Removing invalid entries\n",
    "___"
   ]
  },
  {
   "cell_type": "code",
   "execution_count": null,
   "metadata": {},
   "outputs": [],
   "source": [
    "# removing entries with no molecules and entries such as \"other product\", \"unclassified product\""
   ]
  },
  {
   "cell_type": "code",
   "execution_count": null,
   "metadata": {},
   "outputs": [],
   "source": [
    "def check_if_empty(lst):\n",
    "    if not lst:\n",
    "        return np.nan\n",
    "    else:\n",
    "        return lst    "
   ]
  },
  {
   "cell_type": "code",
   "execution_count": null,
   "metadata": {},
   "outputs": [],
   "source": [
    "food_df = read_foods()\n",
    "food_df['foodb_ids'] = food_df['foodb_ids'].apply(check_if_empty)\n",
    "food_df_filtered = food_df.dropna(subset=['foodb_ids'], how='any')"
   ]
  },
  {
   "cell_type": "code",
   "execution_count": null,
   "metadata": {},
   "outputs": [],
   "source": [
    "print(len(food_df))\n",
    "print(len(food_df_filtered))"
   ]
  },
  {
   "cell_type": "code",
   "execution_count": null,
   "metadata": {},
   "outputs": [],
   "source": [
    "food_df_filtered = food_df_filtered[~food_df_filtered['food'].str.contains('other|unclassified')]"
   ]
  },
  {
   "cell_type": "code",
   "execution_count": null,
   "metadata": {},
   "outputs": [],
   "source": [
    "len(food_df_filtered)"
   ]
  },
  {
   "cell_type": "code",
   "execution_count": null,
   "metadata": {},
   "outputs": [],
   "source": [
    "food_df_filtered.to_csv(\"food.csv\", sep=';', index=None)"
   ]
  },
  {
   "attachments": {},
   "cell_type": "markdown",
   "metadata": {},
   "source": [
    "## Categories cleanup - FooDB\n",
    "___"
   ]
  },
  {
   "cell_type": "code",
   "execution_count": null,
   "metadata": {},
   "outputs": [],
   "source": [
    "foods_df = read_foods()"
   ]
  },
  {
   "cell_type": "code",
   "execution_count": null,
   "metadata": {},
   "outputs": [],
   "source": [
    "foods_df = foods_df.drop('category', axis=1)"
   ]
  },
  {
   "cell_type": "code",
   "execution_count": null,
   "metadata": {},
   "outputs": [],
   "source": [
    "clean_categories = pd.read_csv(\"data/cleanfoods.csv\", sep=';', index_col=None)"
   ]
  },
  {
   "cell_type": "code",
   "execution_count": null,
   "metadata": {},
   "outputs": [],
   "source": [
    "merged_df = pd.merge(foods_df, clean_categories[['food', 'category']], on='food', how='left')"
   ]
  },
  {
   "cell_type": "code",
   "execution_count": null,
   "metadata": {},
   "outputs": [],
   "source": [
    "len(foods_df['category'].unique())"
   ]
  },
  {
   "cell_type": "code",
   "execution_count": null,
   "metadata": {},
   "outputs": [],
   "source": [
    "foods_df['category'] = foods_df['category'].str.replace('cheese','dairy')\n"
   ]
  },
  {
   "cell_type": "code",
   "execution_count": null,
   "metadata": {},
   "outputs": [],
   "source": [
    "food_df = merged_df.filter(['food_id', 'food', 'synonyms', 'scientific name', 'category','molecules',\n",
    "       'foodb_ids', 'quantities'])"
   ]
  },
  {
   "cell_type": "code",
   "execution_count": null,
   "metadata": {},
   "outputs": [],
   "source": [
    "food_df.head(3)"
   ]
  },
  {
   "cell_type": "code",
   "execution_count": null,
   "metadata": {},
   "outputs": [],
   "source": [
    "foods_df.to_csv(\"data/food.csv\", sep=';', index=None)"
   ]
  },
  {
   "attachments": {},
   "cell_type": "markdown",
   "metadata": {},
   "source": [
    "## Reduced data\n",
    "___"
   ]
  },
  {
   "cell_type": "code",
   "execution_count": 4,
   "metadata": {},
   "outputs": [],
   "source": [
    "from collections import Counter\n",
    "from more_itertools import collapse"
   ]
  },
  {
   "cell_type": "code",
   "execution_count": 5,
   "metadata": {},
   "outputs": [],
   "source": [
    "flavor_molecules = read_molecules()\n",
    "food_df = read_foods()\n",
    "food_df = food_df.dropna(subset='category')\n",
    "\n",
    "molecules = collapse(food_df['foodb_ids'].values.tolist())\n",
    "c = Counter(molecules)\n",
    "molecules_to_include = [k for k, v in c.items() if 100 > v]"
   ]
  },
  {
   "cell_type": "code",
   "execution_count": 13,
   "metadata": {},
   "outputs": [],
   "source": [
    "def remove_sparse(lst):\n",
    "    lst = [item for item in lst if item not in molecules_to_include]\n",
    "    if len(lst) > 5:\n",
    "        return lst\n",
    "    else:\n",
    "        return pd.NA\n",
    "\n",
    "for index, row in food_df.iterrows():\n",
    "    food_df.at[index, 'foodb_ids'] = remove_sparse(row['foodb_ids'])"
   ]
  },
  {
   "cell_type": "code",
   "execution_count": 15,
   "metadata": {},
   "outputs": [
    {
     "name": "stdout",
     "output_type": "stream",
     "text": [
      "Minimum length: 6\n",
      "Maximum length: 179\n",
      "Average length: 94.08984725965858\n"
     ]
    },
    {
     "name": "stderr",
     "output_type": "stream",
     "text": [
      "/var/folders/y5/sg4lr5xn7fv5ry3py7wvzj240000gn/T/ipykernel_27844/3037469477.py:2: SettingWithCopyWarning: \n",
      "A value is trying to be set on a copy of a slice from a DataFrame.\n",
      "Try using .loc[row_indexer,col_indexer] = value instead\n",
      "\n",
      "See the caveats in the documentation: https://pandas.pydata.org/pandas-docs/stable/user_guide/indexing.html#returning-a-view-versus-a-copy\n",
      "  df['list_length'] = df['foodb_ids'].apply(calculate_list_length)\n"
     ]
    }
   ],
   "source": [
    "food_df = food_df.dropna(subset=['foodb_ids'])\n",
    "check_lengths(food_df)"
   ]
  },
  {
   "cell_type": "code",
   "execution_count": 17,
   "metadata": {},
   "outputs": [],
   "source": [
    "food_df.to_csv(\"data/food_reduced.csv\", sep=';', index=None)"
   ]
  }
 ],
 "metadata": {
  "kernelspec": {
   "display_name": "Python 3",
   "language": "python",
   "name": "python3"
  },
  "language_info": {
   "codemirror_mode": {
    "name": "ipython",
    "version": 3
   },
   "file_extension": ".py",
   "mimetype": "text/x-python",
   "name": "python",
   "nbconvert_exporter": "python",
   "pygments_lexer": "ipython3",
   "version": "3.11.6"
  },
  "orig_nbformat": 4
 },
 "nbformat": 4,
 "nbformat_minor": 2
}
