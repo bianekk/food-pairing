{
 "cells": [
  {
   "cell_type": "code",
   "execution_count": 119,
   "metadata": {},
   "outputs": [],
   "source": [
    "# for basic data science\n",
    "import pandas as pd\n",
    "import numpy as np\n",
    "import matplotlib.pyplot as plt\n",
    "import xmltodict\n",
    "import json\n",
    "\n",
    "# for downloading files off the internet\n",
    "import urllib.request\n",
    "import json\n",
    "import time\n",
    "import os\n",
    "if os.path.basename(os.getcwd()) != 'food-pairing':\n",
    "    os.chdir(os.path.dirname(os.getcwd()))\n",
    "\n",
    "# for network graphs\n",
    "from colour import Color\n",
    "from matplotlib.collections import LineCollection\n",
    "import networkx as nx\n",
    "import mpld3\n",
    "\n",
    "import requests\n",
    "import json\n",
    "from bs4 import BeautifulSoup\n",
    "import html_to_json\n",
    "from tqdm import tqdm"
   ]
  },
  {
   "cell_type": "code",
   "execution_count": 4,
   "metadata": {},
   "outputs": [],
   "source": [
    "def flavordb_entity_url(x):\n",
    "    return \"https://foodb.ca/compounds/\"+str(x)"
   ]
  },
  {
   "cell_type": "code",
   "execution_count": 112,
   "metadata": {},
   "outputs": [],
   "source": [
    "failed = []\n",
    "\n",
    "def read_food_from_url(x):\n",
    "    r = requests.get(flavordb_entity_url(x))\n",
    "    if r.status_code == 200:\n",
    "        html_string = r.text\n",
    "        o = xmltodict.parse(html_string)\n",
    "        output = json.dumps(o)\n",
    "        data = json.loads(output)\n",
    "        ingredients = []\n",
    "        quantities = []\n",
    "        if (data['compound'])['foods'] is None:\n",
    "            return [0], [0]\n",
    "        foods = ((data['compound'])['foods']['food'])\n",
    "        if type(foods) == list:\n",
    "            for food in foods:\n",
    "                ingredients.append(food['name'])\n",
    "                try:\n",
    "                    quantities.append(food['average_value'])\n",
    "                except KeyError:\n",
    "                    quantities.append(0)\n",
    "        else:\n",
    "            ingredients.append(foods['name'])\n",
    "            try:\n",
    "                quantities.append(foods['average_value'])\n",
    "            except KeyError:\n",
    "                quantities.append(0)\n",
    "        return ingredients, quantities\n",
    "\n",
    "    else:\n",
    "        print(f\"Failed to read {x}\")\n",
    "        failed.append(x)\n",
    "        return [0], [0]"
   ]
  },
  {
   "cell_type": "code",
   "execution_count": 2,
   "metadata": {},
   "outputs": [
    {
     "name": "stderr",
     "output_type": "stream",
     "text": [
      "/var/folders/y5/sg4lr5xn7fv5ry3py7wvzj240000gn/T/ipykernel_90415/3469145740.py:1: DtypeWarning: Columns (3,4,5,6,12,13,14,15) have mixed types. Specify dtype option on import or set low_memory=False.\n",
      "  entities = pd.read_csv('foodb/Compound.csv')\n"
     ]
    }
   ],
   "source": [
    "entities = pd.read_csv('foodb/Compound.csv')\n",
    "\n",
    "names = entities['public_id'].values.tolist()"
   ]
  },
  {
   "cell_type": "code",
   "execution_count": null,
   "metadata": {},
   "outputs": [],
   "source": [
    "df = pd.DataFrame(columns=['compound_id', 'foods', 'quantities'])"
   ]
  },
  {
   "cell_type": "code",
   "execution_count": 128,
   "metadata": {},
   "outputs": [
    {
     "name": "stderr",
     "output_type": "stream",
     "text": [
      "100%|██████████| 122/122 [02:20<00:00,  1.15s/it]\n"
     ]
    }
   ],
   "source": [
    "for name in tqdm(names[70355:]):\n",
    "    foods, quantities = read_food_from_url(name)\n",
    "    df.loc[len(df)] = [name, foods, quantities]"
   ]
  },
  {
   "cell_type": "code",
   "execution_count": 129,
   "metadata": {},
   "outputs": [],
   "source": [
    "df.to_csv(\"compounds.csv\", sep=';', index=False)"
   ]
  },
  {
   "cell_type": "code",
   "execution_count": 88,
   "metadata": {},
   "outputs": [],
   "source": [
    "def read_json(x):\n",
    "    r = requests.get(flavordb_entity_url(x))\n",
    "    print(r.status_code)\n",
    "    html_string = r.text\n",
    "    o = xmltodict.parse(html_string)\n",
    "    output = json.dumps(o)\n",
    "    return json.loads(output)"
   ]
  },
  {
   "cell_type": "code",
   "execution_count": 104,
   "metadata": {},
   "outputs": [
    {
     "name": "stdout",
     "output_type": "stream",
     "text": [
      "200\n",
      "200\n"
     ]
    }
   ],
   "source": [
    "data_long = read_json(names[10])\n",
    "data_short = read_json(names[1])"
   ]
  },
  {
   "cell_type": "code",
   "execution_count": 106,
   "metadata": {},
   "outputs": [
    {
     "data": {
      "text/plain": [
       "{'compound': {'version': '1.0',\n",
       "  'creation_date': '2010-04-08 22:04:25 UTC',\n",
       "  'update_date': '2018-05-28 22:34:11 UTC',\n",
       "  'accession': 'FDB000048',\n",
       "  'name': 'p-Coumaroyl vitisin A',\n",
       "  'description': 'A polyphenol compound found in foods of plant origin (PhenolExplorer).',\n",
       "  'synonyms': {'synonym': ['Malvidin 3-(6-coumaroyl)-glucoside pyruvic acid',\n",
       "    'Malvidin 3-(6-coumaroyl)-glucoside pyruvic adduct']},\n",
       "  'chemical_formula': 'C35H31O16',\n",
       "  'average_molecular_weight': '707.611',\n",
       "  'monisotopic_moleculate_weight': '707.161209944',\n",
       "  'iupac_name': None,\n",
       "  'traditional_iupac': None,\n",
       "  'cas_registry_number': '643-84-5',\n",
       "  'smiles': 'COC1=CC(=CC(OC)=C1O)C1=[O+]C2=C3C(OC(=CC3=C1OC1O[C@H](COC(=O)\\\\C=C\\\\C3=CC=C(O)C=C3)[C@@H](O)[C@H](O)[C@H]1O)C(O)=O)=CC(O)=C2',\n",
       "  'inchi': 'InChI=1S/C35H30O16/c1-45-22-9-16(10-23(46-2)28(22)39)32-33(19-13-24(34(43)44)48-20-11-18(37)12-21(49-32)27(19)20)51-35-31(42)30(41)29(40)25(50-35)14-47-26(38)8-5-15-3-6-17(36)7-4-15/h3-13,25,29-31,35,40-42H,14H2,1-2H3,(H3-,36,37,38,39,43,44)/p+1/t25-,29-,30+,31-,35?/m1/s1',\n",
       "  'inchikey': 'GOINLVYYMYVHAQ-CJKUAQFFSA-O',\n",
       "  'taxonomy': {'description': 'belongs to the class of organic compounds known as anthocyanidin 3-o-6-p-coumaroyl glycosides. These are anthocyanidin 3-O-glycosides where the carbohydrate moiety is esterified at the C6 position with a p-coumaric acid. P-coumaric acid is an organic derivative of cinnamic acid, that carries a hydroxyl group at the 4-position of the benzene ring.',\n",
       "   'direct_parent': 'Anthocyanidin 3-O-6-p-coumaroyl glycosides',\n",
       "   'kingdom': 'Organic compounds',\n",
       "   'super_class': 'Phenylpropanoids and polyketides',\n",
       "   'class': 'Flavonoids',\n",
       "   'sub_class': 'Flavonoid glycosides',\n",
       "   'molecular_framework': 'Aromatic heteropolycyclic compounds',\n",
       "   'alternative_parents': {'alternative_parent': ['1-benzopyrans',\n",
       "     '1-hydroxy-2-unsubstituted benzenoids',\n",
       "     \"3'-O-methylated flavonoids\",\n",
       "     \"4'-hydroxyflavonoids\",\n",
       "     '7-hydroxyflavonoids',\n",
       "     'Acetals',\n",
       "     'Alkyl aryl ethers',\n",
       "     'Anisoles',\n",
       "     'Anthocyanidin-3-O-glycosides',\n",
       "     'Anthocyanidins',\n",
       "     'Biflavonoids and polyflavonoids',\n",
       "     'Carbonyl compounds',\n",
       "     'Carboxylic acids',\n",
       "     'Cinnamic acid esters',\n",
       "     'Coumaric acid esters',\n",
       "     'Coumaric acids and derivatives',\n",
       "     'Dicarboxylic acids and derivatives',\n",
       "     'Dimethoxybenzenes',\n",
       "     'Enoate esters',\n",
       "     'Fatty acid esters',\n",
       "     'Flavonoid-3-O-glycosides',\n",
       "     'Heteroaromatic compounds',\n",
       "     'Hydrocarbon derivatives',\n",
       "     'Methoxyphenols',\n",
       "     'Monosaccharides',\n",
       "     'O-glycosyl compounds',\n",
       "     'Organic cations',\n",
       "     'Organic oxides',\n",
       "     'Oxacyclic compounds',\n",
       "     'Oxanes',\n",
       "     'Phenoxy compounds',\n",
       "     'Polyols',\n",
       "     'Proanthocyanidins',\n",
       "     'Secondary alcohols',\n",
       "     'Styrenes']},\n",
       "   'substituents': {'substituent': ['1-benzopyran',\n",
       "     '1-hydroxy-2-unsubstituted benzenoid',\n",
       "     '3p-methoxyflavonoid-skeleton',\n",
       "     \"4'-hydroxyflavonoid\",\n",
       "     '7-hydroxyflavonoid',\n",
       "     'Acetal',\n",
       "     'Alcohol',\n",
       "     'Alkyl aryl ether',\n",
       "     'Alpha,beta-unsaturated carboxylic ester',\n",
       "     'Anisole',\n",
       "     'Anthocyanidin',\n",
       "     'Anthocyanidin 3-o-6-p-coumaroyl-glycoside',\n",
       "     'Anthocyanidin-3-o-glycoside',\n",
       "     'Anthocyanin',\n",
       "     'Aromatic heteropolycyclic compound',\n",
       "     'Benzenoid',\n",
       "     'Benzopyran',\n",
       "     'Bi- and polyflavonoid skeleton',\n",
       "     'Carbonyl group',\n",
       "     'Carboxylic acid',\n",
       "     'Carboxylic acid derivative',\n",
       "     'Carboxylic acid ester',\n",
       "     'Cinnamic acid ester',\n",
       "     'Cinnamic acid or derivatives',\n",
       "     'Coumaric acid ester',\n",
       "     'Coumaric acid or derivatives',\n",
       "     'Dicarboxylic acid or derivatives',\n",
       "     'Dimethoxybenzene',\n",
       "     'Enoate ester',\n",
       "     'Ether',\n",
       "     'Fatty acid ester',\n",
       "     'Fatty acyl',\n",
       "     'Flavonoid-3-o-glycoside',\n",
       "     'Glycosyl compound',\n",
       "     'Heteroaromatic compound',\n",
       "     'Hydrocarbon derivative',\n",
       "     'Hydroxycinnamic acid or derivatives',\n",
       "     'Hydroxyflavonoid',\n",
       "     'M-dimethoxybenzene',\n",
       "     'Methoxybenzene',\n",
       "     'Methoxyphenol',\n",
       "     'Monocyclic benzene moiety',\n",
       "     'Monosaccharide',\n",
       "     'O-glycosyl compound',\n",
       "     'Organic cation',\n",
       "     'Organic oxide',\n",
       "     'Organic oxygen compound',\n",
       "     'Organoheterocyclic compound',\n",
       "     'Organooxygen compound',\n",
       "     'Oxacycle',\n",
       "     'Oxane',\n",
       "     'Phenol',\n",
       "     'Phenol ether',\n",
       "     'Phenoxy compound',\n",
       "     'Polyol',\n",
       "     'Proanthocyanidin',\n",
       "     'Secondary alcohol',\n",
       "     'Styrene']},\n",
       "   'external_descriptors': None},\n",
       "  'state': None,\n",
       "  'predicted_properties': None,\n",
       "  'experimental_properties': None,\n",
       "  'property': [{'kind': 'average_mass',\n",
       "    'value': '707.611',\n",
       "    'source': 'ChemAxon'},\n",
       "   {'kind': 'mono_mass', 'value': '707.161209944', 'source': 'ChemAxon'},\n",
       "   {'kind': 'smiles',\n",
       "    'value': 'COC1=CC(=CC(OC)=C1O)C1=[O+]C2=C3C(OC(=CC3=C1OC1O[C@H](COC(=O)\\\\C=C\\\\C3=CC=C(O)C=C3)[C@@H](O)[C@H](O)[C@H]1O)C(O)=O)=CC(O)=C2',\n",
       "    'source': 'ChemAxon'},\n",
       "   {'kind': 'formula', 'value': 'C35H31O16', 'source': 'ChemAxon'},\n",
       "   {'kind': 'inchi',\n",
       "    'value': 'InChI=1S/C35H30O16/c1-45-22-9-16(10-23(46-2)28(22)39)32-33(19-13-24(34(43)44)48-20-11-18(37)12-21(49-32)27(19)20)51-35-31(42)30(41)29(40)25(50-35)14-47-26(38)8-5-15-3-6-17(36)7-4-15/h3-13,25,29-31,35,40-42H,14H2,1-2H3,(H3-,36,37,38,39,43,44)/p+1/t25-,29-,30+,31-,35?/m1/s1',\n",
       "    'source': 'ChemAxon'},\n",
       "   {'kind': 'inchikey',\n",
       "    'value': 'GOINLVYYMYVHAQ-CJKUAQFFSA-O',\n",
       "    'source': 'ChemAxon'}],\n",
       "  'pathways': None,\n",
       "  'spectra': None,\n",
       "  'hmdb_id': 'HMDB29239',\n",
       "  'pubchem_compound_id': None,\n",
       "  'chemspider_id': None,\n",
       "  'kegg_id': None,\n",
       "  'chebi_id': None,\n",
       "  'biocyc_id': None,\n",
       "  'het_id': None,\n",
       "  'wikipidia': None,\n",
       "  'vmh_id': None,\n",
       "  'fbonto_id': None,\n",
       "  'foodb_id': None,\n",
       "  'general_references': {'reference': '#<Reference:0x0000555676251cb0>'},\n",
       "  'foods': None,\n",
       "  'flavors': None,\n",
       "  'enzymes': None,\n",
       "  'health_effects': None}}"
      ]
     },
     "execution_count": 106,
     "metadata": {},
     "output_type": "execute_result"
    }
   ],
   "source": [
    "data_long"
   ]
  },
  {
   "cell_type": "code",
   "execution_count": 105,
   "metadata": {},
   "outputs": [
    {
     "ename": "TypeError",
     "evalue": "'NoneType' object is not subscriptable",
     "output_type": "error",
     "traceback": [
      "\u001b[0;31m---------------------------------------------------------------------------\u001b[0m",
      "\u001b[0;31mTypeError\u001b[0m                                 Traceback (most recent call last)",
      "Cell \u001b[0;32mIn[105], line 1\u001b[0m\n\u001b[0;32m----> 1\u001b[0m \u001b[39mprint\u001b[39m(\u001b[39mtype\u001b[39m((data_long[\u001b[39m'\u001b[39;49m\u001b[39mcompound\u001b[39;49m\u001b[39m'\u001b[39;49m])[\u001b[39m'\u001b[39;49m\u001b[39mfoods\u001b[39;49m\u001b[39m'\u001b[39;49m][\u001b[39m'\u001b[39;49m\u001b[39mfood\u001b[39;49m\u001b[39m'\u001b[39;49m]))\n\u001b[1;32m      2\u001b[0m \u001b[39mprint\u001b[39m(\u001b[39mtype\u001b[39m((data_short[\u001b[39m'\u001b[39m\u001b[39mcompound\u001b[39m\u001b[39m'\u001b[39m])[\u001b[39m'\u001b[39m\u001b[39mfoods\u001b[39m\u001b[39m'\u001b[39m][\u001b[39m'\u001b[39m\u001b[39mfood\u001b[39m\u001b[39m'\u001b[39m]))\n",
      "\u001b[0;31mTypeError\u001b[0m: 'NoneType' object is not subscriptable"
     ]
    }
   ],
   "source": [
    "print(type((data_long['compound'])['foods']['food']))\n",
    "print(type((data_short['compound'])['foods']['food']))"
   ]
  },
  {
   "cell_type": "code",
   "execution_count": 74,
   "metadata": {},
   "outputs": [],
   "source": [
    "foods = ((data['compound'])['foods'])"
   ]
  },
  {
   "cell_type": "code",
   "execution_count": 76,
   "metadata": {},
   "outputs": [
    {
     "ename": "TypeError",
     "evalue": "string indices must be integers, not 'str'",
     "output_type": "error",
     "traceback": [
      "\u001b[0;31m---------------------------------------------------------------------------\u001b[0m",
      "\u001b[0;31mTypeError\u001b[0m                                 Traceback (most recent call last)",
      "Cell \u001b[0;32mIn[76], line 4\u001b[0m\n\u001b[1;32m      1\u001b[0m \u001b[39mlen\u001b[39m(foods)\n\u001b[1;32m      3\u001b[0m \u001b[39mfor\u001b[39;00m food \u001b[39min\u001b[39;00m foods:\n\u001b[0;32m----> 4\u001b[0m     \u001b[39mprint\u001b[39m(food[\u001b[39m'\u001b[39;49m\u001b[39mname\u001b[39;49m\u001b[39m'\u001b[39;49m])\n",
      "\u001b[0;31mTypeError\u001b[0m: string indices must be integers, not 'str'"
     ]
    }
   ],
   "source": [
    "len(foods)\n",
    "\n",
    "for food in foods:\n",
    "    print(food['name'])"
   ]
  }
 ],
 "metadata": {
  "kernelspec": {
   "display_name": "Python 3",
   "language": "python",
   "name": "python3"
  },
  "language_info": {
   "codemirror_mode": {
    "name": "ipython",
    "version": 3
   },
   "file_extension": ".py",
   "mimetype": "text/x-python",
   "name": "python",
   "nbconvert_exporter": "python",
   "pygments_lexer": "ipython3",
   "version": "3.11.6"
  },
  "orig_nbformat": 4
 },
 "nbformat": 4,
 "nbformat_minor": 2
}
