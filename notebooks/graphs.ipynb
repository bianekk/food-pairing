{
 "cells": [
  {
   "cell_type": "code",
   "execution_count": 18,
   "metadata": {},
   "outputs": [],
   "source": [
    "import pandas as pd\n",
    "import numpy as np\n",
    "import os\n",
    "if os.path.basename(os.getcwd()) != 'food-pairing':\n",
    "    os.chdir(os.path.dirname(os.getcwd()))\n",
    "\n",
    "from utils.data_loading import read_foods, read_molecules\n",
    "\n",
    "from itertools import combinations\n",
    "import networkx as nx\n",
    "from tqdm import tqdm\n",
    "\n",
    "from collections import Counter\n",
    "from more_itertools import collapse"
   ]
  },
  {
   "cell_type": "code",
   "execution_count": 19,
   "metadata": {},
   "outputs": [],
   "source": [
    "# Add edges for shared molecules\n",
    "def find_shared_molecules(food1, food2, molecules_to_include, fm_dict):\n",
    "    molecules1 = set(fm_dict[food1])\n",
    "    molecules2 = set(fm_dict[food2])\n",
    "    shared_molecules = molecules1.intersection(molecules2)\n",
    "    shared_molecules_to_include = shared_molecules.intersection(molecules_to_include)\n",
    "    return shared_molecules_to_include"
   ]
  },
  {
   "cell_type": "code",
   "execution_count": 20,
   "metadata": {},
   "outputs": [],
   "source": [
    "def generate_food_graph(nodes,df, molecules_to_include, fm_dict, shared=20):\n",
    "    \"\"\"Function to generate NetworkX graphs with selection of foods&molecules\"\"\"\n",
    "    # Create an empty graph\n",
    "    G = nx.Graph()\n",
    "\n",
    "    # Add nodes for each food\n",
    "    for i, food in enumerate(nodes):\n",
    "        food_cat =  df.loc[df['food'] == food, 'category'].values[0]\n",
    "        # food_cat = nodes_cats[i]\n",
    "        G.add_node(food, nodes_cats = food_cat)\n",
    "\n",
    "    # Add edges for shared molecules\n",
    "    for food1, food2 in tqdm(combinations(nodes, 2)):\n",
    "        shared_molecules = find_shared_molecules(food1, food2, molecules_to_include, fm_dict)\n",
    "        if len(shared_molecules) > shared:\n",
    "            G.add_edge(food1, food2, weight=np.int64(len(shared_molecules)))\n",
    "    \n",
    "    return G"
   ]
  },
  {
   "cell_type": "code",
   "execution_count": 21,
   "metadata": {},
   "outputs": [],
   "source": [
    "def find_graph_statistics(G):\n",
    "    nnodes = G.number_of_nodes()\n",
    "    avg_deegre = sum(d for n, d in G.degree()) / float(nnodes)\n",
    "    diameter = nx.diameter(G)\n",
    "    density = nx.density(G)\n",
    "    print(f\"Average deegre: {avg_deegre}\")\n",
    "    print(f\"Network diameter: {diameter}\")\n",
    "    print(f\"Network density: {density}\")"
   ]
  },
  {
   "cell_type": "code",
   "execution_count": 22,
   "metadata": {},
   "outputs": [],
   "source": [
    "flavor_molecules = read_molecules()\n",
    "food_df = read_foods()\n",
    "# food_df = food_df.dropna(subset='category')"
   ]
  },
  {
   "cell_type": "code",
   "execution_count": 23,
   "metadata": {},
   "outputs": [],
   "source": [
    "molecules = collapse(food_df['foodb_ids'].values.tolist())\n",
    "c = Counter(molecules)\n",
    "molecules_to_include = [k for k, v in c.items() if 50 > v]"
   ]
  },
  {
   "cell_type": "code",
   "execution_count": 24,
   "metadata": {},
   "outputs": [],
   "source": [
    "food_df['category'] = food_df['category'].fillna('none').astype(str)"
   ]
  },
  {
   "attachments": {},
   "cell_type": "markdown",
   "metadata": {},
   "source": [
    "## Flavor Graph (molecule based)\n",
    "___"
   ]
  },
  {
   "cell_type": "code",
   "execution_count": 25,
   "metadata": {},
   "outputs": [
    {
     "data": {
      "text/plain": [
       "1146"
      ]
     },
     "execution_count": 25,
     "metadata": {},
     "output_type": "execute_result"
    }
   ],
   "source": [
    "# food_df = food_df[food_df['molecules'].apply(len) >= 20]\n",
    "len(food_df)"
   ]
  },
  {
   "cell_type": "code",
   "execution_count": 26,
   "metadata": {},
   "outputs": [],
   "source": [
    "foods = food_df['food'].values.tolist()\n",
    "food_molecule_dict = dict(zip(food_df['food'], food_df['foodb_ids']))"
   ]
  },
  {
   "cell_type": "code",
   "execution_count": 27,
   "metadata": {},
   "outputs": [
    {
     "name": "stderr",
     "output_type": "stream",
     "text": [
      "656085it [00:06, 96922.12it/s] \n"
     ]
    }
   ],
   "source": [
    "G = generate_food_graph(foods,  \n",
    "                        food_df,\n",
    "                        molecules_to_include,\n",
    "                        food_molecule_dict,\n",
    "                        shared=0)"
   ]
  },
  {
   "cell_type": "code",
   "execution_count": 28,
   "metadata": {},
   "outputs": [],
   "source": [
    "G.remove_nodes_from(list(nx.isolates(G)))"
   ]
  },
  {
   "cell_type": "code",
   "execution_count": 29,
   "metadata": {},
   "outputs": [
    {
     "name": "stdout",
     "output_type": "stream",
     "text": [
      "Graph with 578 nodes and 45403 edges\n"
     ]
    }
   ],
   "source": [
    "print(G)"
   ]
  },
  {
   "cell_type": "code",
   "execution_count": 43,
   "metadata": {},
   "outputs": [],
   "source": [
    "nx.write_gexf(G, \"networks/food-cut.gexf\")"
   ]
  },
  {
   "cell_type": "code",
   "execution_count": 32,
   "metadata": {},
   "outputs": [
    {
     "name": "stdout",
     "output_type": "stream",
     "text": [
      "{'garden tomato': 25, 'tea': 20, 'beef processed': 16, 'rum': 16, 'fruits': 15, 'garden tomato (var.)': 15, 'herbs and spices': 15, 'angelica': 14, 'blackberry': 14, 'coffee': 14, 'potato': 14, 'alcoholic beverages': 13, 'beer': 13, 'black tea': 13, 'corn': 13, 'rose wine': 12, 'soybean': 12, 'achilleas': 11, 'evergreen blackberry': 11, 'green tea': 11, 'hops oil': 11, 'chicken': 10, 'cocoa': 10, 'herbal tea': 10, 'red tea': 10, 'sheep milk': 10, 'silver linden': 10, 'arabica coffee': 9, 'banana': 9, 'cognac brandy': 9, 'fried potato': 9, 'japanese whisky': 9, 'malt whisky': 9, 'peas': 9, 'peppermint': 9, 'scotch whisky': 9, 'sherry': 9, 'bourbon whisky': 8, 'cabbage': 8, 'canadian whisky': 8, 'carrot': 8, 'cauliflower': 8, 'coffee and coffee products': 8, 'finnish whisky': 8, 'lean fish': 8, 'peanut': 8, 'pork': 8, 'robusta coffee': 8, 'whisky': 8, 'beef': 7, 'buckwheat': 7, 'butter': 7, 'capsicum': 7, 'caviar': 7, 'cherry tomato': 7, 'drumstick leaf': 7, 'melon': 7, 'mushroom': 7, 'nuts': 7, 'opossum': 7, 'spearmint': 7, 'strawberry': 7, 'white wine': 7, 'filbert': 6, 'fish': 6, 'flaxseed': 6, 'guava': 6, 'mango': 6, 'milk and milk products': 6, 'narrowleaf cattail': 6, 'orange': 6, 'passionfruit': 6, 'raspberry': 6, 'red wine': 6, 'sweet cherry': 6, 'tamarind': 6, 'vanilla': 6, 'almond': 5, 'apple': 5, 'atlantic halibut': 5, 'breakfast cereal': 5, 'canola oil': 5, 'cereals and cereal products': 5, 'cocoa and cocoa products': 5, 'cocoa bean': 5, 'cranberry': 5, 'crispbread': 5, 'fishes': 5, 'garden onion': 5, 'green beans': 5, 'mate': 5, 'oats': 5, 'onion': 5, 'papaya': 5, 'parmesan cheese': 5, 'pulses': 5, 'rice': 5, 'shrimp': 5, 'apple brandy': 4, 'apricot': 4, 'beans': 4, 'bilberry': 4, 'black currant': 4, 'cider': 4, 'durian': 4, 'fats and oils': 4, 'fig': 4, 'garden onion (var.)': 4, 'ginger': 4, 'grape': 4, 'green onion': 4, 'kidney beans': 4, 'lima beans': 4, 'milk': 4, 'milk (cow)': 4, 'mint': 4, 'onion-family vegetables': 4, 'oyster': 4, 'peach': 4, 'pepper': 4, 'plum wine': 4, 'raspberry brandy': 4, 'red onion': 4, 'russian cheese': 4, 'safflower': 4, 'tobacco': 4, 'tortilla': 4, 'tortilla chip': 4, 'turkey berry': 4, 'welsh onion': 4, 'wild carrot': 4, 'asparagus': 3, 'basil': 3, 'basmati rice': 3, 'camembert cheese': 3, 'caraway': 3, 'carom seed': 3, 'cassia': 3, 'celery': 3, 'celery stalks': 3, 'champagne': 3, 'cinnamon': 3, 'citrus': 3, 'common mushroom': 3, 'currant': 3, 'dill': 3, 'elderberry': 3, 'goat cheese': 3, 'green bell pepper': 3, 'green vegetables': 3, 'kenaf': 3, 'lamb': 3, 'laurel': 3, 'lobster': 3, 'lovage': 3, 'malt': 3, 'mastic gum': 3, 'mushrooms': 3, 'mutton': 3, 'nance': 3, 'olive': 3, 'orange bell pepper': 3, 'orange mint': 3, 'oyster mushroom': 3, 'pear brandy': 3, 'plum': 3, 'plum brandy': 3, 'port wine': 3, 'raisin': 3, 'red bell pepper': 3, 'red currant': 3, 'root vegetables': 3, 'sea trout': 3, 'soy bean': 3, 'spinach': 3, 'sweet bay': 3, 'walnut': 3, 'white currant': 3, 'wholewheat bread': 3, 'yam': 3, 'yellow bell pepper': 3, 'anise': 2, 'anise brandy': 2, 'armagnac brandy': 2, 'asian pear': 2, 'avocado': 2, 'barley': 2, 'bilberry wine': 2, 'bitter cherry': 2, 'blackberry brandy': 2, 'blue cheese': 2, 'bonito': 2, 'botrytized wine': 2, 'bowhead whale': 2, 'brandy': 2, 'brassicas': 2, 'broccoli': 2, 'celeriac': 2, 'cheddar cheese': 2, 'cherimoya': 2, 'cherry brandy': 2, 'chinese cinnamon': 2, 'chinese quince': 2, 'citrus peel oil': 2, 'cloudberry': 2, 'colocasia': 2, 'comte cheese': 2, 'coriander': 2, 'cucumber': 2, 'eucalyptus': 2, 'fatty fish': 2, 'fish oil': 2, 'garlic': 2, 'gooseberry': 2, 'grape wine': 2, 'green bean': 2, 'gruyere cheese': 2, 'honey': 2, 'jerusalem artichoke': 2, 'kiwifruit': 2, 'kohlrabi': 2, 'leek': 2, 'lettuce': 2, 'loganberry': 2, 'meat': 2, 'mentha oil': 2, 'milk powder': 2, 'mountain papaya': 2, 'mozzarella cheese': 2, 'mung bean': 2, 'munster cheese': 2, 'mustard': 2, 'okra': 2, 'oregano': 2, 'papaya brandy': 2, 'peanut butter': 2, 'peanut oil': 2, 'pepper (c. frutescens)': 2, 'pineapple': 2, 'pineappple sage': 2, 'plumcot': 2, 'prickly pear': 2, 'pumpkinseed sunfish': 2, 'quince': 2, 'sea buckthorns': 2, 'smoked fish': 2, 'soft-necked garlic': 2, 'sour cherry': 2, 'sparkling wine': 2, 'star anise': 2, 'starfruit': 2, 'strawberry wine': 2, 'sweet basil': 2, 'sweetcorn': 2, 'vinegar': 2, 'watermelon': 2, 'weinbrand brandy': 2, 'wheaten bread': 2, 'whelk': 2, 'white mustard': 2, 'wild celery': 2, 'wine': 2, 'abiyuch': 1, 'alfalfa': 1, 'allium': 1, 'allspice': 1, 'apple cider vinegar': 1, 'arrowhead': 1, 'artichoke': 1, 'beli': 1, 'berry': 1, 'black elderberry': 1, 'black walnut': 1, 'blackcurrant': 1, 'brazil nut': 1, 'bread': 1, 'brussels sprout': 1, 'calamus': 1, 'cardamom': 1, 'cassava': 1, 'ceylon cinnamon': 1, 'chamomile': 1, 'cheese': 1, 'chervil': 1, 'chive': 1, 'chives': 1, 'citronella': 1, 'citrus fruits': 1, 'clam': 1, 'clove': 1, 'coconut': 1, 'common buckwheat': 1, 'common grape': 1, 'common oregano': 1, 'common thyme': 1, 'common walnut': 1, 'cornmint': 1, 'cottage cheese': 1, 'crayfish': 1, 'cream': 1, 'cream cheese': 1, 'cumin': 1, 'cupua\\x8du': 1, 'domiati cheese': 1, 'eggplant': 1, 'emmental cheese': 1, 'feijoa': 1, 'fennel': 1, 'feta cheese': 1, 'ginkgo nuts': 1, 'grapefruit': 1, 'groundcherry': 1, 'hazelnut': 1, 'jackfruit': 1, 'krill': 1, 'lavendar': 1, 'lemon': 1, 'lemon balm': 1, 'lemon grass': 1, 'lemon peel oil': 1, 'limburger cheese': 1, 'lime': 1, 'lingonberry': 1, 'liqourice': 1, 'litchi': 1, 'loquat': 1, 'lotus': 1, 'mandarin orange peel oil': 1, 'marjoram': 1, 'marshmallow': 1, 'morchella': 1, 'nigella seed': 1, 'nutmeg': 1, 'oat': 1, 'orange oil': 1, 'parsley': 1, 'parsnip': 1, 'pear': 1, 'pecans': 1, 'pepper (spice)': 1, 'pili nut': 1, 'pine': 1, 'pine nut': 1, 'pink salmon': 1, 'pomes': 1, 'popcorn': 1, 'poppy seed': 1, 'pot marjoram': 1, 'provolone cheese': 1, 'pumpkin': 1, 'red raspberry': 1, 'ricotta cheese': 1, 'rocket salad': 1, 'rocket salad (ssp.)': 1, 'roibos tea': 1, 'roman camomile': 1, 'romano cheese': 1, 'roquefort cheese': 1, 'roseapple': 1, 'roselle': 1, 'rosemary': 1, 'scallop': 1, 'scotch spearmint': 1, 'sesame': 1, 'shallot': 1, 'sheep cheese': 1, 'soursop': 1, 'soybean oil': 1, 'spirit': 1, 'squid': 1, 'strawberry jam': 1, 'striped bass': 1, 'sunflower': 1, 'sweet grass': 1, 'swiss cheese': 1, 'taco': 1, 'tangerine': 1, 'taro': 1, 'tarragon': 1, 'thyme': 1, 'tilsit cheese': 1, 'trassi': 1, 'truffle': 1, 'turmeric': 1, 'watercress': 1, 'wattle': 1, 'white bread': 1, 'white cabbage': 1, 'wild leek': 1, 'wild rice': 1, 'yellow wax bean': 1, 'ylang-ylang': 1, 'yogurt': 1}\n"
     ]
    }
   ],
   "source": [
    "target = 'tomato'\n",
    "if target in G:\n",
    "    neighbors = {k:v['weight'] for k, v in G[target].items()}\n",
    "    neighbors = dict(sorted(neighbors.items(), key=lambda item: item[1], reverse=True))\n",
    "    print(neighbors)\n"
   ]
  },
  {
   "cell_type": "code",
   "execution_count": 12,
   "metadata": {},
   "outputs": [],
   "source": [
    "# N = nx.read_gexf(\"food-full.gexf\", node_type=str, relabel=True)"
   ]
  },
  {
   "cell_type": "code",
   "execution_count": null,
   "metadata": {},
   "outputs": [],
   "source": [
    "# pogrupować graf i pokazac grupy, mozna jakąś jedną w zoomie pokazać\n",
    "# networkx grupowanie mozna zobaczyc, infomap/infonode"
   ]
  },
  {
   "attachments": {},
   "cell_type": "markdown",
   "metadata": {},
   "source": [
    "### Louvain communities"
   ]
  },
  {
   "cell_type": "code",
   "execution_count": 51,
   "metadata": {},
   "outputs": [
    {
     "data": {
      "text/plain": [
       "6"
      ]
     },
     "execution_count": 51,
     "metadata": {},
     "output_type": "execute_result"
    }
   ],
   "source": [
    "partitions = nx.community.louvain_communities(G, weight='weight', resolution=1, seed=123)\n",
    "len(partitions)"
   ]
  },
  {
   "cell_type": "code",
   "execution_count": 65,
   "metadata": {},
   "outputs": [
    {
     "data": {
      "text/plain": [
       "[163, 136, 30, 139, 32, 78]"
      ]
     },
     "execution_count": 65,
     "metadata": {},
     "output_type": "execute_result"
    }
   ],
   "source": [
    "lenghts = [len(partition) for partition in partitions]\n",
    "lenghts"
   ]
  },
  {
   "cell_type": "code",
   "execution_count": 53,
   "metadata": {},
   "outputs": [
    {
     "name": "stdout",
     "output_type": "stream",
     "text": [
      "Partition 0: [(46, 'seasoning'), (44, 'herb'), (25, 'fruit'), (23, 'vegetable'), (7, 'fish'), (4, 'seafood'), (4, 'mushroom'), (2, 'nut'), (2, 'meat'), (2, 'beverage'), (1, 'none'), (1, 'grain'), (1, 'dairy'), (1, 'bean')]\n",
      "Partition 1: [(18, 'vegetable'), (15, 'seasoning'), (11, 'seafood'), (11, 'grain'), (10, 'beverage'), (10, 'bakery product'), (9, 'nut'), (8, 'meat'), (8, 'herb'), (8, 'fruit'), (8, 'dairy'), (7, 'fish'), (5, 'bean'), (4, 'mushroom'), (2, 'none'), (1, 'sugar'), (1, 'alcohol')]\n",
      "Partition 2: [(28, 'dairy'), (1, 'vegetable'), (1, 'fish')]\n",
      "Partition 3: [(71, 'fruit'), (36, 'alcohol'), (8, 'vegetable'), (4, 'seasoning'), (3, 'nut'), (3, 'none'), (2, 'sugar'), (2, 'meat'), (2, 'grain'), (2, 'fish'), (2, 'dairy'), (1, 'seafood'), (1, 'herb'), (1, 'beverage'), (1, 'bakery product')]\n",
      "Partition 4: [(15, 'vegetable'), (6, 'fruit'), (3, 'nut'), (2, 'seasoning'), (2, 'meat'), (2, 'fish'), (1, 'herb'), (1, 'grain')]\n",
      "Partition 5: [(31, 'vegetable'), (15, 'bean'), (8, 'herb'), (7, 'seasoning'), (4, 'grain'), (2, 'seafood'), (2, 'fish'), (1, 'sugar'), (1, 'nut'), (1, 'none'), (1, 'meat'), (1, 'fruit'), (1, 'dairy'), (1, 'beverage'), (1, 'bakery product'), (1, 'alcohol')]\n"
     ]
    }
   ],
   "source": [
    "for i, partition in enumerate(partitions):\n",
    "    food_cat = []\n",
    "    for food in list(partition):\n",
    "        food_cat.append(food_df.loc[food_df['food'] == food, 'category'].values[0])\n",
    "    values, counts = np.unique(food_cat, return_counts=True)\n",
    "    cats_print = dict(zip(values, counts))\n",
    "    print(f\"Partition {i}: {(sorted([(v, k) for k, v in cats_print.items()], reverse=True))}\")"
   ]
  },
  {
   "cell_type": "code",
   "execution_count": 47,
   "metadata": {},
   "outputs": [
    {
     "name": "stderr",
     "output_type": "stream",
     "text": [
      "30135it [00:00, 70707.72it/s]\n",
      "2080it [00:00, 64243.13it/s]\n",
      "13366it [00:00, 34963.80it/s]\n",
      "18915it [00:00, 65753.27it/s]\n"
     ]
    }
   ],
   "source": [
    "for i, partition in enumerate(partitions):\n",
    "    partition_foods = list(partition)\n",
    "    G = generate_food_graph(partition_foods,  \n",
    "                        food_df,\n",
    "                        molecules_to_include,\n",
    "                        food_molecule_dict,\n",
    "                        shared=0)\n",
    "    nx.write_gexf(G, f\"networks/partition_{i}.gexf\")"
   ]
  },
  {
   "cell_type": "code",
   "execution_count": 54,
   "metadata": {},
   "outputs": [
    {
     "data": {
      "text/plain": [
       "DegreeView({'abalone': 30, 'abiyuch': 40, 'achilleas': 393, 'alaska pollock': 12, 'alcoholic beverages': 403, 'alfalfa': 238, 'allium': 56, 'allspice': 254, 'almond': 165, 'amaranth': 178, 'american cranberry': 49, 'angelica': 395, 'anguilliformes': 46, 'anise': 174, 'anise brandy': 146, 'anise hyssop': 13, 'apple': 364, 'apple brandy': 218, 'apple cider vinegar': 257, 'apricot': 292, 'arabica coffee': 271, 'armagnac brandy': 146, 'arrack': 28, 'arrowhead': 96, 'artemisia': 70, 'artichoke': 55, 'asafoetida': 80, 'ashgourd': 20, 'asian pear': 279, 'asparagus': 233, 'atlantic croaker': 57, 'atlantic halibut': 243, 'avocado': 134, 'babaco': 39, 'bakery products': 25, 'banana': 345, 'bantu beer': 87, 'barley': 189, 'bartlett pear': 173, 'basil': 274, 'basmati rice': 138, 'beans': 284, 'beaver': 48, 'beef': 309, 'beef processed': 393, 'beer': 417, 'beli': 45, 'beluga whale': 49, 'bergamot': 75, 'berry': 95, 'bilberry': 241, 'bilberry wine': 248, 'bitter cherry': 76, 'bitter gourd': 12, 'bitter orange': 65, 'bittergourd': 97, 'black currant': 256, 'black elderberry': 154, 'black tea': 409, 'black walnut': 115, 'black-eyed pea': 41, 'blackberry': 409, 'blackberry brandy': 146, 'blackcurrant': 106, 'blue cheese': 233, 'blueberry': 105, 'bonito': 236, 'botrytized wine': 229, 'bottlegourd': 82, 'bourbon whisky': 242, 'bowhead whale': 147, 'brandy': 146, 'brassicas': 192, 'brazil nut': 39, 'bread': 100, 'breakfast cereal': 313, 'broad bean': 41, 'broccoli': 166, 'brussel sprouts': 71, 'brussels sprout': 95, 'buchu': 73, 'buckwheat': 235, 'burdock': 25, 'butter': 270, 'buttermilk': 16, 'butternut squash': 29, 'cabbage': 231, 'calabash': 19, 'calamus': 66, 'camembert cheese': 177, 'camphor': 57, 'canadian whisky': 237, 'canola oil': 238, 'capers': 31, 'capsicum': 325, 'caraway': 193, 'cardamom': 204, 'cardoon': 5, 'carob': 5, 'carom seed': 196, 'carrot': 314, 'cashew nut': 22, 'cassava': 39, 'cassia': 183, 'cauliflower': 303, 'caviar': 180, 'celeriac': 77, 'celery': 273, 'celery stalks': 209, 'cereals and cereal products': 313, 'ceylon cinnamon': 207, 'chamomile': 247, 'champagne': 311, 'cheddar cheese': 224, 'cheese': 161, 'cherimoya': 214, 'cherry': 49, 'cherry brandy': 148, 'cherry pepper': 46, 'cherry tomato': 213, 'chervil': 37, 'chia': 17, 'chicken': 310, 'chicory': 98, 'chinese cabbage': 27, 'chinese cinnamon': 146, 'chinese mustard': 32, 'chinese quince': 156, 'chive': 86, 'chives': 48, 'chocolate mousse': 41, 'cider': 207, 'cinnamon': 299, 'citronella': 51, 'citrus': 315, 'citrus fruits': 177, 'citrus peel oil': 210, 'clam': 172, 'clary sage': 96, 'cloudberry': 85, 'clove': 250, 'cloves': 202, 'cocoa': 384, 'cocoa and cocoa products': 263, 'cocoa bean': 282, 'cocoa powder': 21, 'coconut': 189, 'coffee': 352, 'coffee and coffee products': 263, 'cognac brandy': 368, 'colocasia': 274, 'colorado pinyon': 17, 'common bean': 67, 'common beet': 30, 'common buckwheat': 64, 'common cabbage': 31, 'common grape': 90, 'common hazelnut': 8, 'common mushroom': 150, 'common oregano': 203, 'common pea': 67, 'common persimmon': 32, 'common sage': 180, 'common thyme': 136, 'common walnut': 61, 'comte cheese': 219, 'coriander': 332, 'corn': 370, 'corn oil': 95, 'cornmint': 184, 'cottage cheese': 130, 'cottonseed': 57, 'cow milk, pasteurized, vitamin a + d added, 0% fat': 9, 'cow milk, pasteurized, vitamin a + d added, 1% fat': 9, 'cow milk, pasteurized, vitamin a + d added, 2% fat': 9, 'cow milk, pasteurized, vitamin d added, 3.25% fat': 9, 'cowpea': 41, 'cranberry': 283, 'crayfish': 116, 'cream': 128, 'cream cheese': 130, 'crispbread': 165, 'crustaceans': 67, 'cucumber': 197, 'cumin': 245, 'cupua\\x8du': 40, 'currant': 112, 'curry leaf': 116, 'dairy products': 23, 'dandelion': 41, 'dill': 256, 'domiati cheese': 130, 'drumstick leaf': 221, 'durian': 196, 'eggplant': 131, 'eggs': 50, 'elderberry': 228, 'emmental cheese': 130, 'endive': 130, 'epazote': 20, 'eucalyptus': 216, 'european cranberry': 11, 'evergreen blackberry': 393, 'fats and oils': 241, 'fatty fish': 98, 'feijoa': 103, 'fennel': 133, 'fenugreek': 153, 'feta cheese': 130, 'fig': 219, 'filbert': 258, 'finnish whisky': 252, 'fish': 174, 'fish oil': 145, 'fishes': 176, 'flaxseed': 154, 'french plantain': 25, 'fried potato': 249, 'fruit juice': 59, 'fruits': 464, 'garden cress': 31, 'garden onion': 183, 'garden onion (var.)': 188, 'garden tomato': 307, 'garden tomato (var.)': 259, 'garlic': 133, 'geranium': 81, 'german camomile': 156, 'giant butterbur': 29, 'ginger': 355, 'ginkgo nuts': 103, 'globe artichoke': 28, 'goat cheese': 276, 'gooseberry': 134, 'grape': 362, 'grape wine': 153, 'grapefruit': 227, 'grapefruit peel oil': 58, 'grapefruit/pummelo hybrid': 46, 'great horned owl': 144, 'green bean': 116, 'green beans': 304, 'green bell pepper': 233, 'green onion': 171, 'green tea': 404, 'green vegetables': 291, 'green zucchini': 22, 'groundcherry': 103, 'gruyere cheese': 250, 'guava': 337, 'ham': 160, 'hard wheat': 31, 'hazelnut': 60, 'herbal tea': 380, 'herbs and spices': 447, 'highbush blueberry': 78, 'hogplum': 68, 'honey': 163, 'hops oil': 367, 'horseradish': 32, 'hyacinth': 53, 'hyssop': 161, 'hyssop oil': 161, 'italian oregano': 36, 'italian sweet red pepper': 22, 'jackfruit': 73, 'jalapeno': 24, 'japanese whisky': 246, 'jasmine': 85, 'java plum': 15, 'jerusalem artichoke': 165, 'kale': 31, 'kelp': 55, 'kenaf': 239, 'kidney beans': 257, 'king mackerel': 31, 'kiwifruit': 155, 'kohlrabi': 248, 'krill': 149, 'kumquat': 136, 'lamb': 196, 'lambsquarters': 30, 'laurel': 260, 'lavendar': 152, 'lean fish': 326, 'leek': 108, 'lemon': 254, 'lemon balm': 256, 'lemon grass': 108, 'lemon peel oil': 247, 'lettuce': 161, 'lima bean': 41, 'lima beans': 284, 'limburger cheese': 142, 'lime': 198, 'linden': 48, 'lingcod': 30, 'lingonberry': 133, 'liqourice': 149, 'liquorice': 12, 'litchi': 75, 'lobster': 202, 'loganberry': 100, 'loquat': 151, 'lotus': 228, 'lovage': 212, 'lowbush blueberry': 76, 'macadamia nut': 70, 'mace': 84, 'maitake': 79, 'malt': 273, 'malt whisky': 283, 'mandarin orange': 237, 'mandarin orange (clementine, tangerine)': 238, 'mandarin orange peel oil': 122, 'mango': 337, 'marjoram': 215, 'marshmallow': 168, 'mastic gum': 234, 'mate': 172, 'meat': 200, 'melon': 334, 'mentha': 50, 'mentha oil': 131, 'milk': 251, 'milk (cow)': 186, 'milk and milk products': 266, 'milk fat': 59, 'milk powder': 98, 'mint': 226, 'miso': 41, 'mollusc': 182, 'mollusks': 64, 'morchella': 96, 'mountain papaya': 202, 'mozzarella cheese': 191, 'mugwort': 50, 'mung bean': 165, 'munster cheese': 207, 'mushroom': 265, 'mushrooms': 150, 'musk melon': 144, 'muskmelon': 144, 'mustard': 168, 'mustard oil': 9, 'mutton': 188, 'myrrh': 25, 'myrtle': 119, 'nance': 208, 'naranjilla': 40, 'narrowleaf cattail': 234, 'nigella seed': 165, 'north pacific giant octopus': 122, 'norway pout': 17, 'nutmeg': 168, 'nuts': 247, 'oat': 82, 'oats': 240, 'okra': 142, 'olive': 204, 'onion': 209, 'onion-family vegetables': 171, 'opossum': 247, 'orange': 350, 'orange bell pepper': 223, 'orange mint': 185, 'orange oil': 211, 'oregano': 223, 'oyster': 113, 'oyster mushroom': 150, 'papaya': 321, 'papaya brandy': 146, 'parmesan cheese': 298, 'parsley': 200, 'parsnip': 119, 'passion fruit': 39, 'passionfruit': 238, 'pasta': 36, 'pawpaw': 66, 'peach': 246, 'peanut': 300, 'peanut butter': 90, 'peanut oil': 109, 'pear': 219, 'pear brandy': 227, 'peas': 304, 'pecans': 125, 'pepper': 375, 'pepper (c. frutescens)': 168, 'pepper (spice)': 290, 'peppermint': 315, 'pigeon pea': 41, 'pili nut': 37, 'pine': 129, 'pine nut': 39, 'pineapple': 244, 'pineappple sage': 248, 'pink salmon': 121, 'pistachio': 32, 'pitanga': 40, 'plum': 234, 'plum brandy': 303, 'plum wine': 326, 'plumcot': 134, 'polar bear': 40, 'pomegranate': 122, 'pomes': 269, 'popcorn': 131, 'poppy seed': 108, 'pork': 293, 'port wine': 238, 'pot marjoram': 129, 'potato': 330, 'prairie turnip': 25, 'prawn': 17, 'prickly pear': 213, 'provolone cheese': 149, 'prunus (cherry, plum)': 12, 'pulses': 264, 'pummelo': 198, 'pumpkin': 61, 'pumpkinseed sunfish': 179, 'quince': 209, 'rabbit': 41, 'rabbiteye blueberry': 106, 'radish': 24, 'raisin': 168, 'raisin bread': 41, 'rape': 27, 'raspberry': 246, 'raspberry brandy': 168, 'red bell pepper': 233, 'red clover': 12, 'red currant': 120, 'red king crab': 32, 'red onion': 171, 'red raspberry': 128, 'red tea': 380, 'red wine': 313, 'redcurrant': 11, 'redskin onion': 23, 'rhubarb': 31, 'rice': 234, 'ricotta cheese': 95, 'robusta coffee': 263, 'rocket salad': 163, 'rocket salad (ssp.)': 163, 'roibos tea': 122, 'roman camomile': 176, 'romano cheese': 130, 'root vegetables': 203, 'roquefort cheese': 130, 'rose wine': 336, 'roseapple': 95, 'roselle': 96, 'rosemary': 238, 'rum': 354, 'russian cheese': 196, 'rye bread': 108, 'safflower': 220, 'saffron': 81, 'sage': 197, 'sake': 110, 'sapodilla': 59, 'sassafras': 34, 'savoy cabbage': 31, 'scallop': 75, 'scarlet bean': 41, 'scotch spearmint': 116, 'scotch whisky': 262, 'sea buckthorns': 209, 'sea trout': 150, 'sesame': 97, 'shallot': 46, 'sheep cheese': 130, 'sheep milk': 381, 'sherry': 305, 'shiitake': 60, 'shrimp': 190, 'silver linden': 381, 'smoked fish': 121, 'soft-necked garlic': 80, 'sour cherry': 110, 'sour orange': 36, 'soursop': 115, 'soy bean': 224, 'soy milk': 241, 'soy sauce': 41, 'soy yogurt': 41, 'soybean': 428, 'soybean oil': 52, 'soybean sauce': 76, 'spanish sage': 49, 'sparkling wine': 258, 'spearmint': 287, 'spinach': 206, 'spineless monkey orange': 115, 'spirit': 40, 'squid': 79, 'star anise': 163, 'starfruit': 227, 'strawberry': 324, 'strawberry jam': 94, 'strawberry wine': 230, 'striped bass': 154, 'sturgeon': 157, 'summer savory': 69, 'sunflower': 171, 'swede': 27, 'sweet basil': 211, 'sweet bay': 247, 'sweet cherry': 212, 'sweet grass': 138, 'sweet marjoram': 126, 'sweet orange': 215, 'sweetcorn': 73, 'swiss cheese': 215, 'taco': 100, 'tamarind': 277, 'tangerine': 80, 'taro': 166, 'tarragon': 158, 'tea': 444, 'thyme': 214, 'tilsit cheese': 130, 'tinda': 9, 'tobacco': 193, 'tofu': 41, 'tomato': 393, 'tortilla': 131, 'tortilla chip': 220, 'towel gourd': 12, 'trassi': 146, 'tree fern': 81, 'truffle': 245, 'turkey': 93, 'turkey berry': 199, 'turmeric': 157, 'turnip': 27, 'vanilla': 247, 'vegetable juice': 41, 'vinegar': 101, 'walnut': 189, 'wasabi': 32, 'water chestnut': 11, 'watercress': 50, 'watermelon': 133, 'wattle': 108, 'weinbrand brandy': 149, 'welsh onion': 171, 'wheat': 17, 'wheat bread': 17, 'wheaten bread': 217, 'whelk': 106, 'whisky': 237, 'white bread': 92, 'white cabbage': 77, 'white currant': 112, 'white mustard': 157, 'white pepper': 50, 'white wine': 351, 'wholewheat bread': 174, 'wild carrot': 250, 'wild celery': 250, 'wild cherry': 63, 'wild leek': 40, 'wild rice': 149, 'wine': 260, 'winter savory': 121, 'woodapple': 23, 'wort': 124, 'yali pear': 17, 'yam': 223, 'yellow bell pepper': 223, 'yellow passionfruit': 167, 'yellow wax bean': 89, 'ylang-ylang': 79, 'yogurt': 95})"
      ]
     },
     "execution_count": 54,
     "metadata": {},
     "output_type": "execute_result"
    }
   ],
   "source": [
    "G.degree"
   ]
  },
  {
   "cell_type": "code",
   "execution_count": 57,
   "metadata": {},
   "outputs": [
    {
     "data": {
      "text/plain": [
       "126.12307692307692"
      ]
     },
     "execution_count": 57,
     "metadata": {},
     "output_type": "execute_result"
    }
   ],
   "source": [
    "nnodes = G.number_of_nodes()\n",
    "deg = sum(d for n, d in G.degree()) / float(nnodes)\n",
    "deg"
   ]
  },
  {
   "attachments": {},
   "cell_type": "markdown",
   "metadata": {},
   "source": [
    "### Leiden communities"
   ]
  },
  {
   "cell_type": "code",
   "execution_count": 66,
   "metadata": {},
   "outputs": [
    {
     "data": {
      "text/plain": [
       "5"
      ]
     },
     "execution_count": 66,
     "metadata": {},
     "output_type": "execute_result"
    }
   ],
   "source": [
    "from cdlib import algorithms\n",
    "\n",
    "coms = algorithms.leiden(G)\n",
    "len(coms.communities)"
   ]
  },
  {
   "cell_type": "code",
   "execution_count": 75,
   "metadata": {},
   "outputs": [
    {
     "data": {
      "text/plain": [
       "['angelica',\n",
       " 'annual wild rice',\n",
       " 'arrowroot',\n",
       " 'broccoli',\n",
       " 'bulgur',\n",
       " 'capsicum',\n",
       " 'chard',\n",
       " 'climbing bean',\n",
       " 'common buckwheat',\n",
       " 'common wheat',\n",
       " 'comte cheese',\n",
       " 'corn',\n",
       " 'cornbread',\n",
       " 'cucumber',\n",
       " 'eggplant',\n",
       " 'european anchovy',\n",
       " 'fish',\n",
       " 'flour',\n",
       " 'green zucchini',\n",
       " 'ham',\n",
       " 'hard wheat',\n",
       " 'hops oil',\n",
       " 'japanese pumpkin',\n",
       " 'lettuce',\n",
       " 'lingcod',\n",
       " 'millet',\n",
       " 'nanking cherry',\n",
       " 'oat',\n",
       " 'oats',\n",
       " 'oil palm',\n",
       " 'olive',\n",
       " 'oriental wheat',\n",
       " 'pumpkin',\n",
       " 'quinoa',\n",
       " 'raccoon',\n",
       " 'red beetroot',\n",
       " 'red rice',\n",
       " 'romaine lettuce',\n",
       " 'rum',\n",
       " 'rye',\n",
       " 'saskatoon berry',\n",
       " 'shea tree',\n",
       " 'sorghum',\n",
       " 'spelt',\n",
       " 'sunburst squash (pattypan squash)',\n",
       " 'swiss chard',\n",
       " 'tartary buckwheat',\n",
       " 'teff',\n",
       " 'triticale',\n",
       " 'turnip',\n",
       " 'wheat',\n",
       " 'white cabbage',\n",
       " 'whitefish',\n",
       " 'yellow wax bean',\n",
       " 'yellow zucchini']"
      ]
     },
     "execution_count": 75,
     "metadata": {},
     "output_type": "execute_result"
    }
   ],
   "source": [
    "coms.communities[4]"
   ]
  },
  {
   "cell_type": "code",
   "execution_count": 67,
   "metadata": {},
   "outputs": [
    {
     "data": {
      "text/plain": [
       "[222, 221, 102, 70, 55]"
      ]
     },
     "execution_count": 67,
     "metadata": {},
     "output_type": "execute_result"
    }
   ],
   "source": [
    "lenghts = [len(partition) for partition in coms.communities]\n",
    "lenghts"
   ]
  },
  {
   "cell_type": "code",
   "execution_count": 73,
   "metadata": {},
   "outputs": [
    {
     "name": "stderr",
     "output_type": "stream",
     "text": [
      "24531it [00:00, 69899.42it/s]\n"
     ]
    },
    {
     "name": "stdout",
     "output_type": "stream",
     "text": [
      "== Community 0 ==\n",
      "Graph with 222 nodes and 16204 edges\n",
      "Average deegre: 145.981981981982\n",
      "Network diameter: 3\n",
      "Network density: 0.6605519546696017\n"
     ]
    },
    {
     "name": "stderr",
     "output_type": "stream",
     "text": [
      "24310it [00:00, 71605.71it/s]\n"
     ]
    },
    {
     "name": "stdout",
     "output_type": "stream",
     "text": [
      "== Community 1 ==\n",
      "Graph with 221 nodes and 15182 edges\n",
      "Average deegre: 137.39366515837105\n",
      "Network diameter: 4\n",
      "Network density: 0.6245166598107774\n"
     ]
    },
    {
     "name": "stderr",
     "output_type": "stream",
     "text": [
      "5151it [00:00, 68870.21it/s]\n"
     ]
    },
    {
     "name": "stdout",
     "output_type": "stream",
     "text": [
      "== Community 2 ==\n",
      "Graph with 102 nodes and 2773 edges\n",
      "Average deegre: 54.372549019607845\n",
      "Network diameter: 4\n",
      "Network density: 0.5383420695010678\n"
     ]
    },
    {
     "name": "stderr",
     "output_type": "stream",
     "text": [
      "2415it [00:00, 74869.50it/s]\n"
     ]
    },
    {
     "name": "stdout",
     "output_type": "stream",
     "text": [
      "== Community 3 ==\n",
      "Graph with 70 nodes and 1111 edges\n",
      "Average deegre: 31.742857142857144\n",
      "Network diameter: 3\n",
      "Network density: 0.4600414078674948\n"
     ]
    },
    {
     "name": "stderr",
     "output_type": "stream",
     "text": [
      "1485it [00:00, 72570.04it/s]"
     ]
    },
    {
     "name": "stdout",
     "output_type": "stream",
     "text": [
      "== Community 4 ==\n",
      "Graph with 55 nodes and 920 edges\n",
      "Average deegre: 33.45454545454545\n",
      "Network diameter: 2\n",
      "Network density: 0.6195286195286195\n"
     ]
    },
    {
     "name": "stderr",
     "output_type": "stream",
     "text": [
      "\n"
     ]
    }
   ],
   "source": [
    "for i, com in enumerate(coms.communities):\n",
    "    G = generate_food_graph(com,  \n",
    "                        food_df,\n",
    "                        molecules_to_include,\n",
    "                        food_molecule_dict,\n",
    "                        shared=0)\n",
    "    print(f\"== Community {i} ==\")\n",
    "    print(G)\n",
    "    find_graph_statistics(G)\n",
    "    nx.write_gexf(G, f\"networks/com_{i}.gexf\")"
   ]
  },
  {
   "cell_type": "code",
   "execution_count": 72,
   "metadata": {},
   "outputs": [
    {
     "name": "stdout",
     "output_type": "stream",
     "text": [
      "Partition 0: [(41, 'vegetable'), (36, 'meat'), (32, 'dairy'), (20, 'fruit'), (13, 'seafood'), (12, 'fish'), (11, 'seasoning'), (10, 'alcohol'), (8, 'grain'), (8, 'bakery product'), (7, 'nut'), (7, 'herb'), (7, 'bean'), (6, 'beverage'), (4, 'none')]\n",
      "Partition 1: [(55, 'seasoning'), (50, 'fruit'), (49, 'herb'), (29, 'vegetable'), (8, 'fish'), (7, 'beverage'), (5, 'nut'), (4, 'seafood'), (4, 'meat'), (3, 'mushroom'), (2, 'dairy'), (2, 'alcohol'), (1, 'sugar'), (1, 'none'), (1, 'grain')]\n",
      "Partition 2: [(36, 'fruit'), (26, 'alcohol'), (8, 'vegetable'), (6, 'seasoning'), (6, 'nut'), (4, 'dairy'), (3, 'bakery product'), (2, 'sugar'), (2, 'none'), (2, 'meat'), (2, 'herb'), (2, 'grain'), (2, 'fish'), (1, 'seafood')]\n",
      "Partition 3: [(14, 'bean'), (13, 'vegetable'), (12, 'fruit'), (6, 'seasoning'), (6, 'herb'), (5, 'mushroom'), (4, 'dairy'), (3, 'fish'), (2, 'seafood'), (2, 'grain'), (1, 'sugar'), (1, 'beverage'), (1, 'bakery product')]\n",
      "Partition 4: [(18, 'grain'), (16, 'vegetable'), (4, 'fish'), (3, 'seasoning'), (3, 'herb'), (3, 'fruit'), (2, 'meat'), (2, 'bean'), (2, 'bakery product'), (1, 'dairy'), (1, 'alcohol')]\n"
     ]
    }
   ],
   "source": [
    "for i, partition in enumerate(coms.communities):\n",
    "    if len(partition) < 2:\n",
    "        continue\n",
    "    else:\n",
    "        food_cat = []\n",
    "        for food in list(partition):\n",
    "            food_cat.append(food_df.loc[food_df['food'] == food, 'category'].values[0])\n",
    "        values, counts = np.unique(food_cat, return_counts=True)\n",
    "        cats_print = dict(zip(values, counts))\n",
    "        print(f\"Partition {i}: {(sorted([(v, k) for k, v in cats_print.items()], reverse=True))}\")"
   ]
  },
  {
   "cell_type": "code",
   "execution_count": 84,
   "metadata": {},
   "outputs": [],
   "source": [
    "def get_cluster_molecules(partition: list):\n",
    "    molecules_df = read_molecules()\n",
    "    cluster_df = food_df[food_df['food'].isin(partition)]\n",
    "    all_molecules = cluster_df['foodb_ids'].values.tolist()\n",
    "    cluster_molecules = [x for xs in all_molecules for x in xs]\n",
    "    c = Counter(cluster_molecules)\n",
    "\n",
    "    def map_to_name(key):\n",
    "        new_key = molecules_df.loc[molecules_df['foodbid'] == key, 'common name'].values\n",
    "        if new_key.size == 0:\n",
    "            return key\n",
    "        else:\n",
    "            return new_key[0] # molecules_df.loc[molecules_df['foodbid'] == key, 'common name'].values[0]\n",
    "    \n",
    "    molecules_count = {map_to_name(k):v for k, v in c.items()}\n",
    "    sorted_molecules_counts = dict(sorted(molecules_count.items(), key=lambda item: item[1], reverse=True))\n",
    "    sorted_count = dict(Counter(sorted_molecules_counts).most_common(5))\n",
    "    return sorted_count\n"
   ]
  },
  {
   "cell_type": "code",
   "execution_count": 85,
   "metadata": {},
   "outputs": [
    {
     "name": "stdout",
     "output_type": "stream",
     "text": [
      "{'lauric acid': 196, 'CID 644104': 194, 'Decanoic acid': 189, 'indole': 188, '2,3-butanedione': 188}\n",
      "{'phenylacetaldehyde': 203, 'Geraniol': 201, 'CID 644104': 201, '2-Phenylethanol': 200, 'benzyl alcohol': 200}\n",
      "{'cis-3-Hexenyl acetate': 90, 'CID 644104': 90, 'Isobutyraldehyde': 90, 'Propionaldehyde': 88, '2-Phenylethanol': 87}\n",
      "{'CID 644104': 69, 'betaine': 68, 'succinic acid': 67, 'L-histidine': 67, 'Decanoic acid': 66}\n",
      "{'succinic acid': 55, 'isoliquiritigenin': 55, 'Sinapic Acid': 55, 'octanoic acid': 55, 'Decanoic acid': 55}\n"
     ]
    }
   ],
   "source": [
    "for part in coms.communities:\n",
    "    print(get_cluster_molecules(part))"
   ]
  },
  {
   "cell_type": "code",
   "execution_count": 105,
   "metadata": {},
   "outputs": [
    {
     "data": {
      "text/plain": [
       "{'ginger': 0.000711392491235236,\n",
       " 'pepper (spice)': 0.0006365090711052112,\n",
       " 'pepper': 0.0006262976956329351,\n",
       " 'ceylon cinnamon': 0.000616086320160659,\n",
       " 'herbs and spices': 0.0005922597773920147,\n",
       " 'rosemary': 0.0005650294427992784,\n",
       " 'soy milk': 0.0005582218591510944,\n",
       " 'dill': 0.0005514142755029103,\n",
       " 'laurel': 0.000530991524558358,\n",
       " 'celery': 0.0005207801490860819,\n",
       " 'nutmeg': 0.0005139725654378978}"
      ]
     },
     "execution_count": 105,
     "metadata": {},
     "output_type": "execute_result"
    }
   ],
   "source": [
    "nx.panther_similarity(G, 'cinnamon', k=12, path_length=5, c=0.5, delta=0.1, eps=None)\n"
   ]
  },
  {
   "cell_type": "code",
   "execution_count": null,
   "metadata": {},
   "outputs": [],
   "source": [
    "def generate_food_graph(nodes, molecules_to_include, fm_dict, shared=20):\n",
    "    \"\"\"Function to generate NetworkX graphs with selection of foods&molecules\"\"\"\n",
    "    # Create an empty graph\n",
    "    G = nx.Graph()\n",
    "\n",
    "    # Add edges for shared molecules\n",
    "    for food1, food2 in tqdm(combinations(nodes, 2)):\n",
    "        molecules1 = set(fm_dict[food_df_part.loc[food_df_part['food_id']==food1, 'food'].iloc[0]])\n",
    "        molecules2 = set(fm_dict[food_df_part.loc[food_df_part['food_id']==food2, 'food'].iloc[0]])\n",
    "        shared_molecules = molecules1.intersection(molecules2)\n",
    "        shared_molecules_to_include = shared_molecules.intersection(molecules_to_include)\n",
    "        \n",
    "        if len(shared_molecules_to_include) > shared:\n",
    "            G.add_edge(food1, food2, weight=np.int64(len(shared_molecules_to_include)))\n",
    "    \n",
    "    return G"
   ]
  },
  {
   "cell_type": "code",
   "execution_count": null,
   "metadata": {},
   "outputs": [],
   "source": [
    "food_df_part = food_df.loc[food_df['food'].isin(partitions[i])]\n",
    "food_molecule_dict = dict(zip(food_df_part['food'], food_df_part['foodb_ids']))\n",
    "G = generate_food_graph(food_df_part['food_id'].values.tolist(), \n",
    "                    molecules_to_include, \n",
    "                    food_molecule_dict,\n",
    "                    shared=0)\n",
    "print(nx.density(G))"
   ]
  },
  {
   "attachments": {},
   "cell_type": "markdown",
   "metadata": {},
   "source": [
    "## Node2vec"
   ]
  },
  {
   "cell_type": "code",
   "execution_count": 107,
   "metadata": {},
   "outputs": [],
   "source": [
    "from node2vec import Node2Vec\n",
    "from gensim.models import Word2Vec"
   ]
  },
  {
   "cell_type": "code",
   "execution_count": 108,
   "metadata": {},
   "outputs": [
    {
     "data": {
      "application/vnd.jupyter.widget-view+json": {
       "model_id": "2d28802d38c2437f9eafc9d12b65b139",
       "version_major": 2,
       "version_minor": 0
      },
      "text/plain": [
       "Computing transition probabilities:   0%|          | 0/670 [00:00<?, ?it/s]"
      ]
     },
     "metadata": {},
     "output_type": "display_data"
    },
    {
     "name": "stderr",
     "output_type": "stream",
     "text": [
      "Generating walks (CPU: 1):   0%|          | 0/25 [00:00<?, ?it/s]\n",
      "\u001b[A\n",
      "\n",
      "Generating walks (CPU: 1):  12%|█▏        | 3/25 [00:00<00:01, 11.67it/s]\n",
      "\u001b[A\n",
      "\n",
      "Generating walks (CPU: 1):  20%|██        | 5/25 [00:00<00:02,  7.93it/s]\n",
      "\u001b[A\n",
      "\n",
      "Generating walks (CPU: 1):  24%|██▍       | 6/25 [00:01<00:03,  5.28it/s]\n",
      "\u001b[A\n",
      "\n",
      "Generating walks (CPU: 1):  28%|██▊       | 7/25 [00:01<00:03,  4.89it/s]\n",
      "\u001b[A\n",
      "\n",
      "Generating walks (CPU: 1):  32%|███▏      | 8/25 [00:01<00:03,  4.75it/s]\n",
      "\u001b[A\n",
      "\n",
      "Generating walks (CPU: 1):  36%|███▌      | 9/25 [00:01<00:03,  4.59it/s]\n",
      "\u001b[A\n",
      "\n",
      "Generating walks (CPU: 1):  40%|████      | 10/25 [00:01<00:03,  4.81it/s]\n",
      "\u001b[A\n",
      "\n",
      "Generating walks (CPU: 1):  44%|████▍     | 11/25 [00:02<00:02,  5.01it/s]\n",
      "\u001b[A\n",
      "\n",
      "Generating walks (CPU: 1):  48%|████▊     | 12/25 [00:02<00:02,  5.17it/s]\n",
      "\u001b[A\n",
      "\n",
      "Generating walks (CPU: 1):  52%|█████▏    | 13/25 [00:02<00:02,  5.29it/s]\n",
      "\u001b[A\n",
      "\n",
      "Generating walks (CPU: 1):  56%|█████▌    | 14/25 [00:02<00:02,  5.38it/s]\n",
      "\u001b[A\n",
      "\n",
      "Generating walks (CPU: 1):  60%|██████    | 15/25 [00:02<00:01,  5.23it/s]\n",
      "\u001b[A\n",
      "\n",
      "Generating walks (CPU: 1):  64%|██████▍   | 16/25 [00:03<00:01,  5.35it/s]\n",
      "\u001b[A\n",
      "\n",
      "Generating walks (CPU: 1):  68%|██████▊   | 17/25 [00:03<00:01,  5.39it/s]\n",
      "\u001b[A\n",
      "\n",
      "Generating walks (CPU: 1):  72%|███████▏  | 18/25 [00:03<00:01,  5.46it/s]\n",
      "\u001b[A\n",
      "\n",
      "Generating walks (CPU: 1):  76%|███████▌  | 19/25 [00:03<00:01,  4.41it/s]\n",
      "\u001b[A\n",
      "\n",
      "Generating walks (CPU: 1):  80%|████████  | 20/25 [00:03<00:01,  4.70it/s]\n",
      "\u001b[A\n",
      "\n",
      "Generating walks (CPU: 1):  84%|████████▍ | 21/25 [00:04<00:00,  4.93it/s]\n",
      "\u001b[A\n",
      "\n",
      "Generating walks (CPU: 1):  88%|████████▊ | 22/25 [00:04<00:00,  5.12it/s]\n",
      "\u001b[A\n",
      "\n",
      "Generating walks (CPU: 1):  92%|█████████▏| 23/25 [00:04<00:00,  5.27it/s]\n",
      "Generating walks (CPU: 3): 100%|██████████| 25/25 [00:04<00:00,  5.72it/s]\n",
      "\n",
      "Generating walks (CPU: 2): 100%|██████████| 25/25 [00:04<00:00,  5.82it/s]\n",
      "Generating walks (CPU: 1): 100%|██████████| 25/25 [00:04<00:00,  5.86it/s]\n",
      "Generating walks (CPU: 1): 100%|██████████| 25/25 [00:04<00:00,  5.22it/s]\n",
      "Generating walks (CPU: 4): 100%|██████████| 25/25 [00:04<00:00,  5.29it/s]\n"
     ]
    }
   ],
   "source": [
    "node2vec = Node2Vec(G, dimensions=128, walk_length=5, num_walks=100, workers=4, weight_key = 'weight', temp_folder='output')"
   ]
  },
  {
   "cell_type": "code",
   "execution_count": 109,
   "metadata": {},
   "outputs": [],
   "source": [
    "model = node2vec.fit(window=10, min_count=1)"
   ]
  },
  {
   "cell_type": "code",
   "execution_count": 27,
   "metadata": {},
   "outputs": [],
   "source": [
    "model.save('output/node2vec')"
   ]
  },
  {
   "cell_type": "code",
   "execution_count": 112,
   "metadata": {},
   "outputs": [
    {
     "data": {
      "text/plain": [
       "[('corn oil', 0.767562210559845),\n",
       " ('feijoa', 0.7613927125930786),\n",
       " ('mate', 0.7538378834724426),\n",
       " ('cherry tomato', 0.7343324422836304),\n",
       " ('starfruit', 0.7312519550323486),\n",
       " ('achilleas', 0.7302459478378296),\n",
       " ('gooseberry', 0.725249707698822),\n",
       " ('cherry', 0.7234303951263428),\n",
       " ('tortilla', 0.7188439965248108),\n",
       " ('sandalwood', 0.7170975804328918)]"
      ]
     },
     "execution_count": 112,
     "metadata": {},
     "output_type": "execute_result"
    }
   ],
   "source": [
    "model.wv.most_similar('tomato', topn=10)"
   ]
  },
  {
   "cell_type": "code",
   "execution_count": 15,
   "metadata": {},
   "outputs": [],
   "source": [
    "# model.load('node2vec.model')\n",
    "model = Word2Vec.load('output/node2vec.model')"
   ]
  },
  {
   "attachments": {},
   "cell_type": "markdown",
   "metadata": {},
   "source": [
    "### Embeddings visualization"
   ]
  },
  {
   "cell_type": "code",
   "execution_count": 28,
   "metadata": {},
   "outputs": [],
   "source": [
    "FOODS = ['tomato', 'onion', 'cinnamon', 'pepper'] #, 'beer', 'rice']\n",
    "\n",
    "embeddings = []\n",
    "words = []\n",
    "for target in FOODS:\n",
    "    for similar_word, _ in model.wv.most_similar(target, topn=15):\n",
    "        words.append(similar_word)\n",
    "        embeddings.append(model.wv[similar_word])"
   ]
  },
  {
   "cell_type": "code",
   "execution_count": 64,
   "metadata": {},
   "outputs": [],
   "source": [
    "from sklearn.manifold import TSNE\n",
    "import numpy as np\n",
    "\n",
    "tsne_model_en_2d = TSNE(metric='manhattan', perplexity=25, method=\"barnes_hut\", n_components=2, init='pca', n_iter=300, random_state=32)"
   ]
  },
  {
   "cell_type": "code",
   "execution_count": 65,
   "metadata": {},
   "outputs": [
    {
     "data": {
      "text/plain": [
       "(60, 128)"
      ]
     },
     "execution_count": 65,
     "metadata": {},
     "output_type": "execute_result"
    }
   ],
   "source": [
    "np.asarray(embeddings).shape"
   ]
  },
  {
   "cell_type": "code",
   "execution_count": 66,
   "metadata": {},
   "outputs": [],
   "source": [
    "tsne_embeddings = tsne_model_en_2d.fit_transform(np.asarray(embeddings))\n",
    "colors = np.concatenate([([i]*15) for i in FOODS], axis=0)"
   ]
  },
  {
   "cell_type": "code",
   "execution_count": 67,
   "metadata": {},
   "outputs": [],
   "source": [
    "import plotly.express as px\n",
    "import plotly.io as pio\n",
    "\n",
    "def plot_reduction(embedding, name):\n",
    "    fig = px.scatter(\n",
    "        embedding, \n",
    "        x=0, y=1, \n",
    "        color=colors,\n",
    "        text=words,\n",
    "        hover_data=[words],\n",
    "        labels={'hover_data_0':'food',\n",
    "                'color': 'target',\n",
    "                },\n",
    "    #text=flavor_df['food']\n",
    "    )\n",
    "    fig.update_traces(textposition='top center')\n",
    "\n",
    "    fig.update_layout(\n",
    "        legend = dict(\n",
    "            font = dict(\n",
    "                family = \"CMU Serif\", \n",
    "                size = 14,\n",
    "            )),\n",
    "        font=dict(\n",
    "            family=\"CMU Serif\",\n",
    "            size=10,\n",
    "        ),\n",
    "        title_font=dict(\n",
    "            family=\"CMU Serif\",\n",
    "            size=14, \n",
    "            ),)\n",
    "    fig.update_xaxes(title_font = dict(\n",
    "                family = \"CMU Serif\", \n",
    "                size = 14,\n",
    "            ))\n",
    "    fig.update_yaxes(title_font = dict(\n",
    "                family = \"CMU Serif\", \n",
    "                size = 14,\n",
    "            ))\n",
    "    fig.update_layout( \n",
    "        template = 'ggplot2', \n",
    "        height=500,\n",
    "        width = 900,\n",
    "        margin=dict(l=20, r=20, t=20, b=20),\n",
    "        # title_text='Visualization by  UMAP'\n",
    "    )\n",
    "    config = {\n",
    "    'toImageButtonOptions': {\n",
    "        'format': 'png', # one of png, svg, jpeg, webp\n",
    "        'height': 600,\n",
    "        'width': 900,\n",
    "        'scale':6 # Multiply title/legend/axis/canvas sizes by this factor\n",
    "    }\n",
    "    }\n",
    "    \n",
    "    fig.show(config=config)\n",
    "    pio.write_image(fig, f\"images/{name}.png\", scale=6, width=900, height=500)"
   ]
  },
  {
   "cell_type": "code",
   "execution_count": 68,
   "metadata": {},
   "outputs": [
    {
     "data": {
      "application/vnd.plotly.v1+json": {
       "config": {
        "plotlyServerURL": "https://plot.ly",
        "toImageButtonOptions": {
         "format": "png",
         "height": 600,
         "scale": 6,
         "width": 900
        }
       },
       "data": [
        {
         "customdata": [
          [
           "mango"
          ],
          [
           "banana"
          ],
          [
           "cognac brandy"
          ],
          [
           "beef processed"
          ],
          [
           "wholewheat bread"
          ],
          [
           "angelica"
          ],
          [
           "cocoa"
          ],
          [
           "blackberry"
          ],
          [
           "garden tomato"
          ],
          [
           "white wine"
          ],
          [
           "pork"
          ],
          [
           "vanilla"
          ],
          [
           "fried potato"
          ],
          [
           "butter"
          ],
          [
           "beer"
          ]
         ],
         "hovertemplate": "target=tomato<br>0=%{x}<br>1=%{y}<br>text=%{text}<br>food=%{customdata[0]}<extra></extra>",
         "legendgroup": "tomato",
         "marker": {
          "color": "#636efa",
          "symbol": "circle"
         },
         "mode": "markers+text",
         "name": "tomato",
         "orientation": "v",
         "showlegend": true,
         "text": [
          "mango",
          "banana",
          "cognac brandy",
          "beef processed",
          "wholewheat bread",
          "angelica",
          "cocoa",
          "blackberry",
          "garden tomato",
          "white wine",
          "pork",
          "vanilla",
          "fried potato",
          "butter",
          "beer"
         ],
         "textposition": "top center",
         "type": "scatter",
         "x": [
          -0.94656926,
          0.7850912,
          -0.15858623,
          -1.2753124,
          0.19178197,
          -2.2431855,
          -0.3527066,
          -1.2472315,
          1.9428222,
          -0.33896893,
          -2.0950592,
          0.7595534,
          -1.1431574,
          -1.9354265,
          -1.0288962
         ],
         "xaxis": "x",
         "y": [
          1.0500537,
          1.1054091,
          1.5939568,
          2.955092,
          -0.17848378,
          1.725108,
          2.656649,
          0.2222641,
          0.63288534,
          0.8607281,
          2.8715575,
          2.2978609,
          4.0096135,
          1.0206215,
          1.9502945
         ],
         "yaxis": "y"
        },
        {
         "customdata": [
          [
           "garden onion"
          ],
          [
           "red onion"
          ],
          [
           "green onion"
          ],
          [
           "welsh onion"
          ],
          [
           "garden onion (var.)"
          ],
          [
           "chive"
          ],
          [
           "redskin onion"
          ],
          [
           "allium"
          ],
          [
           "chives"
          ],
          [
           "leek"
          ],
          [
           "garlic"
          ],
          [
           "onion-family vegetables"
          ],
          [
           "shallot"
          ],
          [
           "soft-necked garlic"
          ],
          [
           "red king crab"
          ]
         ],
         "hovertemplate": "target=onion<br>0=%{x}<br>1=%{y}<br>text=%{text}<br>food=%{customdata[0]}<extra></extra>",
         "legendgroup": "onion",
         "marker": {
          "color": "#EF553B",
          "symbol": "circle"
         },
         "mode": "markers+text",
         "name": "onion",
         "orientation": "v",
         "showlegend": true,
         "text": [
          "garden onion",
          "red onion",
          "green onion",
          "welsh onion",
          "garden onion (var.)",
          "chive",
          "redskin onion",
          "allium",
          "chives",
          "leek",
          "garlic",
          "onion-family vegetables",
          "shallot",
          "soft-necked garlic",
          "red king crab"
         ],
         "textposition": "top center",
         "type": "scatter",
         "x": [
          5.574071,
          5.375257,
          4.7677665,
          5.647767,
          5.4554453,
          4.4628882,
          9.858831,
          7.90521,
          6.8010926,
          3.1574428,
          5.083482,
          6.198903,
          3.5826688,
          5.091835,
          3.6820998
         ],
         "xaxis": "x",
         "y": [
          8.48055,
          6.958353,
          7.5085945,
          6.6107497,
          7.6872725,
          6.29688,
          6.2580395,
          7.2648735,
          5.883426,
          6.586882,
          5.202123,
          7.400914,
          7.7001987,
          4.707637,
          9.4134865
         ],
         "yaxis": "y"
        },
        {
         "customdata": [
          [
           "ceylon cinnamon"
          ],
          [
           "pepper (spice)"
          ],
          [
           "nutmeg"
          ],
          [
           "winter savory"
          ],
          [
           "common oregano"
          ],
          [
           "sweet basil"
          ],
          [
           "pot marjoram"
          ],
          [
           "north pacific giant octopus"
          ],
          [
           "sweet bay"
          ],
          [
           "star anise"
          ],
          [
           "hyssop"
          ],
          [
           "cardamom"
          ],
          [
           "hyssop oil"
          ],
          [
           "basil"
          ],
          [
           "fennel"
          ]
         ],
         "hovertemplate": "target=cinnamon<br>0=%{x}<br>1=%{y}<br>text=%{text}<br>food=%{customdata[0]}<extra></extra>",
         "legendgroup": "cinnamon",
         "marker": {
          "color": "#00cc96",
          "symbol": "circle"
         },
         "mode": "markers+text",
         "name": "cinnamon",
         "orientation": "v",
         "showlegend": true,
         "text": [
          "ceylon cinnamon",
          "pepper (spice)",
          "nutmeg",
          "winter savory",
          "common oregano",
          "sweet basil",
          "pot marjoram",
          "north pacific giant octopus",
          "sweet bay",
          "star anise",
          "hyssop",
          "cardamom",
          "hyssop oil",
          "basil",
          "fennel"
         ],
         "textposition": "top center",
         "type": "scatter",
         "x": [
          -3.7224092,
          -1.7831156,
          -0.02011615,
          -4.3988013,
          -1.9251117,
          -2.8443806,
          -0.24225986,
          -0.6078365,
          -2.7197568,
          -1.8842663,
          -3.79572,
          -3.516061,
          -2.9185278,
          -3.8368888,
          -1.6768088
         ],
         "xaxis": "x",
         "y": [
          -7.238842,
          -6.197407,
          -6.041884,
          -6.4856763,
          -4.928885,
          -4.9729233,
          -4.690063,
          -6.973677,
          -3.8076358,
          -7.816586,
          -5.6728835,
          -8.393031,
          -6.729556,
          -4.6918244,
          -9.124338
         ],
         "yaxis": "y"
        },
        {
         "customdata": [
          [
           "pepper (spice)"
          ],
          [
           "yellow bell pepper"
          ],
          [
           "green bell pepper"
          ],
          [
           "oregano"
          ],
          [
           "sweet bay"
          ],
          [
           "yam"
          ],
          [
           "red bell pepper"
          ],
          [
           "laurel"
          ],
          [
           "wild carrot"
          ],
          [
           "apple cider vinegar"
          ],
          [
           "orange bell pepper"
          ],
          [
           "nutmeg"
          ],
          [
           "lobster"
          ],
          [
           "star anise"
          ],
          [
           "ginger"
          ]
         ],
         "hovertemplate": "target=pepper<br>0=%{x}<br>1=%{y}<br>text=%{text}<br>food=%{customdata[0]}<extra></extra>",
         "legendgroup": "pepper",
         "marker": {
          "color": "#ab63fa",
          "symbol": "circle"
         },
         "mode": "markers+text",
         "name": "pepper",
         "orientation": "v",
         "showlegend": true,
         "text": [
          "pepper (spice)",
          "yellow bell pepper",
          "green bell pepper",
          "oregano",
          "sweet bay",
          "yam",
          "red bell pepper",
          "laurel",
          "wild carrot",
          "apple cider vinegar",
          "orange bell pepper",
          "nutmeg",
          "lobster",
          "star anise",
          "ginger"
         ],
         "textposition": "top center",
         "type": "scatter",
         "x": [
          -1.7831156,
          -5.8424582,
          -5.8711677,
          -2.7659624,
          -2.7197568,
          -5.4695754,
          -5.138901,
          -1.1916428,
          -0.33842355,
          -1.2353435,
          -4.854796,
          -0.02011615,
          1.2271298,
          -1.8842663,
          -1.7344301
         ],
         "xaxis": "x",
         "y": [
          -6.197407,
          -0.96435726,
          -0.502649,
          -5.768271,
          -3.8076358,
          -1.774577,
          -0.23921394,
          -5.364789,
          -8.075234,
          -4.141068,
          -1.0415045,
          -6.041884,
          -7.530549,
          -7.816586,
          -2.8968585
         ],
         "yaxis": "y"
        }
       ],
       "layout": {
        "font": {
         "family": "CMU Serif",
         "size": 10
        },
        "height": 500,
        "legend": {
         "font": {
          "family": "CMU Serif",
          "size": 14
         },
         "title": {
          "text": "target"
         },
         "tracegroupgap": 0
        },
        "margin": {
         "b": 20,
         "l": 20,
         "r": 20,
         "t": 20
        },
        "template": {
         "data": {
          "bar": [
           {
            "error_x": {
             "color": "rgb(51,51,51)"
            },
            "error_y": {
             "color": "rgb(51,51,51)"
            },
            "marker": {
             "line": {
              "color": "rgb(237,237,237)",
              "width": 0.5
             },
             "pattern": {
              "fillmode": "overlay",
              "size": 10,
              "solidity": 0.2
             }
            },
            "type": "bar"
           }
          ],
          "barpolar": [
           {
            "marker": {
             "line": {
              "color": "rgb(237,237,237)",
              "width": 0.5
             },
             "pattern": {
              "fillmode": "overlay",
              "size": 10,
              "solidity": 0.2
             }
            },
            "type": "barpolar"
           }
          ],
          "carpet": [
           {
            "aaxis": {
             "endlinecolor": "rgb(51,51,51)",
             "gridcolor": "white",
             "linecolor": "white",
             "minorgridcolor": "white",
             "startlinecolor": "rgb(51,51,51)"
            },
            "baxis": {
             "endlinecolor": "rgb(51,51,51)",
             "gridcolor": "white",
             "linecolor": "white",
             "minorgridcolor": "white",
             "startlinecolor": "rgb(51,51,51)"
            },
            "type": "carpet"
           }
          ],
          "choropleth": [
           {
            "colorbar": {
             "outlinewidth": 0,
             "tickcolor": "rgb(237,237,237)",
             "ticklen": 6,
             "ticks": "inside"
            },
            "type": "choropleth"
           }
          ],
          "contour": [
           {
            "colorbar": {
             "outlinewidth": 0,
             "tickcolor": "rgb(237,237,237)",
             "ticklen": 6,
             "ticks": "inside"
            },
            "colorscale": [
             [
              0,
              "rgb(20,44,66)"
             ],
             [
              1,
              "rgb(90,179,244)"
             ]
            ],
            "type": "contour"
           }
          ],
          "contourcarpet": [
           {
            "colorbar": {
             "outlinewidth": 0,
             "tickcolor": "rgb(237,237,237)",
             "ticklen": 6,
             "ticks": "inside"
            },
            "type": "contourcarpet"
           }
          ],
          "heatmap": [
           {
            "colorbar": {
             "outlinewidth": 0,
             "tickcolor": "rgb(237,237,237)",
             "ticklen": 6,
             "ticks": "inside"
            },
            "colorscale": [
             [
              0,
              "rgb(20,44,66)"
             ],
             [
              1,
              "rgb(90,179,244)"
             ]
            ],
            "type": "heatmap"
           }
          ],
          "heatmapgl": [
           {
            "colorbar": {
             "outlinewidth": 0,
             "tickcolor": "rgb(237,237,237)",
             "ticklen": 6,
             "ticks": "inside"
            },
            "colorscale": [
             [
              0,
              "rgb(20,44,66)"
             ],
             [
              1,
              "rgb(90,179,244)"
             ]
            ],
            "type": "heatmapgl"
           }
          ],
          "histogram": [
           {
            "marker": {
             "pattern": {
              "fillmode": "overlay",
              "size": 10,
              "solidity": 0.2
             }
            },
            "type": "histogram"
           }
          ],
          "histogram2d": [
           {
            "colorbar": {
             "outlinewidth": 0,
             "tickcolor": "rgb(237,237,237)",
             "ticklen": 6,
             "ticks": "inside"
            },
            "colorscale": [
             [
              0,
              "rgb(20,44,66)"
             ],
             [
              1,
              "rgb(90,179,244)"
             ]
            ],
            "type": "histogram2d"
           }
          ],
          "histogram2dcontour": [
           {
            "colorbar": {
             "outlinewidth": 0,
             "tickcolor": "rgb(237,237,237)",
             "ticklen": 6,
             "ticks": "inside"
            },
            "colorscale": [
             [
              0,
              "rgb(20,44,66)"
             ],
             [
              1,
              "rgb(90,179,244)"
             ]
            ],
            "type": "histogram2dcontour"
           }
          ],
          "mesh3d": [
           {
            "colorbar": {
             "outlinewidth": 0,
             "tickcolor": "rgb(237,237,237)",
             "ticklen": 6,
             "ticks": "inside"
            },
            "type": "mesh3d"
           }
          ],
          "parcoords": [
           {
            "line": {
             "colorbar": {
              "outlinewidth": 0,
              "tickcolor": "rgb(237,237,237)",
              "ticklen": 6,
              "ticks": "inside"
             }
            },
            "type": "parcoords"
           }
          ],
          "pie": [
           {
            "automargin": true,
            "type": "pie"
           }
          ],
          "scatter": [
           {
            "fillpattern": {
             "fillmode": "overlay",
             "size": 10,
             "solidity": 0.2
            },
            "type": "scatter"
           }
          ],
          "scatter3d": [
           {
            "line": {
             "colorbar": {
              "outlinewidth": 0,
              "tickcolor": "rgb(237,237,237)",
              "ticklen": 6,
              "ticks": "inside"
             }
            },
            "marker": {
             "colorbar": {
              "outlinewidth": 0,
              "tickcolor": "rgb(237,237,237)",
              "ticklen": 6,
              "ticks": "inside"
             }
            },
            "type": "scatter3d"
           }
          ],
          "scattercarpet": [
           {
            "marker": {
             "colorbar": {
              "outlinewidth": 0,
              "tickcolor": "rgb(237,237,237)",
              "ticklen": 6,
              "ticks": "inside"
             }
            },
            "type": "scattercarpet"
           }
          ],
          "scattergeo": [
           {
            "marker": {
             "colorbar": {
              "outlinewidth": 0,
              "tickcolor": "rgb(237,237,237)",
              "ticklen": 6,
              "ticks": "inside"
             }
            },
            "type": "scattergeo"
           }
          ],
          "scattergl": [
           {
            "marker": {
             "colorbar": {
              "outlinewidth": 0,
              "tickcolor": "rgb(237,237,237)",
              "ticklen": 6,
              "ticks": "inside"
             }
            },
            "type": "scattergl"
           }
          ],
          "scattermapbox": [
           {
            "marker": {
             "colorbar": {
              "outlinewidth": 0,
              "tickcolor": "rgb(237,237,237)",
              "ticklen": 6,
              "ticks": "inside"
             }
            },
            "type": "scattermapbox"
           }
          ],
          "scatterpolar": [
           {
            "marker": {
             "colorbar": {
              "outlinewidth": 0,
              "tickcolor": "rgb(237,237,237)",
              "ticklen": 6,
              "ticks": "inside"
             }
            },
            "type": "scatterpolar"
           }
          ],
          "scatterpolargl": [
           {
            "marker": {
             "colorbar": {
              "outlinewidth": 0,
              "tickcolor": "rgb(237,237,237)",
              "ticklen": 6,
              "ticks": "inside"
             }
            },
            "type": "scatterpolargl"
           }
          ],
          "scatterternary": [
           {
            "marker": {
             "colorbar": {
              "outlinewidth": 0,
              "tickcolor": "rgb(237,237,237)",
              "ticklen": 6,
              "ticks": "inside"
             }
            },
            "type": "scatterternary"
           }
          ],
          "surface": [
           {
            "colorbar": {
             "outlinewidth": 0,
             "tickcolor": "rgb(237,237,237)",
             "ticklen": 6,
             "ticks": "inside"
            },
            "colorscale": [
             [
              0,
              "rgb(20,44,66)"
             ],
             [
              1,
              "rgb(90,179,244)"
             ]
            ],
            "type": "surface"
           }
          ],
          "table": [
           {
            "cells": {
             "fill": {
              "color": "rgb(237,237,237)"
             },
             "line": {
              "color": "white"
             }
            },
            "header": {
             "fill": {
              "color": "rgb(217,217,217)"
             },
             "line": {
              "color": "white"
             }
            },
            "type": "table"
           }
          ]
         },
         "layout": {
          "annotationdefaults": {
           "arrowhead": 0,
           "arrowwidth": 1
          },
          "autotypenumbers": "strict",
          "coloraxis": {
           "colorbar": {
            "outlinewidth": 0,
            "tickcolor": "rgb(237,237,237)",
            "ticklen": 6,
            "ticks": "inside"
           }
          },
          "colorscale": {
           "sequential": [
            [
             0,
             "rgb(20,44,66)"
            ],
            [
             1,
             "rgb(90,179,244)"
            ]
           ],
           "sequentialminus": [
            [
             0,
             "rgb(20,44,66)"
            ],
            [
             1,
             "rgb(90,179,244)"
            ]
           ]
          },
          "colorway": [
           "#F8766D",
           "#A3A500",
           "#00BF7D",
           "#00B0F6",
           "#E76BF3"
          ],
          "font": {
           "color": "rgb(51,51,51)"
          },
          "geo": {
           "bgcolor": "white",
           "lakecolor": "white",
           "landcolor": "rgb(237,237,237)",
           "showlakes": true,
           "showland": true,
           "subunitcolor": "white"
          },
          "hoverlabel": {
           "align": "left"
          },
          "hovermode": "closest",
          "paper_bgcolor": "white",
          "plot_bgcolor": "rgb(237,237,237)",
          "polar": {
           "angularaxis": {
            "gridcolor": "white",
            "linecolor": "white",
            "showgrid": true,
            "tickcolor": "rgb(51,51,51)",
            "ticks": "outside"
           },
           "bgcolor": "rgb(237,237,237)",
           "radialaxis": {
            "gridcolor": "white",
            "linecolor": "white",
            "showgrid": true,
            "tickcolor": "rgb(51,51,51)",
            "ticks": "outside"
           }
          },
          "scene": {
           "xaxis": {
            "backgroundcolor": "rgb(237,237,237)",
            "gridcolor": "white",
            "gridwidth": 2,
            "linecolor": "white",
            "showbackground": true,
            "showgrid": true,
            "tickcolor": "rgb(51,51,51)",
            "ticks": "outside",
            "zerolinecolor": "white"
           },
           "yaxis": {
            "backgroundcolor": "rgb(237,237,237)",
            "gridcolor": "white",
            "gridwidth": 2,
            "linecolor": "white",
            "showbackground": true,
            "showgrid": true,
            "tickcolor": "rgb(51,51,51)",
            "ticks": "outside",
            "zerolinecolor": "white"
           },
           "zaxis": {
            "backgroundcolor": "rgb(237,237,237)",
            "gridcolor": "white",
            "gridwidth": 2,
            "linecolor": "white",
            "showbackground": true,
            "showgrid": true,
            "tickcolor": "rgb(51,51,51)",
            "ticks": "outside",
            "zerolinecolor": "white"
           }
          },
          "shapedefaults": {
           "fillcolor": "black",
           "line": {
            "width": 0
           },
           "opacity": 0.3
          },
          "ternary": {
           "aaxis": {
            "gridcolor": "white",
            "linecolor": "white",
            "showgrid": true,
            "tickcolor": "rgb(51,51,51)",
            "ticks": "outside"
           },
           "baxis": {
            "gridcolor": "white",
            "linecolor": "white",
            "showgrid": true,
            "tickcolor": "rgb(51,51,51)",
            "ticks": "outside"
           },
           "bgcolor": "rgb(237,237,237)",
           "caxis": {
            "gridcolor": "white",
            "linecolor": "white",
            "showgrid": true,
            "tickcolor": "rgb(51,51,51)",
            "ticks": "outside"
           }
          },
          "xaxis": {
           "automargin": true,
           "gridcolor": "white",
           "linecolor": "white",
           "showgrid": true,
           "tickcolor": "rgb(51,51,51)",
           "ticks": "outside",
           "title": {
            "standoff": 15
           },
           "zerolinecolor": "white"
          },
          "yaxis": {
           "automargin": true,
           "gridcolor": "white",
           "linecolor": "white",
           "showgrid": true,
           "tickcolor": "rgb(51,51,51)",
           "ticks": "outside",
           "title": {
            "standoff": 15
           },
           "zerolinecolor": "white"
          }
         }
        },
        "title": {
         "font": {
          "family": "CMU Serif",
          "size": 14
         }
        },
        "width": 900,
        "xaxis": {
         "anchor": "y",
         "domain": [
          0,
          1
         ],
         "title": {
          "font": {
           "family": "CMU Serif",
           "size": 14
          },
          "text": "0"
         }
        },
        "yaxis": {
         "anchor": "x",
         "domain": [
          0,
          1
         ],
         "title": {
          "font": {
           "family": "CMU Serif",
           "size": 14
          },
          "text": "1"
         }
        }
       }
      }
     },
     "metadata": {},
     "output_type": "display_data"
    }
   ],
   "source": [
    "plot_reduction(tsne_embeddings, 'node2vec')"
   ]
  },
  {
   "cell_type": "code",
   "execution_count": null,
   "metadata": {},
   "outputs": [],
   "source": [
    "# Train logistic regression classifier on train-set edge embeddings\n",
    "from sklearn.linear_model import LogisticRegression\n",
    "edge_classifier = LogisticRegression(random_state=0)\n",
    "edge_classifier.fit(train_edge_embs, train_edge_labels)"
   ]
  }
 ],
 "metadata": {
  "kernelspec": {
   "display_name": "Python 3",
   "language": "python",
   "name": "python3"
  },
  "language_info": {
   "codemirror_mode": {
    "name": "ipython",
    "version": 3
   },
   "file_extension": ".py",
   "mimetype": "text/x-python",
   "name": "python",
   "nbconvert_exporter": "python",
   "pygments_lexer": "ipython3",
   "version": "3.11.6"
  },
  "orig_nbformat": 4
 },
 "nbformat": 4,
 "nbformat_minor": 2
}
